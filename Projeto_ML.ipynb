{
  "nbformat": 4,
  "nbformat_minor": 0,
  "metadata": {
    "colab": {
      "provenance": []
    },
    "kernelspec": {
      "name": "python3",
      "display_name": "Python 3"
    },
    "language_info": {
      "name": "python"
    }
  },
  "cells": [
    {
      "cell_type": "code",
      "execution_count": null,
      "metadata": {
        "id": "t7aNvpyKbeU8"
      },
      "outputs": [],
      "source": [
        "import pandas as pd"
      ]
    },
    {
      "cell_type": "code",
      "source": [
        "dados = pd.read_csv('/content/Customer-Churn.csv')"
      ],
      "metadata": {
        "id": "uLyYhYNOb-GQ"
      },
      "execution_count": null,
      "outputs": []
    },
    {
      "cell_type": "code",
      "source": [
        "dados.shape"
      ],
      "metadata": {
        "colab": {
          "base_uri": "https://localhost:8080/"
        },
        "id": "T2CMqsYpcLBt",
        "outputId": "55e8f303-2415-4a8a-c57a-849e51fbc1b4"
      },
      "execution_count": null,
      "outputs": [
        {
          "output_type": "execute_result",
          "data": {
            "text/plain": [
              "(7043, 18)"
            ]
          },
          "metadata": {},
          "execution_count": 5
        }
      ]
    },
    {
      "cell_type": "code",
      "source": [
        "dados.head()"
      ],
      "metadata": {
        "colab": {
          "base_uri": "https://localhost:8080/",
          "height": 270
        },
        "id": "smqTRaCwcNMP",
        "outputId": "66ef2f1c-aa7b-45b2-dab0-2f26dfacfe8b"
      },
      "execution_count": null,
      "outputs": [
        {
          "output_type": "execute_result",
          "data": {
            "text/plain": [
              "   Maior65Anos Conjuge Dependentes  MesesDeContrato TelefoneFixo  \\\n",
              "0            0     Sim         Nao                1          Nao   \n",
              "1            0     Nao         Nao               34          Sim   \n",
              "2            0     Nao         Nao                2          Sim   \n",
              "3            0     Nao         Nao               45          Nao   \n",
              "4            0     Nao         Nao                2          Sim   \n",
              "\n",
              "  VariasLinhasTelefonicas ServicoDeInternet SegurancaOnline BackupOnline  \\\n",
              "0    SemServicoTelefonico               DSL             Nao          Sim   \n",
              "1                     Nao               DSL             Sim          Nao   \n",
              "2                     Nao               DSL             Sim          Sim   \n",
              "3    SemServicoTelefonico               DSL             Sim          Nao   \n",
              "4                     Nao       FibraOptica             Nao          Nao   \n",
              "\n",
              "  SeguroNoDispositivo SuporteTecnico TVaCabo StreamingDeFilmes TipoDeContrato  \\\n",
              "0                 Nao            Nao     Nao               Nao    Mensalmente   \n",
              "1                 Sim            Nao     Nao               Nao          UmAno   \n",
              "2                 Nao            Nao     Nao               Nao    Mensalmente   \n",
              "3                 Sim            Sim     Nao               Nao          UmAno   \n",
              "4                 Nao            Nao     Nao               Nao    Mensalmente   \n",
              "\n",
              "  PagamentoOnline FormaDePagamento  ContaMensal Churn  \n",
              "0             Sim    ChequeDigital        29.85   Nao  \n",
              "1             Nao      ChequePapel        56.95   Nao  \n",
              "2             Sim      ChequePapel        53.85   Sim  \n",
              "3             Nao    DebitoEmConta        42.30   Nao  \n",
              "4             Sim    ChequeDigital        70.70   Sim  "
            ],
            "text/html": [
              "\n",
              "\n",
              "  <div id=\"df-fef6a024-a691-4486-8975-9ee376a1afb2\">\n",
              "    <div class=\"colab-df-container\">\n",
              "      <div>\n",
              "<style scoped>\n",
              "    .dataframe tbody tr th:only-of-type {\n",
              "        vertical-align: middle;\n",
              "    }\n",
              "\n",
              "    .dataframe tbody tr th {\n",
              "        vertical-align: top;\n",
              "    }\n",
              "\n",
              "    .dataframe thead th {\n",
              "        text-align: right;\n",
              "    }\n",
              "</style>\n",
              "<table border=\"1\" class=\"dataframe\">\n",
              "  <thead>\n",
              "    <tr style=\"text-align: right;\">\n",
              "      <th></th>\n",
              "      <th>Maior65Anos</th>\n",
              "      <th>Conjuge</th>\n",
              "      <th>Dependentes</th>\n",
              "      <th>MesesDeContrato</th>\n",
              "      <th>TelefoneFixo</th>\n",
              "      <th>VariasLinhasTelefonicas</th>\n",
              "      <th>ServicoDeInternet</th>\n",
              "      <th>SegurancaOnline</th>\n",
              "      <th>BackupOnline</th>\n",
              "      <th>SeguroNoDispositivo</th>\n",
              "      <th>SuporteTecnico</th>\n",
              "      <th>TVaCabo</th>\n",
              "      <th>StreamingDeFilmes</th>\n",
              "      <th>TipoDeContrato</th>\n",
              "      <th>PagamentoOnline</th>\n",
              "      <th>FormaDePagamento</th>\n",
              "      <th>ContaMensal</th>\n",
              "      <th>Churn</th>\n",
              "    </tr>\n",
              "  </thead>\n",
              "  <tbody>\n",
              "    <tr>\n",
              "      <th>0</th>\n",
              "      <td>0</td>\n",
              "      <td>Sim</td>\n",
              "      <td>Nao</td>\n",
              "      <td>1</td>\n",
              "      <td>Nao</td>\n",
              "      <td>SemServicoTelefonico</td>\n",
              "      <td>DSL</td>\n",
              "      <td>Nao</td>\n",
              "      <td>Sim</td>\n",
              "      <td>Nao</td>\n",
              "      <td>Nao</td>\n",
              "      <td>Nao</td>\n",
              "      <td>Nao</td>\n",
              "      <td>Mensalmente</td>\n",
              "      <td>Sim</td>\n",
              "      <td>ChequeDigital</td>\n",
              "      <td>29.85</td>\n",
              "      <td>Nao</td>\n",
              "    </tr>\n",
              "    <tr>\n",
              "      <th>1</th>\n",
              "      <td>0</td>\n",
              "      <td>Nao</td>\n",
              "      <td>Nao</td>\n",
              "      <td>34</td>\n",
              "      <td>Sim</td>\n",
              "      <td>Nao</td>\n",
              "      <td>DSL</td>\n",
              "      <td>Sim</td>\n",
              "      <td>Nao</td>\n",
              "      <td>Sim</td>\n",
              "      <td>Nao</td>\n",
              "      <td>Nao</td>\n",
              "      <td>Nao</td>\n",
              "      <td>UmAno</td>\n",
              "      <td>Nao</td>\n",
              "      <td>ChequePapel</td>\n",
              "      <td>56.95</td>\n",
              "      <td>Nao</td>\n",
              "    </tr>\n",
              "    <tr>\n",
              "      <th>2</th>\n",
              "      <td>0</td>\n",
              "      <td>Nao</td>\n",
              "      <td>Nao</td>\n",
              "      <td>2</td>\n",
              "      <td>Sim</td>\n",
              "      <td>Nao</td>\n",
              "      <td>DSL</td>\n",
              "      <td>Sim</td>\n",
              "      <td>Sim</td>\n",
              "      <td>Nao</td>\n",
              "      <td>Nao</td>\n",
              "      <td>Nao</td>\n",
              "      <td>Nao</td>\n",
              "      <td>Mensalmente</td>\n",
              "      <td>Sim</td>\n",
              "      <td>ChequePapel</td>\n",
              "      <td>53.85</td>\n",
              "      <td>Sim</td>\n",
              "    </tr>\n",
              "    <tr>\n",
              "      <th>3</th>\n",
              "      <td>0</td>\n",
              "      <td>Nao</td>\n",
              "      <td>Nao</td>\n",
              "      <td>45</td>\n",
              "      <td>Nao</td>\n",
              "      <td>SemServicoTelefonico</td>\n",
              "      <td>DSL</td>\n",
              "      <td>Sim</td>\n",
              "      <td>Nao</td>\n",
              "      <td>Sim</td>\n",
              "      <td>Sim</td>\n",
              "      <td>Nao</td>\n",
              "      <td>Nao</td>\n",
              "      <td>UmAno</td>\n",
              "      <td>Nao</td>\n",
              "      <td>DebitoEmConta</td>\n",
              "      <td>42.30</td>\n",
              "      <td>Nao</td>\n",
              "    </tr>\n",
              "    <tr>\n",
              "      <th>4</th>\n",
              "      <td>0</td>\n",
              "      <td>Nao</td>\n",
              "      <td>Nao</td>\n",
              "      <td>2</td>\n",
              "      <td>Sim</td>\n",
              "      <td>Nao</td>\n",
              "      <td>FibraOptica</td>\n",
              "      <td>Nao</td>\n",
              "      <td>Nao</td>\n",
              "      <td>Nao</td>\n",
              "      <td>Nao</td>\n",
              "      <td>Nao</td>\n",
              "      <td>Nao</td>\n",
              "      <td>Mensalmente</td>\n",
              "      <td>Sim</td>\n",
              "      <td>ChequeDigital</td>\n",
              "      <td>70.70</td>\n",
              "      <td>Sim</td>\n",
              "    </tr>\n",
              "  </tbody>\n",
              "</table>\n",
              "</div>\n",
              "      <button class=\"colab-df-convert\" onclick=\"convertToInteractive('df-fef6a024-a691-4486-8975-9ee376a1afb2')\"\n",
              "              title=\"Convert this dataframe to an interactive table.\"\n",
              "              style=\"display:none;\">\n",
              "\n",
              "  <svg xmlns=\"http://www.w3.org/2000/svg\" height=\"24px\"viewBox=\"0 0 24 24\"\n",
              "       width=\"24px\">\n",
              "    <path d=\"M0 0h24v24H0V0z\" fill=\"none\"/>\n",
              "    <path d=\"M18.56 5.44l.94 2.06.94-2.06 2.06-.94-2.06-.94-.94-2.06-.94 2.06-2.06.94zm-11 1L8.5 8.5l.94-2.06 2.06-.94-2.06-.94L8.5 2.5l-.94 2.06-2.06.94zm10 10l.94 2.06.94-2.06 2.06-.94-2.06-.94-.94-2.06-.94 2.06-2.06.94z\"/><path d=\"M17.41 7.96l-1.37-1.37c-.4-.4-.92-.59-1.43-.59-.52 0-1.04.2-1.43.59L10.3 9.45l-7.72 7.72c-.78.78-.78 2.05 0 2.83L4 21.41c.39.39.9.59 1.41.59.51 0 1.02-.2 1.41-.59l7.78-7.78 2.81-2.81c.8-.78.8-2.07 0-2.86zM5.41 20L4 18.59l7.72-7.72 1.47 1.35L5.41 20z\"/>\n",
              "  </svg>\n",
              "      </button>\n",
              "\n",
              "\n",
              "\n",
              "    <div id=\"df-43b3ab2a-45e7-4170-bb8d-e0318af1747b\">\n",
              "      <button class=\"colab-df-quickchart\" onclick=\"quickchart('df-43b3ab2a-45e7-4170-bb8d-e0318af1747b')\"\n",
              "              title=\"Suggest charts.\"\n",
              "              style=\"display:none;\">\n",
              "\n",
              "<svg xmlns=\"http://www.w3.org/2000/svg\" height=\"24px\"viewBox=\"0 0 24 24\"\n",
              "     width=\"24px\">\n",
              "    <g>\n",
              "        <path d=\"M19 3H5c-1.1 0-2 .9-2 2v14c0 1.1.9 2 2 2h14c1.1 0 2-.9 2-2V5c0-1.1-.9-2-2-2zM9 17H7v-7h2v7zm4 0h-2V7h2v10zm4 0h-2v-4h2v4z\"/>\n",
              "    </g>\n",
              "</svg>\n",
              "      </button>\n",
              "    </div>\n",
              "\n",
              "<style>\n",
              "  .colab-df-quickchart {\n",
              "    background-color: #E8F0FE;\n",
              "    border: none;\n",
              "    border-radius: 50%;\n",
              "    cursor: pointer;\n",
              "    display: none;\n",
              "    fill: #1967D2;\n",
              "    height: 32px;\n",
              "    padding: 0 0 0 0;\n",
              "    width: 32px;\n",
              "  }\n",
              "\n",
              "  .colab-df-quickchart:hover {\n",
              "    background-color: #E2EBFA;\n",
              "    box-shadow: 0px 1px 2px rgba(60, 64, 67, 0.3), 0px 1px 3px 1px rgba(60, 64, 67, 0.15);\n",
              "    fill: #174EA6;\n",
              "  }\n",
              "\n",
              "  [theme=dark] .colab-df-quickchart {\n",
              "    background-color: #3B4455;\n",
              "    fill: #D2E3FC;\n",
              "  }\n",
              "\n",
              "  [theme=dark] .colab-df-quickchart:hover {\n",
              "    background-color: #434B5C;\n",
              "    box-shadow: 0px 1px 3px 1px rgba(0, 0, 0, 0.15);\n",
              "    filter: drop-shadow(0px 1px 2px rgba(0, 0, 0, 0.3));\n",
              "    fill: #FFFFFF;\n",
              "  }\n",
              "</style>\n",
              "\n",
              "    <script>\n",
              "      async function quickchart(key) {\n",
              "        const containerElement = document.querySelector('#' + key);\n",
              "        const charts = await google.colab.kernel.invokeFunction(\n",
              "            'suggestCharts', [key], {});\n",
              "      }\n",
              "    </script>\n",
              "\n",
              "      <script>\n",
              "\n",
              "function displayQuickchartButton(domScope) {\n",
              "  let quickchartButtonEl =\n",
              "    domScope.querySelector('#df-43b3ab2a-45e7-4170-bb8d-e0318af1747b button.colab-df-quickchart');\n",
              "  quickchartButtonEl.style.display =\n",
              "    google.colab.kernel.accessAllowed ? 'block' : 'none';\n",
              "}\n",
              "\n",
              "        displayQuickchartButton(document);\n",
              "      </script>\n",
              "      <style>\n",
              "    .colab-df-container {\n",
              "      display:flex;\n",
              "      flex-wrap:wrap;\n",
              "      gap: 12px;\n",
              "    }\n",
              "\n",
              "    .colab-df-convert {\n",
              "      background-color: #E8F0FE;\n",
              "      border: none;\n",
              "      border-radius: 50%;\n",
              "      cursor: pointer;\n",
              "      display: none;\n",
              "      fill: #1967D2;\n",
              "      height: 32px;\n",
              "      padding: 0 0 0 0;\n",
              "      width: 32px;\n",
              "    }\n",
              "\n",
              "    .colab-df-convert:hover {\n",
              "      background-color: #E2EBFA;\n",
              "      box-shadow: 0px 1px 2px rgba(60, 64, 67, 0.3), 0px 1px 3px 1px rgba(60, 64, 67, 0.15);\n",
              "      fill: #174EA6;\n",
              "    }\n",
              "\n",
              "    [theme=dark] .colab-df-convert {\n",
              "      background-color: #3B4455;\n",
              "      fill: #D2E3FC;\n",
              "    }\n",
              "\n",
              "    [theme=dark] .colab-df-convert:hover {\n",
              "      background-color: #434B5C;\n",
              "      box-shadow: 0px 1px 3px 1px rgba(0, 0, 0, 0.15);\n",
              "      filter: drop-shadow(0px 1px 2px rgba(0, 0, 0, 0.3));\n",
              "      fill: #FFFFFF;\n",
              "    }\n",
              "  </style>\n",
              "\n",
              "      <script>\n",
              "        const buttonEl =\n",
              "          document.querySelector('#df-fef6a024-a691-4486-8975-9ee376a1afb2 button.colab-df-convert');\n",
              "        buttonEl.style.display =\n",
              "          google.colab.kernel.accessAllowed ? 'block' : 'none';\n",
              "\n",
              "        async function convertToInteractive(key) {\n",
              "          const element = document.querySelector('#df-fef6a024-a691-4486-8975-9ee376a1afb2');\n",
              "          const dataTable =\n",
              "            await google.colab.kernel.invokeFunction('convertToInteractive',\n",
              "                                                     [key], {});\n",
              "          if (!dataTable) return;\n",
              "\n",
              "          const docLinkHtml = 'Like what you see? Visit the ' +\n",
              "            '<a target=\"_blank\" href=https://colab.research.google.com/notebooks/data_table.ipynb>data table notebook</a>'\n",
              "            + ' to learn more about interactive tables.';\n",
              "          element.innerHTML = '';\n",
              "          dataTable['output_type'] = 'display_data';\n",
              "          await google.colab.output.renderOutput(dataTable, element);\n",
              "          const docLink = document.createElement('div');\n",
              "          docLink.innerHTML = docLinkHtml;\n",
              "          element.appendChild(docLink);\n",
              "        }\n",
              "      </script>\n",
              "    </div>\n",
              "  </div>\n"
            ]
          },
          "metadata": {},
          "execution_count": 6
        }
      ]
    },
    {
      "cell_type": "markdown",
      "source": [
        "##Diferentes variáveis\n"
      ],
      "metadata": {
        "id": "Fn3zvwhimv5w"
      }
    },
    {
      "cell_type": "code",
      "source": [
        "#modificação de forma manual\n",
        "traducao_dic = {'Sim': 1,\n",
        "                'Nao':0}\n",
        "\n",
        "dadosmodificados = dados[['Conjuge', 'Dependentes', 'TelefoneFixo', 'PagamentoOnline', 'Churn']].replace(traducao_dic)\n",
        "dadosmodificados.head()\n",
        "\n"
      ],
      "metadata": {
        "id": "JLGLqznLcPS-",
        "colab": {
          "base_uri": "https://localhost:8080/",
          "height": 206
        },
        "outputId": "c656dcea-9366-4a33-c0f9-0695777d81c0"
      },
      "execution_count": null,
      "outputs": [
        {
          "output_type": "execute_result",
          "data": {
            "text/plain": [
              "   Conjuge  Dependentes  TelefoneFixo  PagamentoOnline  Churn\n",
              "0        1            0             0                1      0\n",
              "1        0            0             1                0      0\n",
              "2        0            0             1                1      1\n",
              "3        0            0             0                0      0\n",
              "4        0            0             1                1      1"
            ],
            "text/html": [
              "\n",
              "\n",
              "  <div id=\"df-3d1c23fc-844b-40b0-a314-f0b65c1b28a5\">\n",
              "    <div class=\"colab-df-container\">\n",
              "      <div>\n",
              "<style scoped>\n",
              "    .dataframe tbody tr th:only-of-type {\n",
              "        vertical-align: middle;\n",
              "    }\n",
              "\n",
              "    .dataframe tbody tr th {\n",
              "        vertical-align: top;\n",
              "    }\n",
              "\n",
              "    .dataframe thead th {\n",
              "        text-align: right;\n",
              "    }\n",
              "</style>\n",
              "<table border=\"1\" class=\"dataframe\">\n",
              "  <thead>\n",
              "    <tr style=\"text-align: right;\">\n",
              "      <th></th>\n",
              "      <th>Conjuge</th>\n",
              "      <th>Dependentes</th>\n",
              "      <th>TelefoneFixo</th>\n",
              "      <th>PagamentoOnline</th>\n",
              "      <th>Churn</th>\n",
              "    </tr>\n",
              "  </thead>\n",
              "  <tbody>\n",
              "    <tr>\n",
              "      <th>0</th>\n",
              "      <td>1</td>\n",
              "      <td>0</td>\n",
              "      <td>0</td>\n",
              "      <td>1</td>\n",
              "      <td>0</td>\n",
              "    </tr>\n",
              "    <tr>\n",
              "      <th>1</th>\n",
              "      <td>0</td>\n",
              "      <td>0</td>\n",
              "      <td>1</td>\n",
              "      <td>0</td>\n",
              "      <td>0</td>\n",
              "    </tr>\n",
              "    <tr>\n",
              "      <th>2</th>\n",
              "      <td>0</td>\n",
              "      <td>0</td>\n",
              "      <td>1</td>\n",
              "      <td>1</td>\n",
              "      <td>1</td>\n",
              "    </tr>\n",
              "    <tr>\n",
              "      <th>3</th>\n",
              "      <td>0</td>\n",
              "      <td>0</td>\n",
              "      <td>0</td>\n",
              "      <td>0</td>\n",
              "      <td>0</td>\n",
              "    </tr>\n",
              "    <tr>\n",
              "      <th>4</th>\n",
              "      <td>0</td>\n",
              "      <td>0</td>\n",
              "      <td>1</td>\n",
              "      <td>1</td>\n",
              "      <td>1</td>\n",
              "    </tr>\n",
              "  </tbody>\n",
              "</table>\n",
              "</div>\n",
              "      <button class=\"colab-df-convert\" onclick=\"convertToInteractive('df-3d1c23fc-844b-40b0-a314-f0b65c1b28a5')\"\n",
              "              title=\"Convert this dataframe to an interactive table.\"\n",
              "              style=\"display:none;\">\n",
              "\n",
              "  <svg xmlns=\"http://www.w3.org/2000/svg\" height=\"24px\"viewBox=\"0 0 24 24\"\n",
              "       width=\"24px\">\n",
              "    <path d=\"M0 0h24v24H0V0z\" fill=\"none\"/>\n",
              "    <path d=\"M18.56 5.44l.94 2.06.94-2.06 2.06-.94-2.06-.94-.94-2.06-.94 2.06-2.06.94zm-11 1L8.5 8.5l.94-2.06 2.06-.94-2.06-.94L8.5 2.5l-.94 2.06-2.06.94zm10 10l.94 2.06.94-2.06 2.06-.94-2.06-.94-.94-2.06-.94 2.06-2.06.94z\"/><path d=\"M17.41 7.96l-1.37-1.37c-.4-.4-.92-.59-1.43-.59-.52 0-1.04.2-1.43.59L10.3 9.45l-7.72 7.72c-.78.78-.78 2.05 0 2.83L4 21.41c.39.39.9.59 1.41.59.51 0 1.02-.2 1.41-.59l7.78-7.78 2.81-2.81c.8-.78.8-2.07 0-2.86zM5.41 20L4 18.59l7.72-7.72 1.47 1.35L5.41 20z\"/>\n",
              "  </svg>\n",
              "      </button>\n",
              "\n",
              "\n",
              "\n",
              "    <div id=\"df-dc32b94b-2479-4d9f-9926-51cc9e29e99f\">\n",
              "      <button class=\"colab-df-quickchart\" onclick=\"quickchart('df-dc32b94b-2479-4d9f-9926-51cc9e29e99f')\"\n",
              "              title=\"Suggest charts.\"\n",
              "              style=\"display:none;\">\n",
              "\n",
              "<svg xmlns=\"http://www.w3.org/2000/svg\" height=\"24px\"viewBox=\"0 0 24 24\"\n",
              "     width=\"24px\">\n",
              "    <g>\n",
              "        <path d=\"M19 3H5c-1.1 0-2 .9-2 2v14c0 1.1.9 2 2 2h14c1.1 0 2-.9 2-2V5c0-1.1-.9-2-2-2zM9 17H7v-7h2v7zm4 0h-2V7h2v10zm4 0h-2v-4h2v4z\"/>\n",
              "    </g>\n",
              "</svg>\n",
              "      </button>\n",
              "    </div>\n",
              "\n",
              "<style>\n",
              "  .colab-df-quickchart {\n",
              "    background-color: #E8F0FE;\n",
              "    border: none;\n",
              "    border-radius: 50%;\n",
              "    cursor: pointer;\n",
              "    display: none;\n",
              "    fill: #1967D2;\n",
              "    height: 32px;\n",
              "    padding: 0 0 0 0;\n",
              "    width: 32px;\n",
              "  }\n",
              "\n",
              "  .colab-df-quickchart:hover {\n",
              "    background-color: #E2EBFA;\n",
              "    box-shadow: 0px 1px 2px rgba(60, 64, 67, 0.3), 0px 1px 3px 1px rgba(60, 64, 67, 0.15);\n",
              "    fill: #174EA6;\n",
              "  }\n",
              "\n",
              "  [theme=dark] .colab-df-quickchart {\n",
              "    background-color: #3B4455;\n",
              "    fill: #D2E3FC;\n",
              "  }\n",
              "\n",
              "  [theme=dark] .colab-df-quickchart:hover {\n",
              "    background-color: #434B5C;\n",
              "    box-shadow: 0px 1px 3px 1px rgba(0, 0, 0, 0.15);\n",
              "    filter: drop-shadow(0px 1px 2px rgba(0, 0, 0, 0.3));\n",
              "    fill: #FFFFFF;\n",
              "  }\n",
              "</style>\n",
              "\n",
              "    <script>\n",
              "      async function quickchart(key) {\n",
              "        const containerElement = document.querySelector('#' + key);\n",
              "        const charts = await google.colab.kernel.invokeFunction(\n",
              "            'suggestCharts', [key], {});\n",
              "      }\n",
              "    </script>\n",
              "\n",
              "      <script>\n",
              "\n",
              "function displayQuickchartButton(domScope) {\n",
              "  let quickchartButtonEl =\n",
              "    domScope.querySelector('#df-dc32b94b-2479-4d9f-9926-51cc9e29e99f button.colab-df-quickchart');\n",
              "  quickchartButtonEl.style.display =\n",
              "    google.colab.kernel.accessAllowed ? 'block' : 'none';\n",
              "}\n",
              "\n",
              "        displayQuickchartButton(document);\n",
              "      </script>\n",
              "      <style>\n",
              "    .colab-df-container {\n",
              "      display:flex;\n",
              "      flex-wrap:wrap;\n",
              "      gap: 12px;\n",
              "    }\n",
              "\n",
              "    .colab-df-convert {\n",
              "      background-color: #E8F0FE;\n",
              "      border: none;\n",
              "      border-radius: 50%;\n",
              "      cursor: pointer;\n",
              "      display: none;\n",
              "      fill: #1967D2;\n",
              "      height: 32px;\n",
              "      padding: 0 0 0 0;\n",
              "      width: 32px;\n",
              "    }\n",
              "\n",
              "    .colab-df-convert:hover {\n",
              "      background-color: #E2EBFA;\n",
              "      box-shadow: 0px 1px 2px rgba(60, 64, 67, 0.3), 0px 1px 3px 1px rgba(60, 64, 67, 0.15);\n",
              "      fill: #174EA6;\n",
              "    }\n",
              "\n",
              "    [theme=dark] .colab-df-convert {\n",
              "      background-color: #3B4455;\n",
              "      fill: #D2E3FC;\n",
              "    }\n",
              "\n",
              "    [theme=dark] .colab-df-convert:hover {\n",
              "      background-color: #434B5C;\n",
              "      box-shadow: 0px 1px 3px 1px rgba(0, 0, 0, 0.15);\n",
              "      filter: drop-shadow(0px 1px 2px rgba(0, 0, 0, 0.3));\n",
              "      fill: #FFFFFF;\n",
              "    }\n",
              "  </style>\n",
              "\n",
              "      <script>\n",
              "        const buttonEl =\n",
              "          document.querySelector('#df-3d1c23fc-844b-40b0-a314-f0b65c1b28a5 button.colab-df-convert');\n",
              "        buttonEl.style.display =\n",
              "          google.colab.kernel.accessAllowed ? 'block' : 'none';\n",
              "\n",
              "        async function convertToInteractive(key) {\n",
              "          const element = document.querySelector('#df-3d1c23fc-844b-40b0-a314-f0b65c1b28a5');\n",
              "          const dataTable =\n",
              "            await google.colab.kernel.invokeFunction('convertToInteractive',\n",
              "                                                     [key], {});\n",
              "          if (!dataTable) return;\n",
              "\n",
              "          const docLinkHtml = 'Like what you see? Visit the ' +\n",
              "            '<a target=\"_blank\" href=https://colab.research.google.com/notebooks/data_table.ipynb>data table notebook</a>'\n",
              "            + ' to learn more about interactive tables.';\n",
              "          element.innerHTML = '';\n",
              "          dataTable['output_type'] = 'display_data';\n",
              "          await google.colab.output.renderOutput(dataTable, element);\n",
              "          const docLink = document.createElement('div');\n",
              "          docLink.innerHTML = docLinkHtml;\n",
              "          element.appendChild(docLink);\n",
              "        }\n",
              "      </script>\n",
              "    </div>\n",
              "  </div>\n"
            ]
          },
          "metadata": {},
          "execution_count": 7
        }
      ]
    },
    {
      "cell_type": "code",
      "source": [
        "#trasnformação pelo get_dummies\n",
        "dummie_dados = pd.get_dummies(dados.drop(['Conjuge', 'Dependentes', 'TelefoneFixo', 'PagamentoOnline', 'Churn'],\n",
        "                                         axis=1))\n",
        "#junção dos dados trasnformados com os que já tinhamos\n",
        "dados_final = pd.concat([dadosmodificados, dummie_dados], axis=1)"
      ],
      "metadata": {
        "id": "b2iBSVzbnjep"
      },
      "execution_count": null,
      "outputs": []
    },
    {
      "cell_type": "code",
      "source": [
        "dados_final.head()"
      ],
      "metadata": {
        "colab": {
          "base_uri": "https://localhost:8080/",
          "height": 299
        },
        "id": "R8C8Ojfno0tX",
        "outputId": "5b2a2cda-e5bc-4f58-b1b0-b861500333c0"
      },
      "execution_count": null,
      "outputs": [
        {
          "output_type": "execute_result",
          "data": {
            "text/plain": [
              "   Conjuge  Dependentes  TelefoneFixo  PagamentoOnline  Churn  Maior65Anos  \\\n",
              "0        1            0             0                1      0            0   \n",
              "1        0            0             1                0      0            0   \n",
              "2        0            0             1                1      1            0   \n",
              "3        0            0             0                0      0            0   \n",
              "4        0            0             1                1      1            0   \n",
              "\n",
              "   MesesDeContrato  ContaMensal  VariasLinhasTelefonicas_Nao  \\\n",
              "0                1        29.85                            0   \n",
              "1               34        56.95                            1   \n",
              "2                2        53.85                            1   \n",
              "3               45        42.30                            0   \n",
              "4                2        70.70                            1   \n",
              "\n",
              "   VariasLinhasTelefonicas_SemServicoTelefonico  ...  StreamingDeFilmes_Nao  \\\n",
              "0                                             1  ...                      1   \n",
              "1                                             0  ...                      1   \n",
              "2                                             0  ...                      1   \n",
              "3                                             1  ...                      1   \n",
              "4                                             0  ...                      1   \n",
              "\n",
              "   StreamingDeFilmes_SemServicoDeInternet  StreamingDeFilmes_Sim  \\\n",
              "0                                       0                      0   \n",
              "1                                       0                      0   \n",
              "2                                       0                      0   \n",
              "3                                       0                      0   \n",
              "4                                       0                      0   \n",
              "\n",
              "   TipoDeContrato_DoisAnos  TipoDeContrato_Mensalmente  TipoDeContrato_UmAno  \\\n",
              "0                        0                           1                     0   \n",
              "1                        0                           0                     1   \n",
              "2                        0                           1                     0   \n",
              "3                        0                           0                     1   \n",
              "4                        0                           1                     0   \n",
              "\n",
              "   FormaDePagamento_CartaoDeCredito  FormaDePagamento_ChequeDigital  \\\n",
              "0                                 0                               1   \n",
              "1                                 0                               0   \n",
              "2                                 0                               0   \n",
              "3                                 0                               0   \n",
              "4                                 0                               1   \n",
              "\n",
              "   FormaDePagamento_ChequePapel  FormaDePagamento_DebitoEmConta  \n",
              "0                             0                               0  \n",
              "1                             1                               0  \n",
              "2                             1                               0  \n",
              "3                             0                               1  \n",
              "4                             0                               0  \n",
              "\n",
              "[5 rows x 39 columns]"
            ],
            "text/html": [
              "\n",
              "\n",
              "  <div id=\"df-85fbad10-38a8-441b-91da-bdd091dc8aeb\">\n",
              "    <div class=\"colab-df-container\">\n",
              "      <div>\n",
              "<style scoped>\n",
              "    .dataframe tbody tr th:only-of-type {\n",
              "        vertical-align: middle;\n",
              "    }\n",
              "\n",
              "    .dataframe tbody tr th {\n",
              "        vertical-align: top;\n",
              "    }\n",
              "\n",
              "    .dataframe thead th {\n",
              "        text-align: right;\n",
              "    }\n",
              "</style>\n",
              "<table border=\"1\" class=\"dataframe\">\n",
              "  <thead>\n",
              "    <tr style=\"text-align: right;\">\n",
              "      <th></th>\n",
              "      <th>Conjuge</th>\n",
              "      <th>Dependentes</th>\n",
              "      <th>TelefoneFixo</th>\n",
              "      <th>PagamentoOnline</th>\n",
              "      <th>Churn</th>\n",
              "      <th>Maior65Anos</th>\n",
              "      <th>MesesDeContrato</th>\n",
              "      <th>ContaMensal</th>\n",
              "      <th>VariasLinhasTelefonicas_Nao</th>\n",
              "      <th>VariasLinhasTelefonicas_SemServicoTelefonico</th>\n",
              "      <th>...</th>\n",
              "      <th>StreamingDeFilmes_Nao</th>\n",
              "      <th>StreamingDeFilmes_SemServicoDeInternet</th>\n",
              "      <th>StreamingDeFilmes_Sim</th>\n",
              "      <th>TipoDeContrato_DoisAnos</th>\n",
              "      <th>TipoDeContrato_Mensalmente</th>\n",
              "      <th>TipoDeContrato_UmAno</th>\n",
              "      <th>FormaDePagamento_CartaoDeCredito</th>\n",
              "      <th>FormaDePagamento_ChequeDigital</th>\n",
              "      <th>FormaDePagamento_ChequePapel</th>\n",
              "      <th>FormaDePagamento_DebitoEmConta</th>\n",
              "    </tr>\n",
              "  </thead>\n",
              "  <tbody>\n",
              "    <tr>\n",
              "      <th>0</th>\n",
              "      <td>1</td>\n",
              "      <td>0</td>\n",
              "      <td>0</td>\n",
              "      <td>1</td>\n",
              "      <td>0</td>\n",
              "      <td>0</td>\n",
              "      <td>1</td>\n",
              "      <td>29.85</td>\n",
              "      <td>0</td>\n",
              "      <td>1</td>\n",
              "      <td>...</td>\n",
              "      <td>1</td>\n",
              "      <td>0</td>\n",
              "      <td>0</td>\n",
              "      <td>0</td>\n",
              "      <td>1</td>\n",
              "      <td>0</td>\n",
              "      <td>0</td>\n",
              "      <td>1</td>\n",
              "      <td>0</td>\n",
              "      <td>0</td>\n",
              "    </tr>\n",
              "    <tr>\n",
              "      <th>1</th>\n",
              "      <td>0</td>\n",
              "      <td>0</td>\n",
              "      <td>1</td>\n",
              "      <td>0</td>\n",
              "      <td>0</td>\n",
              "      <td>0</td>\n",
              "      <td>34</td>\n",
              "      <td>56.95</td>\n",
              "      <td>1</td>\n",
              "      <td>0</td>\n",
              "      <td>...</td>\n",
              "      <td>1</td>\n",
              "      <td>0</td>\n",
              "      <td>0</td>\n",
              "      <td>0</td>\n",
              "      <td>0</td>\n",
              "      <td>1</td>\n",
              "      <td>0</td>\n",
              "      <td>0</td>\n",
              "      <td>1</td>\n",
              "      <td>0</td>\n",
              "    </tr>\n",
              "    <tr>\n",
              "      <th>2</th>\n",
              "      <td>0</td>\n",
              "      <td>0</td>\n",
              "      <td>1</td>\n",
              "      <td>1</td>\n",
              "      <td>1</td>\n",
              "      <td>0</td>\n",
              "      <td>2</td>\n",
              "      <td>53.85</td>\n",
              "      <td>1</td>\n",
              "      <td>0</td>\n",
              "      <td>...</td>\n",
              "      <td>1</td>\n",
              "      <td>0</td>\n",
              "      <td>0</td>\n",
              "      <td>0</td>\n",
              "      <td>1</td>\n",
              "      <td>0</td>\n",
              "      <td>0</td>\n",
              "      <td>0</td>\n",
              "      <td>1</td>\n",
              "      <td>0</td>\n",
              "    </tr>\n",
              "    <tr>\n",
              "      <th>3</th>\n",
              "      <td>0</td>\n",
              "      <td>0</td>\n",
              "      <td>0</td>\n",
              "      <td>0</td>\n",
              "      <td>0</td>\n",
              "      <td>0</td>\n",
              "      <td>45</td>\n",
              "      <td>42.30</td>\n",
              "      <td>0</td>\n",
              "      <td>1</td>\n",
              "      <td>...</td>\n",
              "      <td>1</td>\n",
              "      <td>0</td>\n",
              "      <td>0</td>\n",
              "      <td>0</td>\n",
              "      <td>0</td>\n",
              "      <td>1</td>\n",
              "      <td>0</td>\n",
              "      <td>0</td>\n",
              "      <td>0</td>\n",
              "      <td>1</td>\n",
              "    </tr>\n",
              "    <tr>\n",
              "      <th>4</th>\n",
              "      <td>0</td>\n",
              "      <td>0</td>\n",
              "      <td>1</td>\n",
              "      <td>1</td>\n",
              "      <td>1</td>\n",
              "      <td>0</td>\n",
              "      <td>2</td>\n",
              "      <td>70.70</td>\n",
              "      <td>1</td>\n",
              "      <td>0</td>\n",
              "      <td>...</td>\n",
              "      <td>1</td>\n",
              "      <td>0</td>\n",
              "      <td>0</td>\n",
              "      <td>0</td>\n",
              "      <td>1</td>\n",
              "      <td>0</td>\n",
              "      <td>0</td>\n",
              "      <td>1</td>\n",
              "      <td>0</td>\n",
              "      <td>0</td>\n",
              "    </tr>\n",
              "  </tbody>\n",
              "</table>\n",
              "<p>5 rows × 39 columns</p>\n",
              "</div>\n",
              "      <button class=\"colab-df-convert\" onclick=\"convertToInteractive('df-85fbad10-38a8-441b-91da-bdd091dc8aeb')\"\n",
              "              title=\"Convert this dataframe to an interactive table.\"\n",
              "              style=\"display:none;\">\n",
              "\n",
              "  <svg xmlns=\"http://www.w3.org/2000/svg\" height=\"24px\"viewBox=\"0 0 24 24\"\n",
              "       width=\"24px\">\n",
              "    <path d=\"M0 0h24v24H0V0z\" fill=\"none\"/>\n",
              "    <path d=\"M18.56 5.44l.94 2.06.94-2.06 2.06-.94-2.06-.94-.94-2.06-.94 2.06-2.06.94zm-11 1L8.5 8.5l.94-2.06 2.06-.94-2.06-.94L8.5 2.5l-.94 2.06-2.06.94zm10 10l.94 2.06.94-2.06 2.06-.94-2.06-.94-.94-2.06-.94 2.06-2.06.94z\"/><path d=\"M17.41 7.96l-1.37-1.37c-.4-.4-.92-.59-1.43-.59-.52 0-1.04.2-1.43.59L10.3 9.45l-7.72 7.72c-.78.78-.78 2.05 0 2.83L4 21.41c.39.39.9.59 1.41.59.51 0 1.02-.2 1.41-.59l7.78-7.78 2.81-2.81c.8-.78.8-2.07 0-2.86zM5.41 20L4 18.59l7.72-7.72 1.47 1.35L5.41 20z\"/>\n",
              "  </svg>\n",
              "      </button>\n",
              "\n",
              "\n",
              "\n",
              "    <div id=\"df-649f404f-84b9-48c5-8c18-58ef3f52389c\">\n",
              "      <button class=\"colab-df-quickchart\" onclick=\"quickchart('df-649f404f-84b9-48c5-8c18-58ef3f52389c')\"\n",
              "              title=\"Suggest charts.\"\n",
              "              style=\"display:none;\">\n",
              "\n",
              "<svg xmlns=\"http://www.w3.org/2000/svg\" height=\"24px\"viewBox=\"0 0 24 24\"\n",
              "     width=\"24px\">\n",
              "    <g>\n",
              "        <path d=\"M19 3H5c-1.1 0-2 .9-2 2v14c0 1.1.9 2 2 2h14c1.1 0 2-.9 2-2V5c0-1.1-.9-2-2-2zM9 17H7v-7h2v7zm4 0h-2V7h2v10zm4 0h-2v-4h2v4z\"/>\n",
              "    </g>\n",
              "</svg>\n",
              "      </button>\n",
              "    </div>\n",
              "\n",
              "<style>\n",
              "  .colab-df-quickchart {\n",
              "    background-color: #E8F0FE;\n",
              "    border: none;\n",
              "    border-radius: 50%;\n",
              "    cursor: pointer;\n",
              "    display: none;\n",
              "    fill: #1967D2;\n",
              "    height: 32px;\n",
              "    padding: 0 0 0 0;\n",
              "    width: 32px;\n",
              "  }\n",
              "\n",
              "  .colab-df-quickchart:hover {\n",
              "    background-color: #E2EBFA;\n",
              "    box-shadow: 0px 1px 2px rgba(60, 64, 67, 0.3), 0px 1px 3px 1px rgba(60, 64, 67, 0.15);\n",
              "    fill: #174EA6;\n",
              "  }\n",
              "\n",
              "  [theme=dark] .colab-df-quickchart {\n",
              "    background-color: #3B4455;\n",
              "    fill: #D2E3FC;\n",
              "  }\n",
              "\n",
              "  [theme=dark] .colab-df-quickchart:hover {\n",
              "    background-color: #434B5C;\n",
              "    box-shadow: 0px 1px 3px 1px rgba(0, 0, 0, 0.15);\n",
              "    filter: drop-shadow(0px 1px 2px rgba(0, 0, 0, 0.3));\n",
              "    fill: #FFFFFF;\n",
              "  }\n",
              "</style>\n",
              "\n",
              "    <script>\n",
              "      async function quickchart(key) {\n",
              "        const containerElement = document.querySelector('#' + key);\n",
              "        const charts = await google.colab.kernel.invokeFunction(\n",
              "            'suggestCharts', [key], {});\n",
              "      }\n",
              "    </script>\n",
              "\n",
              "      <script>\n",
              "\n",
              "function displayQuickchartButton(domScope) {\n",
              "  let quickchartButtonEl =\n",
              "    domScope.querySelector('#df-649f404f-84b9-48c5-8c18-58ef3f52389c button.colab-df-quickchart');\n",
              "  quickchartButtonEl.style.display =\n",
              "    google.colab.kernel.accessAllowed ? 'block' : 'none';\n",
              "}\n",
              "\n",
              "        displayQuickchartButton(document);\n",
              "      </script>\n",
              "      <style>\n",
              "    .colab-df-container {\n",
              "      display:flex;\n",
              "      flex-wrap:wrap;\n",
              "      gap: 12px;\n",
              "    }\n",
              "\n",
              "    .colab-df-convert {\n",
              "      background-color: #E8F0FE;\n",
              "      border: none;\n",
              "      border-radius: 50%;\n",
              "      cursor: pointer;\n",
              "      display: none;\n",
              "      fill: #1967D2;\n",
              "      height: 32px;\n",
              "      padding: 0 0 0 0;\n",
              "      width: 32px;\n",
              "    }\n",
              "\n",
              "    .colab-df-convert:hover {\n",
              "      background-color: #E2EBFA;\n",
              "      box-shadow: 0px 1px 2px rgba(60, 64, 67, 0.3), 0px 1px 3px 1px rgba(60, 64, 67, 0.15);\n",
              "      fill: #174EA6;\n",
              "    }\n",
              "\n",
              "    [theme=dark] .colab-df-convert {\n",
              "      background-color: #3B4455;\n",
              "      fill: #D2E3FC;\n",
              "    }\n",
              "\n",
              "    [theme=dark] .colab-df-convert:hover {\n",
              "      background-color: #434B5C;\n",
              "      box-shadow: 0px 1px 3px 1px rgba(0, 0, 0, 0.15);\n",
              "      filter: drop-shadow(0px 1px 2px rgba(0, 0, 0, 0.3));\n",
              "      fill: #FFFFFF;\n",
              "    }\n",
              "  </style>\n",
              "\n",
              "      <script>\n",
              "        const buttonEl =\n",
              "          document.querySelector('#df-85fbad10-38a8-441b-91da-bdd091dc8aeb button.colab-df-convert');\n",
              "        buttonEl.style.display =\n",
              "          google.colab.kernel.accessAllowed ? 'block' : 'none';\n",
              "\n",
              "        async function convertToInteractive(key) {\n",
              "          const element = document.querySelector('#df-85fbad10-38a8-441b-91da-bdd091dc8aeb');\n",
              "          const dataTable =\n",
              "            await google.colab.kernel.invokeFunction('convertToInteractive',\n",
              "                                                     [key], {});\n",
              "          if (!dataTable) return;\n",
              "\n",
              "          const docLinkHtml = 'Like what you see? Visit the ' +\n",
              "            '<a target=\"_blank\" href=https://colab.research.google.com/notebooks/data_table.ipynb>data table notebook</a>'\n",
              "            + ' to learn more about interactive tables.';\n",
              "          element.innerHTML = '';\n",
              "          dataTable['output_type'] = 'display_data';\n",
              "          await google.colab.output.renderOutput(dataTable, element);\n",
              "          const docLink = document.createElement('div');\n",
              "          docLink.innerHTML = docLinkHtml;\n",
              "          element.appendChild(docLink);\n",
              "        }\n",
              "      </script>\n",
              "    </div>\n",
              "  </div>\n"
            ]
          },
          "metadata": {},
          "execution_count": 9
        }
      ]
    },
    {
      "cell_type": "code",
      "source": [
        "dados_final.shape"
      ],
      "metadata": {
        "colab": {
          "base_uri": "https://localhost:8080/"
        },
        "id": "2sTx5ZNMo4F_",
        "outputId": "f306a542-70a7-45b2-c740-36e025eff37c"
      },
      "execution_count": null,
      "outputs": [
        {
          "output_type": "execute_result",
          "data": {
            "text/plain": [
              "(7043, 39)"
            ]
          },
          "metadata": {},
          "execution_count": 10
        }
      ]
    },
    {
      "cell_type": "code",
      "source": [
        "#A variável “Minutos totais por dia” pode ser classificada como quantitativa contínua.\n",
        "#A variável “Churn” pode ser classificada como qualitativa nominal."
      ],
      "metadata": {
        "id": "kZoX1fMsqAeH"
      },
      "execution_count": null,
      "outputs": []
    },
    {
      "cell_type": "markdown",
      "source": [
        "## Definição Formal\n",
        "\n",
        "Informações para classificaçãtexto:\n",
        "X = inputs(dados de entrada)\n",
        "y = outputs(dados de saída)"
      ],
      "metadata": {
        "id": "EHPJ_J8TruJZ"
      }
    },
    {
      "cell_type": "code",
      "source": [
        "#Dica\n",
        "pd.set_option('display.max_columns', 39)"
      ],
      "metadata": {
        "id": "FZ6UtAVyqHug"
      },
      "execution_count": null,
      "outputs": []
    },
    {
      "cell_type": "code",
      "source": [
        "dados_final.head()"
      ],
      "metadata": {
        "colab": {
          "base_uri": "https://localhost:8080/",
          "height": 270
        },
        "id": "sOW-s4T8sU23",
        "outputId": "e8e35edf-227a-479b-d06d-9001f2e3918a"
      },
      "execution_count": null,
      "outputs": [
        {
          "output_type": "execute_result",
          "data": {
            "text/plain": [
              "   Conjuge  Dependentes  TelefoneFixo  PagamentoOnline  Churn  Maior65Anos  \\\n",
              "0        1            0             0                1      0            0   \n",
              "1        0            0             1                0      0            0   \n",
              "2        0            0             1                1      1            0   \n",
              "3        0            0             0                0      0            0   \n",
              "4        0            0             1                1      1            0   \n",
              "\n",
              "   MesesDeContrato  ContaMensal  VariasLinhasTelefonicas_Nao  \\\n",
              "0                1        29.85                            0   \n",
              "1               34        56.95                            1   \n",
              "2                2        53.85                            1   \n",
              "3               45        42.30                            0   \n",
              "4                2        70.70                            1   \n",
              "\n",
              "   VariasLinhasTelefonicas_SemServicoTelefonico  VariasLinhasTelefonicas_Sim  \\\n",
              "0                                             1                            0   \n",
              "1                                             0                            0   \n",
              "2                                             0                            0   \n",
              "3                                             1                            0   \n",
              "4                                             0                            0   \n",
              "\n",
              "   ServicoDeInternet_DSL  ServicoDeInternet_FibraOptica  \\\n",
              "0                      1                              0   \n",
              "1                      1                              0   \n",
              "2                      1                              0   \n",
              "3                      1                              0   \n",
              "4                      0                              1   \n",
              "\n",
              "   ServicoDeInternet_Nao  SegurancaOnline_Nao  \\\n",
              "0                      0                    1   \n",
              "1                      0                    0   \n",
              "2                      0                    0   \n",
              "3                      0                    0   \n",
              "4                      0                    1   \n",
              "\n",
              "   SegurancaOnline_SemServicoDeInternet  SegurancaOnline_Sim  \\\n",
              "0                                     0                    0   \n",
              "1                                     0                    1   \n",
              "2                                     0                    1   \n",
              "3                                     0                    1   \n",
              "4                                     0                    0   \n",
              "\n",
              "   BackupOnline_Nao  BackupOnline_SemServicoDeInternet  BackupOnline_Sim  \\\n",
              "0                 0                                  0                 1   \n",
              "1                 1                                  0                 0   \n",
              "2                 0                                  0                 1   \n",
              "3                 1                                  0                 0   \n",
              "4                 1                                  0                 0   \n",
              "\n",
              "   SeguroNoDispositivo_Nao  SeguroNoDispositivo_SemServicoDeInternet  \\\n",
              "0                        1                                         0   \n",
              "1                        0                                         0   \n",
              "2                        1                                         0   \n",
              "3                        0                                         0   \n",
              "4                        1                                         0   \n",
              "\n",
              "   SeguroNoDispositivo_Sim  SuporteTecnico_Nao  \\\n",
              "0                        0                   1   \n",
              "1                        1                   1   \n",
              "2                        0                   1   \n",
              "3                        1                   0   \n",
              "4                        0                   1   \n",
              "\n",
              "   SuporteTecnico_SemServicoDeInternet  SuporteTecnico_Sim  TVaCabo_Nao  \\\n",
              "0                                    0                   0            1   \n",
              "1                                    0                   0            1   \n",
              "2                                    0                   0            1   \n",
              "3                                    0                   1            1   \n",
              "4                                    0                   0            1   \n",
              "\n",
              "   TVaCabo_SemServicoDeInternet  TVaCabo_Sim  StreamingDeFilmes_Nao  \\\n",
              "0                             0            0                      1   \n",
              "1                             0            0                      1   \n",
              "2                             0            0                      1   \n",
              "3                             0            0                      1   \n",
              "4                             0            0                      1   \n",
              "\n",
              "   StreamingDeFilmes_SemServicoDeInternet  StreamingDeFilmes_Sim  \\\n",
              "0                                       0                      0   \n",
              "1                                       0                      0   \n",
              "2                                       0                      0   \n",
              "3                                       0                      0   \n",
              "4                                       0                      0   \n",
              "\n",
              "   TipoDeContrato_DoisAnos  TipoDeContrato_Mensalmente  TipoDeContrato_UmAno  \\\n",
              "0                        0                           1                     0   \n",
              "1                        0                           0                     1   \n",
              "2                        0                           1                     0   \n",
              "3                        0                           0                     1   \n",
              "4                        0                           1                     0   \n",
              "\n",
              "   FormaDePagamento_CartaoDeCredito  FormaDePagamento_ChequeDigital  \\\n",
              "0                                 0                               1   \n",
              "1                                 0                               0   \n",
              "2                                 0                               0   \n",
              "3                                 0                               0   \n",
              "4                                 0                               1   \n",
              "\n",
              "   FormaDePagamento_ChequePapel  FormaDePagamento_DebitoEmConta  \n",
              "0                             0                               0  \n",
              "1                             1                               0  \n",
              "2                             1                               0  \n",
              "3                             0                               1  \n",
              "4                             0                               0  "
            ],
            "text/html": [
              "\n",
              "\n",
              "  <div id=\"df-5120945b-15e0-4927-9c56-558a5f529eb3\">\n",
              "    <div class=\"colab-df-container\">\n",
              "      <div>\n",
              "<style scoped>\n",
              "    .dataframe tbody tr th:only-of-type {\n",
              "        vertical-align: middle;\n",
              "    }\n",
              "\n",
              "    .dataframe tbody tr th {\n",
              "        vertical-align: top;\n",
              "    }\n",
              "\n",
              "    .dataframe thead th {\n",
              "        text-align: right;\n",
              "    }\n",
              "</style>\n",
              "<table border=\"1\" class=\"dataframe\">\n",
              "  <thead>\n",
              "    <tr style=\"text-align: right;\">\n",
              "      <th></th>\n",
              "      <th>Conjuge</th>\n",
              "      <th>Dependentes</th>\n",
              "      <th>TelefoneFixo</th>\n",
              "      <th>PagamentoOnline</th>\n",
              "      <th>Churn</th>\n",
              "      <th>Maior65Anos</th>\n",
              "      <th>MesesDeContrato</th>\n",
              "      <th>ContaMensal</th>\n",
              "      <th>VariasLinhasTelefonicas_Nao</th>\n",
              "      <th>VariasLinhasTelefonicas_SemServicoTelefonico</th>\n",
              "      <th>VariasLinhasTelefonicas_Sim</th>\n",
              "      <th>ServicoDeInternet_DSL</th>\n",
              "      <th>ServicoDeInternet_FibraOptica</th>\n",
              "      <th>ServicoDeInternet_Nao</th>\n",
              "      <th>SegurancaOnline_Nao</th>\n",
              "      <th>SegurancaOnline_SemServicoDeInternet</th>\n",
              "      <th>SegurancaOnline_Sim</th>\n",
              "      <th>BackupOnline_Nao</th>\n",
              "      <th>BackupOnline_SemServicoDeInternet</th>\n",
              "      <th>BackupOnline_Sim</th>\n",
              "      <th>SeguroNoDispositivo_Nao</th>\n",
              "      <th>SeguroNoDispositivo_SemServicoDeInternet</th>\n",
              "      <th>SeguroNoDispositivo_Sim</th>\n",
              "      <th>SuporteTecnico_Nao</th>\n",
              "      <th>SuporteTecnico_SemServicoDeInternet</th>\n",
              "      <th>SuporteTecnico_Sim</th>\n",
              "      <th>TVaCabo_Nao</th>\n",
              "      <th>TVaCabo_SemServicoDeInternet</th>\n",
              "      <th>TVaCabo_Sim</th>\n",
              "      <th>StreamingDeFilmes_Nao</th>\n",
              "      <th>StreamingDeFilmes_SemServicoDeInternet</th>\n",
              "      <th>StreamingDeFilmes_Sim</th>\n",
              "      <th>TipoDeContrato_DoisAnos</th>\n",
              "      <th>TipoDeContrato_Mensalmente</th>\n",
              "      <th>TipoDeContrato_UmAno</th>\n",
              "      <th>FormaDePagamento_CartaoDeCredito</th>\n",
              "      <th>FormaDePagamento_ChequeDigital</th>\n",
              "      <th>FormaDePagamento_ChequePapel</th>\n",
              "      <th>FormaDePagamento_DebitoEmConta</th>\n",
              "    </tr>\n",
              "  </thead>\n",
              "  <tbody>\n",
              "    <tr>\n",
              "      <th>0</th>\n",
              "      <td>1</td>\n",
              "      <td>0</td>\n",
              "      <td>0</td>\n",
              "      <td>1</td>\n",
              "      <td>0</td>\n",
              "      <td>0</td>\n",
              "      <td>1</td>\n",
              "      <td>29.85</td>\n",
              "      <td>0</td>\n",
              "      <td>1</td>\n",
              "      <td>0</td>\n",
              "      <td>1</td>\n",
              "      <td>0</td>\n",
              "      <td>0</td>\n",
              "      <td>1</td>\n",
              "      <td>0</td>\n",
              "      <td>0</td>\n",
              "      <td>0</td>\n",
              "      <td>0</td>\n",
              "      <td>1</td>\n",
              "      <td>1</td>\n",
              "      <td>0</td>\n",
              "      <td>0</td>\n",
              "      <td>1</td>\n",
              "      <td>0</td>\n",
              "      <td>0</td>\n",
              "      <td>1</td>\n",
              "      <td>0</td>\n",
              "      <td>0</td>\n",
              "      <td>1</td>\n",
              "      <td>0</td>\n",
              "      <td>0</td>\n",
              "      <td>0</td>\n",
              "      <td>1</td>\n",
              "      <td>0</td>\n",
              "      <td>0</td>\n",
              "      <td>1</td>\n",
              "      <td>0</td>\n",
              "      <td>0</td>\n",
              "    </tr>\n",
              "    <tr>\n",
              "      <th>1</th>\n",
              "      <td>0</td>\n",
              "      <td>0</td>\n",
              "      <td>1</td>\n",
              "      <td>0</td>\n",
              "      <td>0</td>\n",
              "      <td>0</td>\n",
              "      <td>34</td>\n",
              "      <td>56.95</td>\n",
              "      <td>1</td>\n",
              "      <td>0</td>\n",
              "      <td>0</td>\n",
              "      <td>1</td>\n",
              "      <td>0</td>\n",
              "      <td>0</td>\n",
              "      <td>0</td>\n",
              "      <td>0</td>\n",
              "      <td>1</td>\n",
              "      <td>1</td>\n",
              "      <td>0</td>\n",
              "      <td>0</td>\n",
              "      <td>0</td>\n",
              "      <td>0</td>\n",
              "      <td>1</td>\n",
              "      <td>1</td>\n",
              "      <td>0</td>\n",
              "      <td>0</td>\n",
              "      <td>1</td>\n",
              "      <td>0</td>\n",
              "      <td>0</td>\n",
              "      <td>1</td>\n",
              "      <td>0</td>\n",
              "      <td>0</td>\n",
              "      <td>0</td>\n",
              "      <td>0</td>\n",
              "      <td>1</td>\n",
              "      <td>0</td>\n",
              "      <td>0</td>\n",
              "      <td>1</td>\n",
              "      <td>0</td>\n",
              "    </tr>\n",
              "    <tr>\n",
              "      <th>2</th>\n",
              "      <td>0</td>\n",
              "      <td>0</td>\n",
              "      <td>1</td>\n",
              "      <td>1</td>\n",
              "      <td>1</td>\n",
              "      <td>0</td>\n",
              "      <td>2</td>\n",
              "      <td>53.85</td>\n",
              "      <td>1</td>\n",
              "      <td>0</td>\n",
              "      <td>0</td>\n",
              "      <td>1</td>\n",
              "      <td>0</td>\n",
              "      <td>0</td>\n",
              "      <td>0</td>\n",
              "      <td>0</td>\n",
              "      <td>1</td>\n",
              "      <td>0</td>\n",
              "      <td>0</td>\n",
              "      <td>1</td>\n",
              "      <td>1</td>\n",
              "      <td>0</td>\n",
              "      <td>0</td>\n",
              "      <td>1</td>\n",
              "      <td>0</td>\n",
              "      <td>0</td>\n",
              "      <td>1</td>\n",
              "      <td>0</td>\n",
              "      <td>0</td>\n",
              "      <td>1</td>\n",
              "      <td>0</td>\n",
              "      <td>0</td>\n",
              "      <td>0</td>\n",
              "      <td>1</td>\n",
              "      <td>0</td>\n",
              "      <td>0</td>\n",
              "      <td>0</td>\n",
              "      <td>1</td>\n",
              "      <td>0</td>\n",
              "    </tr>\n",
              "    <tr>\n",
              "      <th>3</th>\n",
              "      <td>0</td>\n",
              "      <td>0</td>\n",
              "      <td>0</td>\n",
              "      <td>0</td>\n",
              "      <td>0</td>\n",
              "      <td>0</td>\n",
              "      <td>45</td>\n",
              "      <td>42.30</td>\n",
              "      <td>0</td>\n",
              "      <td>1</td>\n",
              "      <td>0</td>\n",
              "      <td>1</td>\n",
              "      <td>0</td>\n",
              "      <td>0</td>\n",
              "      <td>0</td>\n",
              "      <td>0</td>\n",
              "      <td>1</td>\n",
              "      <td>1</td>\n",
              "      <td>0</td>\n",
              "      <td>0</td>\n",
              "      <td>0</td>\n",
              "      <td>0</td>\n",
              "      <td>1</td>\n",
              "      <td>0</td>\n",
              "      <td>0</td>\n",
              "      <td>1</td>\n",
              "      <td>1</td>\n",
              "      <td>0</td>\n",
              "      <td>0</td>\n",
              "      <td>1</td>\n",
              "      <td>0</td>\n",
              "      <td>0</td>\n",
              "      <td>0</td>\n",
              "      <td>0</td>\n",
              "      <td>1</td>\n",
              "      <td>0</td>\n",
              "      <td>0</td>\n",
              "      <td>0</td>\n",
              "      <td>1</td>\n",
              "    </tr>\n",
              "    <tr>\n",
              "      <th>4</th>\n",
              "      <td>0</td>\n",
              "      <td>0</td>\n",
              "      <td>1</td>\n",
              "      <td>1</td>\n",
              "      <td>1</td>\n",
              "      <td>0</td>\n",
              "      <td>2</td>\n",
              "      <td>70.70</td>\n",
              "      <td>1</td>\n",
              "      <td>0</td>\n",
              "      <td>0</td>\n",
              "      <td>0</td>\n",
              "      <td>1</td>\n",
              "      <td>0</td>\n",
              "      <td>1</td>\n",
              "      <td>0</td>\n",
              "      <td>0</td>\n",
              "      <td>1</td>\n",
              "      <td>0</td>\n",
              "      <td>0</td>\n",
              "      <td>1</td>\n",
              "      <td>0</td>\n",
              "      <td>0</td>\n",
              "      <td>1</td>\n",
              "      <td>0</td>\n",
              "      <td>0</td>\n",
              "      <td>1</td>\n",
              "      <td>0</td>\n",
              "      <td>0</td>\n",
              "      <td>1</td>\n",
              "      <td>0</td>\n",
              "      <td>0</td>\n",
              "      <td>0</td>\n",
              "      <td>1</td>\n",
              "      <td>0</td>\n",
              "      <td>0</td>\n",
              "      <td>1</td>\n",
              "      <td>0</td>\n",
              "      <td>0</td>\n",
              "    </tr>\n",
              "  </tbody>\n",
              "</table>\n",
              "</div>\n",
              "      <button class=\"colab-df-convert\" onclick=\"convertToInteractive('df-5120945b-15e0-4927-9c56-558a5f529eb3')\"\n",
              "              title=\"Convert this dataframe to an interactive table.\"\n",
              "              style=\"display:none;\">\n",
              "\n",
              "  <svg xmlns=\"http://www.w3.org/2000/svg\" height=\"24px\"viewBox=\"0 0 24 24\"\n",
              "       width=\"24px\">\n",
              "    <path d=\"M0 0h24v24H0V0z\" fill=\"none\"/>\n",
              "    <path d=\"M18.56 5.44l.94 2.06.94-2.06 2.06-.94-2.06-.94-.94-2.06-.94 2.06-2.06.94zm-11 1L8.5 8.5l.94-2.06 2.06-.94-2.06-.94L8.5 2.5l-.94 2.06-2.06.94zm10 10l.94 2.06.94-2.06 2.06-.94-2.06-.94-.94-2.06-.94 2.06-2.06.94z\"/><path d=\"M17.41 7.96l-1.37-1.37c-.4-.4-.92-.59-1.43-.59-.52 0-1.04.2-1.43.59L10.3 9.45l-7.72 7.72c-.78.78-.78 2.05 0 2.83L4 21.41c.39.39.9.59 1.41.59.51 0 1.02-.2 1.41-.59l7.78-7.78 2.81-2.81c.8-.78.8-2.07 0-2.86zM5.41 20L4 18.59l7.72-7.72 1.47 1.35L5.41 20z\"/>\n",
              "  </svg>\n",
              "      </button>\n",
              "\n",
              "\n",
              "\n",
              "    <div id=\"df-d6b785eb-ee24-4ec5-a968-3a6b48a7491e\">\n",
              "      <button class=\"colab-df-quickchart\" onclick=\"quickchart('df-d6b785eb-ee24-4ec5-a968-3a6b48a7491e')\"\n",
              "              title=\"Suggest charts.\"\n",
              "              style=\"display:none;\">\n",
              "\n",
              "<svg xmlns=\"http://www.w3.org/2000/svg\" height=\"24px\"viewBox=\"0 0 24 24\"\n",
              "     width=\"24px\">\n",
              "    <g>\n",
              "        <path d=\"M19 3H5c-1.1 0-2 .9-2 2v14c0 1.1.9 2 2 2h14c1.1 0 2-.9 2-2V5c0-1.1-.9-2-2-2zM9 17H7v-7h2v7zm4 0h-2V7h2v10zm4 0h-2v-4h2v4z\"/>\n",
              "    </g>\n",
              "</svg>\n",
              "      </button>\n",
              "    </div>\n",
              "\n",
              "<style>\n",
              "  .colab-df-quickchart {\n",
              "    background-color: #E8F0FE;\n",
              "    border: none;\n",
              "    border-radius: 50%;\n",
              "    cursor: pointer;\n",
              "    display: none;\n",
              "    fill: #1967D2;\n",
              "    height: 32px;\n",
              "    padding: 0 0 0 0;\n",
              "    width: 32px;\n",
              "  }\n",
              "\n",
              "  .colab-df-quickchart:hover {\n",
              "    background-color: #E2EBFA;\n",
              "    box-shadow: 0px 1px 2px rgba(60, 64, 67, 0.3), 0px 1px 3px 1px rgba(60, 64, 67, 0.15);\n",
              "    fill: #174EA6;\n",
              "  }\n",
              "\n",
              "  [theme=dark] .colab-df-quickchart {\n",
              "    background-color: #3B4455;\n",
              "    fill: #D2E3FC;\n",
              "  }\n",
              "\n",
              "  [theme=dark] .colab-df-quickchart:hover {\n",
              "    background-color: #434B5C;\n",
              "    box-shadow: 0px 1px 3px 1px rgba(0, 0, 0, 0.15);\n",
              "    filter: drop-shadow(0px 1px 2px rgba(0, 0, 0, 0.3));\n",
              "    fill: #FFFFFF;\n",
              "  }\n",
              "</style>\n",
              "\n",
              "    <script>\n",
              "      async function quickchart(key) {\n",
              "        const containerElement = document.querySelector('#' + key);\n",
              "        const charts = await google.colab.kernel.invokeFunction(\n",
              "            'suggestCharts', [key], {});\n",
              "      }\n",
              "    </script>\n",
              "\n",
              "      <script>\n",
              "\n",
              "function displayQuickchartButton(domScope) {\n",
              "  let quickchartButtonEl =\n",
              "    domScope.querySelector('#df-d6b785eb-ee24-4ec5-a968-3a6b48a7491e button.colab-df-quickchart');\n",
              "  quickchartButtonEl.style.display =\n",
              "    google.colab.kernel.accessAllowed ? 'block' : 'none';\n",
              "}\n",
              "\n",
              "        displayQuickchartButton(document);\n",
              "      </script>\n",
              "      <style>\n",
              "    .colab-df-container {\n",
              "      display:flex;\n",
              "      flex-wrap:wrap;\n",
              "      gap: 12px;\n",
              "    }\n",
              "\n",
              "    .colab-df-convert {\n",
              "      background-color: #E8F0FE;\n",
              "      border: none;\n",
              "      border-radius: 50%;\n",
              "      cursor: pointer;\n",
              "      display: none;\n",
              "      fill: #1967D2;\n",
              "      height: 32px;\n",
              "      padding: 0 0 0 0;\n",
              "      width: 32px;\n",
              "    }\n",
              "\n",
              "    .colab-df-convert:hover {\n",
              "      background-color: #E2EBFA;\n",
              "      box-shadow: 0px 1px 2px rgba(60, 64, 67, 0.3), 0px 1px 3px 1px rgba(60, 64, 67, 0.15);\n",
              "      fill: #174EA6;\n",
              "    }\n",
              "\n",
              "    [theme=dark] .colab-df-convert {\n",
              "      background-color: #3B4455;\n",
              "      fill: #D2E3FC;\n",
              "    }\n",
              "\n",
              "    [theme=dark] .colab-df-convert:hover {\n",
              "      background-color: #434B5C;\n",
              "      box-shadow: 0px 1px 3px 1px rgba(0, 0, 0, 0.15);\n",
              "      filter: drop-shadow(0px 1px 2px rgba(0, 0, 0, 0.3));\n",
              "      fill: #FFFFFF;\n",
              "    }\n",
              "  </style>\n",
              "\n",
              "      <script>\n",
              "        const buttonEl =\n",
              "          document.querySelector('#df-5120945b-15e0-4927-9c56-558a5f529eb3 button.colab-df-convert');\n",
              "        buttonEl.style.display =\n",
              "          google.colab.kernel.accessAllowed ? 'block' : 'none';\n",
              "\n",
              "        async function convertToInteractive(key) {\n",
              "          const element = document.querySelector('#df-5120945b-15e0-4927-9c56-558a5f529eb3');\n",
              "          const dataTable =\n",
              "            await google.colab.kernel.invokeFunction('convertToInteractive',\n",
              "                                                     [key], {});\n",
              "          if (!dataTable) return;\n",
              "\n",
              "          const docLinkHtml = 'Like what you see? Visit the ' +\n",
              "            '<a target=\"_blank\" href=https://colab.research.google.com/notebooks/data_table.ipynb>data table notebook</a>'\n",
              "            + ' to learn more about interactive tables.';\n",
              "          element.innerHTML = '';\n",
              "          dataTable['output_type'] = 'display_data';\n",
              "          await google.colab.output.renderOutput(dataTable, element);\n",
              "          const docLink = document.createElement('div');\n",
              "          docLink.innerHTML = docLinkHtml;\n",
              "          element.appendChild(docLink);\n",
              "        }\n",
              "      </script>\n",
              "    </div>\n",
              "  </div>\n"
            ]
          },
          "metadata": {},
          "execution_count": 13
        }
      ]
    },
    {
      "cell_type": "code",
      "source": [
        "Xmaria = [[0,0,1,1,0,0,39.90,1,0,0,0,1,0,1,0,0,0,0,1,1,1,0,0,1,0,1,0,0,0,0,1,0,0,1,0,0,0,1]]\n"
      ],
      "metadata": {
        "id": "Iyi2I4VrtHhn"
      },
      "execution_count": null,
      "outputs": []
    },
    {
      "cell_type": "code",
      "source": [],
      "metadata": {
        "id": "94Y0njxBtLRK"
      },
      "execution_count": null,
      "outputs": []
    },
    {
      "cell_type": "code",
      "source": [
        "#Dados desbalanceados\n",
        "\n",
        "import seaborn as sns\n",
        "%matplotlib inline\n",
        "\n",
        "ax = sns.countplot(x='Churn', data=dados_final)"
      ],
      "metadata": {
        "colab": {
          "base_uri": "https://localhost:8080/",
          "height": 449
        },
        "id": "NUP-6arzuXCK",
        "outputId": "216cdb6f-2ef8-4497-a960-0ed37c1732e6"
      },
      "execution_count": null,
      "outputs": [
        {
          "output_type": "display_data",
          "data": {
            "text/plain": [
              "<Figure size 640x480 with 1 Axes>"
            ],
            "image/png": "[encoded data removed]"
          },
          "metadata": {}
        }
      ]
    },
    {
      "cell_type": "markdown",
      "source": [
        "Analisando o gráfico, podemos perceber que nossa variável está desbalanceada e precisamos tratar isso.\n",
        "Para realizar o balanceamento dos dados, utilizaremos uma técnica chamada de **Oversampling**,\n",
        "que consiste em realizar a criação de novas observações da classe quando há menos amostras,\n",
        "tendo como objetivo igualar a proporção entre as categorias.\n",
        "\n",
        "Uma das técnicas de oversampling muito utilizada é a **SMOTE**. Sua ideia consiste em criar observações intermediárias entre os dados que estão próximos. Por exemplo, se minutos totais por dia são 129.1 e 146.3, então será criada uma amostra com os minutos totais por dia com 137.7. Lembrando que não é necessariamente a média entre as amostras.\n",
        "\n"
      ],
      "metadata": {
        "id": "qyX2XnIduxAx"
      }
    },
    {
      "cell_type": "code",
      "source": [
        "!pip install -U imbalanced-learn"
      ],
      "metadata": {
        "colab": {
          "base_uri": "https://localhost:8080/"
        },
        "id": "EUKbX0qtubIx",
        "outputId": "01831fee-cf89-4cce-98b9-a1e3360e81bc"
      },
      "execution_count": null,
      "outputs": [
        {
          "output_type": "stream",
          "name": "stdout",
          "text": [
            "Requirement already satisfied: imbalanced-learn in /usr/local/lib/python3.10/dist-packages (0.10.1)\n",
            "Collecting imbalanced-learn\n",
            "  Downloading imbalanced_learn-0.11.0-py3-none-any.whl (235 kB)\n",
            "\u001b[2K     \u001b[90m━━━━━━━━━━━━━━━━━━━━━━━━━━━━━━━━━━━━━━━\u001b[0m \u001b[32m235.6/235.6 kB\u001b[0m \u001b[31m3.9 MB/s\u001b[0m eta \u001b[36m0:00:00\u001b[0m\n",
            "\u001b[?25hRequirement already satisfied: numpy>=1.17.3 in /usr/local/lib/python3.10/dist-packages (from imbalanced-learn) (1.22.4)\n",
            "Requirement already satisfied: scipy>=1.5.0 in /usr/local/lib/python3.10/dist-packages (from imbalanced-learn) (1.10.1)\n",
            "Requirement already satisfied: scikit-learn>=1.0.2 in /usr/local/lib/python3.10/dist-packages (from imbalanced-learn) (1.2.2)\n",
            "Requirement already satisfied: joblib>=1.1.1 in /usr/local/lib/python3.10/dist-packages (from imbalanced-learn) (1.3.1)\n",
            "Requirement already satisfied: threadpoolctl>=2.0.0 in /usr/local/lib/python3.10/dist-packages (from imbalanced-learn) (3.2.0)\n",
            "Installing collected packages: imbalanced-learn\n",
            "  Attempting uninstall: imbalanced-learn\n",
            "    Found existing installation: imbalanced-learn 0.10.1\n",
            "    Uninstalling imbalanced-learn-0.10.1:\n",
            "      Successfully uninstalled imbalanced-learn-0.10.1\n",
            "Successfully installed imbalanced-learn-0.11.0\n"
          ]
        }
      ]
    },
    {
      "cell_type": "code",
      "source": [
        "# Para podermos aplicar o SMOTE, devemos separar  os dados em variáveis características e resposta\n",
        "\n",
        "X = dados_final.drop('Churn', axis = 1)\n",
        "y = dados_final['Churn']"
      ],
      "metadata": {
        "id": "_UDycQz0vFje"
      },
      "execution_count": null,
      "outputs": []
    },
    {
      "cell_type": "code",
      "source": [
        "from imblearn.over_sampling import SMOTE\n",
        "\n",
        "smt = SMOTE(random_state=123)  # Instancia um objeto da classe SMOTE\n",
        "X, y = smt.fit_resample(X, y)  # Realiza a reamostragem do conjunto de dados"
      ],
      "metadata": {
        "id": "H5SMNvO3vIPw"
      },
      "execution_count": null,
      "outputs": []
    },
    {
      "cell_type": "code",
      "source": [
        "dados_final = pd.concat([X, y], axis=1)  # Concatena a variável target (y) com as features (X)\n",
        "\n",
        "# Verifica se o balanceamento e a concatenação estão corretos.\n",
        "dados_final.head(2)"
      ],
      "metadata": {
        "colab": {
          "base_uri": "https://localhost:8080/",
          "height": 176
        },
        "id": "3zcseqaWvL3g",
        "outputId": "3e9560d5-5e7d-4143-badc-cadd5f6b6ec5"
      },
      "execution_count": null,
      "outputs": [
        {
          "output_type": "execute_result",
          "data": {
            "text/plain": [
              "   Conjuge  Dependentes  TelefoneFixo  PagamentoOnline  Maior65Anos  \\\n",
              "0        1            0             0                1            0   \n",
              "1        0            0             1                0            0   \n",
              "\n",
              "   MesesDeContrato  ContaMensal  VariasLinhasTelefonicas_Nao  \\\n",
              "0                1        29.85                            0   \n",
              "1               34        56.95                            1   \n",
              "\n",
              "   VariasLinhasTelefonicas_SemServicoTelefonico  VariasLinhasTelefonicas_Sim  \\\n",
              "0                                             1                            0   \n",
              "1                                             0                            0   \n",
              "\n",
              "   ServicoDeInternet_DSL  ServicoDeInternet_FibraOptica  \\\n",
              "0                      1                              0   \n",
              "1                      1                              0   \n",
              "\n",
              "   ServicoDeInternet_Nao  SegurancaOnline_Nao  \\\n",
              "0                      0                    1   \n",
              "1                      0                    0   \n",
              "\n",
              "   SegurancaOnline_SemServicoDeInternet  SegurancaOnline_Sim  \\\n",
              "0                                     0                    0   \n",
              "1                                     0                    1   \n",
              "\n",
              "   BackupOnline_Nao  BackupOnline_SemServicoDeInternet  BackupOnline_Sim  \\\n",
              "0                 0                                  0                 1   \n",
              "1                 1                                  0                 0   \n",
              "\n",
              "   SeguroNoDispositivo_Nao  SeguroNoDispositivo_SemServicoDeInternet  \\\n",
              "0                        1                                         0   \n",
              "1                        0                                         0   \n",
              "\n",
              "   SeguroNoDispositivo_Sim  SuporteTecnico_Nao  \\\n",
              "0                        0                   1   \n",
              "1                        1                   1   \n",
              "\n",
              "   SuporteTecnico_SemServicoDeInternet  SuporteTecnico_Sim  TVaCabo_Nao  \\\n",
              "0                                    0                   0            1   \n",
              "1                                    0                   0            1   \n",
              "\n",
              "   TVaCabo_SemServicoDeInternet  TVaCabo_Sim  StreamingDeFilmes_Nao  \\\n",
              "0                             0            0                      1   \n",
              "1                             0            0                      1   \n",
              "\n",
              "   StreamingDeFilmes_SemServicoDeInternet  StreamingDeFilmes_Sim  \\\n",
              "0                                       0                      0   \n",
              "1                                       0                      0   \n",
              "\n",
              "   TipoDeContrato_DoisAnos  TipoDeContrato_Mensalmente  TipoDeContrato_UmAno  \\\n",
              "0                        0                           1                     0   \n",
              "1                        0                           0                     1   \n",
              "\n",
              "   FormaDePagamento_CartaoDeCredito  FormaDePagamento_ChequeDigital  \\\n",
              "0                                 0                               1   \n",
              "1                                 0                               0   \n",
              "\n",
              "   FormaDePagamento_ChequePapel  FormaDePagamento_DebitoEmConta  Churn  \n",
              "0                             0                               0      0  \n",
              "1                             1                               0      0  "
            ],
            "text/html": [
              "\n",
              "\n",
              "  <div id=\"df-2ae9a9f1-afc0-4010-8ca5-379311d39861\">\n",
              "    <div class=\"colab-df-container\">\n",
              "      <div>\n",
              "<style scoped>\n",
              "    .dataframe tbody tr th:only-of-type {\n",
              "        vertical-align: middle;\n",
              "    }\n",
              "\n",
              "    .dataframe tbody tr th {\n",
              "        vertical-align: top;\n",
              "    }\n",
              "\n",
              "    .dataframe thead th {\n",
              "        text-align: right;\n",
              "    }\n",
              "</style>\n",
              "<table border=\"1\" class=\"dataframe\">\n",
              "  <thead>\n",
              "    <tr style=\"text-align: right;\">\n",
              "      <th></th>\n",
              "      <th>Conjuge</th>\n",
              "      <th>Dependentes</th>\n",
              "      <th>TelefoneFixo</th>\n",
              "      <th>PagamentoOnline</th>\n",
              "      <th>Maior65Anos</th>\n",
              "      <th>MesesDeContrato</th>\n",
              "      <th>ContaMensal</th>\n",
              "      <th>VariasLinhasTelefonicas_Nao</th>\n",
              "      <th>VariasLinhasTelefonicas_SemServicoTelefonico</th>\n",
              "      <th>VariasLinhasTelefonicas_Sim</th>\n",
              "      <th>ServicoDeInternet_DSL</th>\n",
              "      <th>ServicoDeInternet_FibraOptica</th>\n",
              "      <th>ServicoDeInternet_Nao</th>\n",
              "      <th>SegurancaOnline_Nao</th>\n",
              "      <th>SegurancaOnline_SemServicoDeInternet</th>\n",
              "      <th>SegurancaOnline_Sim</th>\n",
              "      <th>BackupOnline_Nao</th>\n",
              "      <th>BackupOnline_SemServicoDeInternet</th>\n",
              "      <th>BackupOnline_Sim</th>\n",
              "      <th>SeguroNoDispositivo_Nao</th>\n",
              "      <th>SeguroNoDispositivo_SemServicoDeInternet</th>\n",
              "      <th>SeguroNoDispositivo_Sim</th>\n",
              "      <th>SuporteTecnico_Nao</th>\n",
              "      <th>SuporteTecnico_SemServicoDeInternet</th>\n",
              "      <th>SuporteTecnico_Sim</th>\n",
              "      <th>TVaCabo_Nao</th>\n",
              "      <th>TVaCabo_SemServicoDeInternet</th>\n",
              "      <th>TVaCabo_Sim</th>\n",
              "      <th>StreamingDeFilmes_Nao</th>\n",
              "      <th>StreamingDeFilmes_SemServicoDeInternet</th>\n",
              "      <th>StreamingDeFilmes_Sim</th>\n",
              "      <th>TipoDeContrato_DoisAnos</th>\n",
              "      <th>TipoDeContrato_Mensalmente</th>\n",
              "      <th>TipoDeContrato_UmAno</th>\n",
              "      <th>FormaDePagamento_CartaoDeCredito</th>\n",
              "      <th>FormaDePagamento_ChequeDigital</th>\n",
              "      <th>FormaDePagamento_ChequePapel</th>\n",
              "      <th>FormaDePagamento_DebitoEmConta</th>\n",
              "      <th>Churn</th>\n",
              "    </tr>\n",
              "  </thead>\n",
              "  <tbody>\n",
              "    <tr>\n",
              "      <th>0</th>\n",
              "      <td>1</td>\n",
              "      <td>0</td>\n",
              "      <td>0</td>\n",
              "      <td>1</td>\n",
              "      <td>0</td>\n",
              "      <td>1</td>\n",
              "      <td>29.85</td>\n",
              "      <td>0</td>\n",
              "      <td>1</td>\n",
              "      <td>0</td>\n",
              "      <td>1</td>\n",
              "      <td>0</td>\n",
              "      <td>0</td>\n",
              "      <td>1</td>\n",
              "      <td>0</td>\n",
              "      <td>0</td>\n",
              "      <td>0</td>\n",
              "      <td>0</td>\n",
              "      <td>1</td>\n",
              "      <td>1</td>\n",
              "      <td>0</td>\n",
              "      <td>0</td>\n",
              "      <td>1</td>\n",
              "      <td>0</td>\n",
              "      <td>0</td>\n",
              "      <td>1</td>\n",
              "      <td>0</td>\n",
              "      <td>0</td>\n",
              "      <td>1</td>\n",
              "      <td>0</td>\n",
              "      <td>0</td>\n",
              "      <td>0</td>\n",
              "      <td>1</td>\n",
              "      <td>0</td>\n",
              "      <td>0</td>\n",
              "      <td>1</td>\n",
              "      <td>0</td>\n",
              "      <td>0</td>\n",
              "      <td>0</td>\n",
              "    </tr>\n",
              "    <tr>\n",
              "      <th>1</th>\n",
              "      <td>0</td>\n",
              "      <td>0</td>\n",
              "      <td>1</td>\n",
              "      <td>0</td>\n",
              "      <td>0</td>\n",
              "      <td>34</td>\n",
              "      <td>56.95</td>\n",
              "      <td>1</td>\n",
              "      <td>0</td>\n",
              "      <td>0</td>\n",
              "      <td>1</td>\n",
              "      <td>0</td>\n",
              "      <td>0</td>\n",
              "      <td>0</td>\n",
              "      <td>0</td>\n",
              "      <td>1</td>\n",
              "      <td>1</td>\n",
              "      <td>0</td>\n",
              "      <td>0</td>\n",
              "      <td>0</td>\n",
              "      <td>0</td>\n",
              "      <td>1</td>\n",
              "      <td>1</td>\n",
              "      <td>0</td>\n",
              "      <td>0</td>\n",
              "      <td>1</td>\n",
              "      <td>0</td>\n",
              "      <td>0</td>\n",
              "      <td>1</td>\n",
              "      <td>0</td>\n",
              "      <td>0</td>\n",
              "      <td>0</td>\n",
              "      <td>0</td>\n",
              "      <td>1</td>\n",
              "      <td>0</td>\n",
              "      <td>0</td>\n",
              "      <td>1</td>\n",
              "      <td>0</td>\n",
              "      <td>0</td>\n",
              "    </tr>\n",
              "  </tbody>\n",
              "</table>\n",
              "</div>\n",
              "      <button class=\"colab-df-convert\" onclick=\"convertToInteractive('df-2ae9a9f1-afc0-4010-8ca5-379311d39861')\"\n",
              "              title=\"Convert this dataframe to an interactive table.\"\n",
              "              style=\"display:none;\">\n",
              "\n",
              "  <svg xmlns=\"http://www.w3.org/2000/svg\" height=\"24px\"viewBox=\"0 0 24 24\"\n",
              "       width=\"24px\">\n",
              "    <path d=\"M0 0h24v24H0V0z\" fill=\"none\"/>\n",
              "    <path d=\"M18.56 5.44l.94 2.06.94-2.06 2.06-.94-2.06-.94-.94-2.06-.94 2.06-2.06.94zm-11 1L8.5 8.5l.94-2.06 2.06-.94-2.06-.94L8.5 2.5l-.94 2.06-2.06.94zm10 10l.94 2.06.94-2.06 2.06-.94-2.06-.94-.94-2.06-.94 2.06-2.06.94z\"/><path d=\"M17.41 7.96l-1.37-1.37c-.4-.4-.92-.59-1.43-.59-.52 0-1.04.2-1.43.59L10.3 9.45l-7.72 7.72c-.78.78-.78 2.05 0 2.83L4 21.41c.39.39.9.59 1.41.59.51 0 1.02-.2 1.41-.59l7.78-7.78 2.81-2.81c.8-.78.8-2.07 0-2.86zM5.41 20L4 18.59l7.72-7.72 1.47 1.35L5.41 20z\"/>\n",
              "  </svg>\n",
              "      </button>\n",
              "\n",
              "\n",
              "\n",
              "    <div id=\"df-6c2f1c7b-0729-43f5-a377-ee3205d8aaf7\">\n",
              "      <button class=\"colab-df-quickchart\" onclick=\"quickchart('df-6c2f1c7b-0729-43f5-a377-ee3205d8aaf7')\"\n",
              "              title=\"Suggest charts.\"\n",
              "              style=\"display:none;\">\n",
              "\n",
              "<svg xmlns=\"http://www.w3.org/2000/svg\" height=\"24px\"viewBox=\"0 0 24 24\"\n",
              "     width=\"24px\">\n",
              "    <g>\n",
              "        <path d=\"M19 3H5c-1.1 0-2 .9-2 2v14c0 1.1.9 2 2 2h14c1.1 0 2-.9 2-2V5c0-1.1-.9-2-2-2zM9 17H7v-7h2v7zm4 0h-2V7h2v10zm4 0h-2v-4h2v4z\"/>\n",
              "    </g>\n",
              "</svg>\n",
              "      </button>\n",
              "    </div>\n",
              "\n",
              "<style>\n",
              "  .colab-df-quickchart {\n",
              "    background-color: #E8F0FE;\n",
              "    border: none;\n",
              "    border-radius: 50%;\n",
              "    cursor: pointer;\n",
              "    display: none;\n",
              "    fill: #1967D2;\n",
              "    height: 32px;\n",
              "    padding: 0 0 0 0;\n",
              "    width: 32px;\n",
              "  }\n",
              "\n",
              "  .colab-df-quickchart:hover {\n",
              "    background-color: #E2EBFA;\n",
              "    box-shadow: 0px 1px 2px rgba(60, 64, 67, 0.3), 0px 1px 3px 1px rgba(60, 64, 67, 0.15);\n",
              "    fill: #174EA6;\n",
              "  }\n",
              "\n",
              "  [theme=dark] .colab-df-quickchart {\n",
              "    background-color: #3B4455;\n",
              "    fill: #D2E3FC;\n",
              "  }\n",
              "\n",
              "  [theme=dark] .colab-df-quickchart:hover {\n",
              "    background-color: #434B5C;\n",
              "    box-shadow: 0px 1px 3px 1px rgba(0, 0, 0, 0.15);\n",
              "    filter: drop-shadow(0px 1px 2px rgba(0, 0, 0, 0.3));\n",
              "    fill: #FFFFFF;\n",
              "  }\n",
              "</style>\n",
              "\n",
              "    <script>\n",
              "      async function quickchart(key) {\n",
              "        const containerElement = document.querySelector('#' + key);\n",
              "        const charts = await google.colab.kernel.invokeFunction(\n",
              "            'suggestCharts', [key], {});\n",
              "      }\n",
              "    </script>\n",
              "\n",
              "      <script>\n",
              "\n",
              "function displayQuickchartButton(domScope) {\n",
              "  let quickchartButtonEl =\n",
              "    domScope.querySelector('#df-6c2f1c7b-0729-43f5-a377-ee3205d8aaf7 button.colab-df-quickchart');\n",
              "  quickchartButtonEl.style.display =\n",
              "    google.colab.kernel.accessAllowed ? 'block' : 'none';\n",
              "}\n",
              "\n",
              "        displayQuickchartButton(document);\n",
              "      </script>\n",
              "      <style>\n",
              "    .colab-df-container {\n",
              "      display:flex;\n",
              "      flex-wrap:wrap;\n",
              "      gap: 12px;\n",
              "    }\n",
              "\n",
              "    .colab-df-convert {\n",
              "      background-color: #E8F0FE;\n",
              "      border: none;\n",
              "      border-radius: 50%;\n",
              "      cursor: pointer;\n",
              "      display: none;\n",
              "      fill: #1967D2;\n",
              "      height: 32px;\n",
              "      padding: 0 0 0 0;\n",
              "      width: 32px;\n",
              "    }\n",
              "\n",
              "    .colab-df-convert:hover {\n",
              "      background-color: #E2EBFA;\n",
              "      box-shadow: 0px 1px 2px rgba(60, 64, 67, 0.3), 0px 1px 3px 1px rgba(60, 64, 67, 0.15);\n",
              "      fill: #174EA6;\n",
              "    }\n",
              "\n",
              "    [theme=dark] .colab-df-convert {\n",
              "      background-color: #3B4455;\n",
              "      fill: #D2E3FC;\n",
              "    }\n",
              "\n",
              "    [theme=dark] .colab-df-convert:hover {\n",
              "      background-color: #434B5C;\n",
              "      box-shadow: 0px 1px 3px 1px rgba(0, 0, 0, 0.15);\n",
              "      filter: drop-shadow(0px 1px 2px rgba(0, 0, 0, 0.3));\n",
              "      fill: #FFFFFF;\n",
              "    }\n",
              "  </style>\n",
              "\n",
              "      <script>\n",
              "        const buttonEl =\n",
              "          document.querySelector('#df-2ae9a9f1-afc0-4010-8ca5-379311d39861 button.colab-df-convert');\n",
              "        buttonEl.style.display =\n",
              "          google.colab.kernel.accessAllowed ? 'block' : 'none';\n",
              "\n",
              "        async function convertToInteractive(key) {\n",
              "          const element = document.querySelector('#df-2ae9a9f1-afc0-4010-8ca5-379311d39861');\n",
              "          const dataTable =\n",
              "            await google.colab.kernel.invokeFunction('convertToInteractive',\n",
              "                                                     [key], {});\n",
              "          if (!dataTable) return;\n",
              "\n",
              "          const docLinkHtml = 'Like what you see? Visit the ' +\n",
              "            '<a target=\"_blank\" href=https://colab.research.google.com/notebooks/data_table.ipynb>data table notebook</a>'\n",
              "            + ' to learn more about interactive tables.';\n",
              "          element.innerHTML = '';\n",
              "          dataTable['output_type'] = 'display_data';\n",
              "          await google.colab.output.renderOutput(dataTable, element);\n",
              "          const docLink = document.createElement('div');\n",
              "          docLink.innerHTML = docLinkHtml;\n",
              "          element.appendChild(docLink);\n",
              "        }\n",
              "      </script>\n",
              "    </div>\n",
              "  </div>\n"
            ]
          },
          "metadata": {},
          "execution_count": 19
        }
      ]
    },
    {
      "cell_type": "code",
      "source": [
        "ax = sns.countplot(x='Churn', data=dados_final)  # plotando a variável target balanceada."
      ],
      "metadata": {
        "colab": {
          "base_uri": "https://localhost:8080/",
          "height": 449
        },
        "id": "RyiqjFc2vNfL",
        "outputId": "65e2bc00-69ae-4d79-e7c1-8bc513b8385f"
      },
      "execution_count": null,
      "outputs": [
        {
          "output_type": "display_data",
          "data": {
            "text/plain": [
              "<Figure size 640x480 with 1 Axes>"
            ],
            "image/png": "[encoded data removed]"
          },
          "metadata": {}
        }
      ]
    },
    {
      "cell_type": "markdown",
      "source": [
        "***KNN***\n",
        "\n",
        "1.Receber as informações\n",
        "\n",
        "2.Calcular as distâncias\n",
        "\n",
        "3.ordenar da menor distância para a maior\n",
        "\n",
        "4.Fazer uma contagen das classes\n",
        "\n",
        "5.Classificar a partir dos K-vizinhos\n",
        "\n",
        "6.Definir o churn"
      ],
      "metadata": {
        "id": "OZ8974KMv8ra"
      }
    },
    {
      "cell_type": "markdown",
      "source": [
        "**Dados de treino**\n",
        "\n",
        "Os dados de treino são aqueles utilizados para a criação e treinamento do modelo.\n",
        "\n",
        "Normalmente a maioria dos dados, cerca de 70%, são utilizados para treinamento.\n",
        "\n",
        "\n",
        "**Dados de teste**\n",
        "\n",
        "Os dados de teste são utilizados para comprovar que o modelo realmente funciona.\n",
        "\n",
        "Eles não são utilizados no treinamento do modelo e normalmente representam 30% da totalidade dos dados.\n",
        "\n",
        "Além disso, no momento de realizar a separação desses dados é importante que ela seja feita de forma aleatória,\n",
        "\n",
        "para garantirmos que não haverá nenhum padrão no momento de divisão dos dados.\n",
        "\n",
        "Assim, cada amostra terá a mesma probabilidade de ser selecionada.\n",
        "\n"
      ],
      "metadata": {
        "id": "Ga4Pn2Mry7TZ"
      }
    },
    {
      "cell_type": "markdown",
      "source": [
        "#Classificação é interferida pelo valor de K\n",
        "\n",
        "K muito pequeno -> Overfitting\n",
        "\n",
        "K muito grande -> Underfitting\n",
        "\n",
        "\n",
        "\n"
      ],
      "metadata": {
        "id": "zNr5xTmH19ba"
      }
    },
    {
      "cell_type": "code",
      "source": [
        "#Divisão em inputs e outputs\n",
        "X = dados_final.drop('Churn', axis =1)\n",
        "y = dados_final['Churn']"
      ],
      "metadata": {
        "id": "AlHFyjKzwdY4"
      },
      "execution_count": null,
      "outputs": []
    },
    {
      "cell_type": "code",
      "source": [
        "#biblioteca para padronizar os dados\n",
        "from sklearn.preprocessing import StandardScaler"
      ],
      "metadata": {
        "id": "EHKO0PE225vZ"
      },
      "execution_count": null,
      "outputs": []
    },
    {
      "cell_type": "code",
      "source": [
        "norm = StandardScaler()\n",
        "\n",
        "X_normalizado = norm.fit_transform(X)\n",
        "X_normalizado"
      ],
      "metadata": {
        "colab": {
          "base_uri": "https://localhost:8080/"
        },
        "id": "HmmwSJ5D3Ebh",
        "outputId": "b404a47f-9508-4e41-d88d-cdabfb6ea71f"
      },
      "execution_count": null,
      "outputs": [
        {
          "output_type": "execute_result",
          "data": {
            "text/plain": [
              "array([[ 1.26542767, -0.52771004, -3.06083934, ...,  1.30373042,\n",
              "        -0.47912706, -0.4360152 ],\n",
              "       [-0.79024667, -0.52771004,  0.32670777, ..., -0.76702973,\n",
              "         2.08712905, -0.4360152 ],\n",
              "       [-0.79024667, -0.52771004,  0.32670777, ..., -0.76702973,\n",
              "         2.08712905, -0.4360152 ],\n",
              "       ...,\n",
              "       [-0.79024667, -0.52771004,  0.32670777, ...,  1.30373042,\n",
              "        -0.47912706, -0.4360152 ],\n",
              "       [-0.79024667, -0.52771004,  0.32670777, ..., -0.76702973,\n",
              "        -0.47912706, -0.4360152 ],\n",
              "       [-0.79024667, -0.52771004,  0.32670777, ..., -0.76702973,\n",
              "        -0.47912706, -0.4360152 ]])"
            ]
          },
          "metadata": {},
          "execution_count": 23
        }
      ]
    },
    {
      "cell_type": "code",
      "source": [
        "X_normalizado[0]"
      ],
      "metadata": {
        "colab": {
          "base_uri": "https://localhost:8080/"
        },
        "id": "b3aqPxxc3T_j",
        "outputId": "a8d25b6a-8f3b-4d9c-96f1-05f7d2b34ccf"
      },
      "execution_count": null,
      "outputs": [
        {
          "output_type": "execute_result",
          "data": {
            "text/plain": [
              "array([ 1.26542767, -0.52771004, -3.06083934,  0.81482091, -0.41318358,\n",
              "       -1.10771815, -1.3217706 , -0.88447396,  3.18604176, -0.83366906,\n",
              "        1.51268338, -1.04386816, -0.44617598,  0.86827317, -0.44617598,\n",
              "       -0.51721942, -0.95834643, -0.44617598,  1.57389661,  1.04285807,\n",
              "       -0.44617598, -0.64211419,  0.87979784, -0.44617598, -0.52426638,\n",
              "        1.18690873, -0.44617598, -0.77707385,  1.20311799, -0.44617598,\n",
              "       -0.78976268, -0.44648735,  0.73788726, -0.41989297, -0.42576817,\n",
              "        1.30373042, -0.47912706, -0.4360152 ])"
            ]
          },
          "metadata": {},
          "execution_count": 24
        }
      ]
    },
    {
      "cell_type": "code",
      "source": [
        "Xmaria_normalizado = norm.transform(pd.DataFrame(Xmaria, columns = X.columns))\n",
        "Xmaria_normalizado"
      ],
      "metadata": {
        "colab": {
          "base_uri": "https://localhost:8080/"
        },
        "id": "4mOliiO84AQh",
        "outputId": "f986ce1b-e3d2-4c2b-9e7d-0c5c49eb9ed9"
      },
      "execution_count": null,
      "outputs": [
        {
          "output_type": "execute_result",
          "data": {
            "text/plain": [
              "array([[-0.79024667, -0.52771004,  0.32670777,  0.81482091, -0.41318358,\n",
              "        -1.14938255, -0.97236043,  1.13061554, -0.31386908, -0.83366906,\n",
              "        -0.66107688,  0.95797538, -0.44617598,  0.86827317, -0.44617598,\n",
              "        -0.51721942, -0.95834643, -0.44617598,  1.57389661,  1.04285807,\n",
              "         2.24126814, -0.64211419, -1.13662476,  2.24126814, -0.52426638,\n",
              "         1.18690873, -0.44617598, -0.77707385, -0.83117367, -0.44617598,\n",
              "         1.26620316, -0.44648735, -1.35522058,  2.38155929, -0.42576817,\n",
              "        -0.76702973, -0.47912706,  2.293498  ]])"
            ]
          },
          "metadata": {},
          "execution_count": 25
        }
      ]
    },
    {
      "cell_type": "markdown",
      "source": [
        "Distância Euclidiana:\n",
        "\n",
        "![image.png](data:image/png;base64,iVBORw0KGgoAAAANSUhEUgAAAXAAAABqCAYAAAClIwp2AAAfJklEQVR4Ae3dCRR9XzUH8C1DmZUGIUmGZAhJVBqQFBnSYIgGYxIpVMZCIvNQRDJVKJJUEkkTKZUhGqQ0GRMh87Q+a939/5/f/d373n3v3TfvvdZd97377jv3nO89Z5999nQiigqBQqAQKAQKgUKgECgECoFCoBAoBAqBQqAQKAQKgULgRBC4QkRcc4Xj+hFxgzoKgxPuA9c7kbFdzThxBC4fEc+NiP9b4XjzCveuUm7du9p7KLy2h9cbTnzcV/NOBIH3jIg/j4gXR8SjJx7Pjohn1lEYnHAfeMKJjO9qxokjgIG/MiIec+LtrOYVAoVAIXByCBQDP7lXWg0qBAqBc0GgGPi5vOlqZyFQCJwcAsXAT+6VVoMKgULgXBAoBn4ub7raWQgUAieHQDHwk3ul1aBCoBA4FwSKgZ/Lm652FgKFwMkhUAz85F5pNagQKATOBYF9M/ArRsR7R8S7NIC/Y0RcNSKuHhHC/IsKgUKgECgEBhDYJwN//4j4w4h4bUQ8LyLU5doR8bCIeEZEvDQifjsibjZQ77pUCBQChcDZI7AvBv72EfGbEXHv7pDX42ldaPbtI+LdI+ImXc6VF5Ukfvb9tAAoBAqBAQT2xcA/JiLe2End9+kYtSRZN2/q+G4R4dqbIuI9muv1sRAoBAqBQqBjoPvIhXLHiPiRiHiriHh8x8C/rfdGpK0lmf9ZSeA9ZOprIVAIFAJ7ZOAY99tExLtGxGs6Rn3j3hu5f3f9VyLirXu/1ddCoBAoBM4egX2pUBJ4qhRS9l9FxJXyYkS8XUQ8vfvtHs31+lgIFAKFQCHQIbBvBn7fjkk/qZPI88VcKyL+IyL+LSKu0Ung9OOXyRvqXAgUAoXAuSOwTwZOjfK4joE/oPcivrq7/usdY+et8uSIuGzvvvpaCBQChcDZIoCBv2pPGzoI0rEbEBXKjZo3QDf+yO76vSLiKhHxkoi4S3NPfSwECoFC4OwReOeI+IOI+OE9IEFNgnm/rDNmtlV4cPfbQ7pgn6eW+qSFpz4XAoVAIRDB15qb3s/vAYx3iIifiIjbDTybrptbod/vFxFvMXBPXSoECoFC4KwRwMBfvicGDnjqkkVET15UCBQChUAhMICApFH7ZOADVapLhUAhUAgUAlMQKAY+BaW6pxAoBAqBA0SgGPgBvpSqUiFQCBQCUxCQ9a9UKFOQqnsKgUKgEDgwBDZh4JeLCGlheZM4bMSQZ5/fac9HGUAPrLPtuToM5pePiCt3/XTP1anHFwKbI7AuAxdcw/XwURHxCxHx2Ij4pYj45Yh4QkQ8sYucFEnJh1vub5szPDMinh0RvxMRz42I50fECztfdJs7zHX8UUR81+bwVAkngsB1unzzb4iIf++C12TDJGQUFQJHi4A82wJpVvUD/+Au0EYgzqEer4+Iqx3tm6mKz4XA9SIC4xZT8MUR8aCI+Iuu3z6nk8rnelaVUwjsFAESuFD6VRm4Sj5ihHnLLHjLiLjmkkOSqvfp3eP7+0aE7dbeLyI+MCJMFo5bRcQXRsR3RIQUs3bq+ZeROuSk8vU7RbMedmgIkLBfEBE/3ovk/fCI+Ouu7/it0hUf2pur+kxCgAT+ijUZuI2If2+EgVKT0I9vk962k7A/LSJ+sGPoybjz/PslYW3zFRx82YSE/4mI/42Ib+5F9EofoZ/IeGlj7aJC4OgQ2ISBa+xHR8TfjTDxH9gxGvTyt+307cnAnV0rOk8EPrLpm+wz8swnfWnz26fnxToXAseEwKYMXFvv3kk5LdP0mbFoHwNDeoBvj4j/7gboU2qJfExdcta6yqHzDZ1h/UN7JX9Fw8Bv0ftt518tAUgg50ofdK4N37DdczBwg4QnSp+B+y5dLL32PoixKieSj1qjAvTv3CKLDgcBboDsI6sSdVufMmUxgybXwr3R1SPixRHx070lwt4qtOMH25bLzuWYSGWtWw38ORi4J4ro5AI4xMR/rdu8eLWazXN36jl/csXiPrnzXLCxRPWpFcHb0u38uB8eEbyLbrrhM0jjVoh043fdsKxL/s4j4L06ieVjI+IO3fdLbhj4YOduA4c/7RUHfj+XS/RZlsw/ey4NnqmdczFw1fmEiPinESb+jTPVd9ViGFK5ivGMsXnFFLpTRPzNmobdKeXXPesjYBNssQTcAm+4ZjECvH6166ffsmYZF/3NjCD4gGtL6u5IMwxBYxLAB3S5nDVmnSXiRZU48gs/1Vibj7wpO6v+nAxcpbntDUnhVkgfv7NWXfgghqw/nShp8Wj558717JwFogsRPKxv142I13W8bx31nDzz/xURXztnsz4jIv44Iv6hNwA+f+Qh9ga0NDVYKOmLIszOv9tthjuGW+F0IQJzM3Dh9bnPZZ+RY6L70jXaeWhZ7nFBP3T2/9r5nF+IVH07JASMb5tei+b1bqfSl3SqE4b3JLx0482ySdlmfJL433eMmX+ioIYh+rzuHmHIJSlcitBtOo+I10QElVTRYgR4bBAc+FGPrfQWl3DxrwJ4XtoTRJKZs1McKj20q3PZUg71DV1aL0xbygb96jsvvbzw06d0AnK7tyqBQxCbILFZyDIzOzvmPBSrj2Hbx9B9XGGKLkXgShHxrA6bb7r0cn0aQYAEbks1toO3HLlnnctUEUNRkoxGrfSzTtnb+A81CzUPw1apI7eB8PxlslXggYQ1RvRFhHkLWCPgteR/b4wItsRZKF2fVGzMIGenbr+vYpiZpXJHUsh9OnxIgRh60TgCOjCcHjN+y9q/PLB7D/pqewj8occ8JEo3yKdHhCV10eEjoO8ScvWtRcLajTphgmD3Y90hfN5nCdgIGrOs1onzT2o6+xcMYHiFzqqu0twGiy5GgE/8mzsc73nxz3WlQcAgkMxqGwzcMjet/S0D95nucmh12VRtZx85A/xj118OcXWwMyCO8EGcPPQn9pUhYY3N5ZUNT+33Q9+5YOOrGxM3J2K+QjEgHatPN2i8VCwhii5GQC5q6UrhyNBbiWouxiivbJOBe4YkVNmn+4PnR7MSez7z9VY3RjHBO0XHg8BnNcz5EweqTTUimRU367Fj7WRW4vJ5TiS1+m8SimRBfXpAw+Blaxsjvo4iMy0NWNe524hg0kGToXm+SUM51+o+70sqotfPOjKstTkLso0Ys4jLKRGnmSlPpr1ZlkdZiRM7b5uBg+t2nW65z8D/MyIMwH2SsfD4bkw9b8PEV3zOc2y1bVrFS6L93zF9XuRIYSyLaJ3LSN7igmfk6mnImMm7BP6LjqEozfYZF33macIXUUpMjFry+xtHhGCH7OR8mvukc0ic7x6dbYjB53+oXwT40BGZgV7S+ZiTMkjuvFhEp0myzwjgOknpGRHxkB0yvQ+JCNZ/7n9/2Q10RrWsRzJrg+M3urZPiezT/sQStkXDCOyCgXuy5Pn5PtrzqzsBYrh227+aXjjqJLR6VdIvb9/1YRkYjeVUwxCi7t3pWYWAnyJhjHDDx36xNyHTIDy4G7fGrA02xrzq1sXG8+Hu/dk8ZOv2C4yb1VOwjgfbqcRnHVmEUXbuIf03HU96n9CVL/Jr/ZqmrCwzz3SePpOAXjvi8mWfxG0nIjJjCkLKejnzwaXPSg8Gy56bdIMi7yMxLdsuy2oj9eBWLadO+tXKkkQ3UW/LiNliru+KiMx32J4lm9r6wGsr03y2ohPUoT7yjK9CpD+My38JQQQy48l3QgmG5jPB4xRzqrDZYZqiVp3xMWOOKoOjhZB3vObRDd/iZ288z0kPa97B1GjbtZ6vIV4od6V7dPmSSdWS1LfRl/y/h/Tf/Gsz0IfeZhGx8pPoSQSe2T8Yl6QC9RwqBmH7OTnkverxcYsessFvQxIZfK7duQRR6/DPVBcTXu6g4fsUBi4/jEnI/cpdl7iUfeUWjlZ1tm7d8n/0fELYPywvrHD27uG0DSNmvxrsNxnjkH0sz/uaZKl3sg5DQlO/Dfnd2EndPmFKCgzLdQb0VhBTtnwsp0h2t9E+uOlH6ftvBY2ffX9EWOEgvCtX0LQBi1Qu3V8mn1rNBZvLVui7m47yVb0nkCbNYNmRSJ1DSy5bA+U9U2P4McT8T57phy09+kQPbtbM+5wl7J9bL27QtBOW55DOhvTeP9Orj3unMHCqgUyuZLJatFrp45DftTt9yltM5vg856DOiU4K1VVplwxc3cZWhsLXtyUsLMIkXU6905svurH5jXCRE5H0F33vh0/q9W8qllMj9igTF/UsXqIftd4eQ9HhLQ/88hkBIWDlmBwyZG78KAyLNOshdggZclnR4KzEmP+3cPu85+sm1ooqIZeI+d8x5k+CGGKYnznxWVNuw6RbV8ms061H/mxwGCR5n/MUBm6Gz+Ut314dbh3y/I+YeNg41VZNDtJwHq472D7yWKYCmlpXKy0rOrhQya3aTgOPxLQLCVybTKQS67fvMz9jBn1mOBWHde+jo83nWyEsI8FOVD75ny8a+AOpE6buwehJn6dG+ArjoQheJDtgYmK8Dgl97eQtq+BcJLIyn/25cxWa5WAkDHT5ADN+n/qdWma9IbpzU87UCEzSQk4eWYcxBu6ZGd2U9zqvqhscqnteozekEmnL5ykyprsyYPq5NYTQLmOAOhBDqOdY0cy5ZMu2HMI5cxprJ5vGqmqUXTNwmPGKyuV22w98FlyxS+LKmHWYsvxumQVVwNCEI5OobbyUqw8OMbM52kjypcOf61ilniJXtT+jVm1XljgOOWBob/psu88kToc+BxEw89mzx320fooMdLwu+iScOQ2LmO2YL2rqnFR2qg84Hbfw4Gyg87f2K9B8tzNFe6/PGOhcYN9soHzqkyGVjmqty8AZxTLZF2aBUZ0aYdZpE8l3tujdDrV/HwxcPcZC7bXDSnNXZKdyzzTulnlIsFs8uem/Y14r92/uWTQhDbkcTm03DzQOEPne5zgTjFYxhKeaVzvaVXV64bRtSYNn1nNMy7BOOodW+jeRzEqPakCmTx2a5bi5ZcPGVCwqlQms3Hu3ibXEwFeRwE0wWZc8C4qZK4tcqwbK8hk3xjrOEAOfokJh9f+tri0mRzrxUyNuoPSOaRyCpz62isfDvhi4d9FKbdkXMKWxvrCN98dlNp89JjjlczH49DLxH4b/PllNt44DxuwQ0Yt/74gEP3R//xqfanEj3BTnOlZdvWWd9KHUf48FQxl/afSF3X3zz82Z48H3RMSnNtemfKR+zXe4SLswpawL7umrT8YizzI4RyXGZnUFt9KxlzaFVpXAb9mAkaCYXYckcDpzs/Aqs6YlV5abZyqmIbuA9g0x8CkqFOWlDpwxc90JyIDkiz73MeXdLbqHLp30zRWTUTyxtNqib59KmU52Vzrwtl58qH+uqbuV2JBKov3P3J+tWBK7ZflZbFiR9/L6GdJtUwUmM2ObGJLqORZQdylrSKU6dxu3XZ5cI4nLWDBUf+Xd34OSbYxgphzjNqX7KXVv1b6z4ullpjFDxb5soDYYRLv8kK8W6dx9nRxjWgI1dYeTVRl4u1NzPotPa58MNMsgzFdwEUYwhbhb9T1dFqk41mXgGK4cB9rAuDemollUZ++GhPaimQ/ummwYm0SmcSOFI30yg1JrV1jFJS+zEe6DgcOXgdk7YsDUN3ZNdKbZz5f5J7ebVbCrDLmCtkzeamgo2M41uvGnLRBcdo3DJs9rVUacIIbIaiNx5tnWx85YEMvgt1UNka0AM9v2aBqByRn8WfGhGd4ASh9nOnIGCY3hnC6gpe3UDJIZnJLW3yGw2murMnAJsrK+ztQv9gdsCfh997plkaH5f5Jx5inJ55BGeG4MESk/Z+a8f4oKBWNLXAVYrKtv5B3ETW/ug2fSuqSPyOjHKIT6nj38kAkAU0j/E1yxDwbumd6pIDZ+1fugOzb9fUgl0tapZRSCdPTNPnHlzH66KFaDt9AuVUX9es71nTNBm7BsyAGjXQ0b62MBgvhen7FPqWerwdh0r8wLnmdgtf7dGHCf2pBvjM3SgU6JKw5dWque4J6EqesgrLhDHahfvmeaGLJTOY8ZViy9/7Z3ryWudrSko7fl5WcSyhRi5Mj/5HnMrUhEVy43894pKpRrNFGeQyuIKfV0j06lk855tO90aj3a+3gF2Xqvndyp1BIfky4VyxTCwOkmd83AhVWrL1e0MRfSKfXf9B6r2oxJWLaqJcgkxkOeFsZuG206pv/etM6H9H88KR0wYGOD8T55v/LA+1361il8q1/Gou8p3eNzQ2qtRf9d+htlfb50eqCWPrthMu4h5SGBAL73fUwxkfShpRYYMoh2RVxyIoH3GbiyLXUMXpKag3tfhv5mfQ2uoVWDKNK8pz2vEjKcS+f8P2mZ8cIgUB+6QxLPUN2nSOCWw1n2kOrqEoCO8AOJpu+F5D23ahTL2imkD9DZ7pKBm8AxTfr6fh+fUuc576FqsyORviLAbRExsuW91J7tqk6fbVWhxk5fYDNxY+p8z9P9btHzjuE3LpM5zpz7KhQYJGa0EUMSNixgwkUTj1uFCJfJt9i6ZrehKDBD1FnYGTAwRcYn0Wd0yGn0oLwXbWkJrNFDjc2AH0toaoJlNMTAkykqA9Ml0bYWYi8CQ7WLxRDxVNFB2xfnszpP9fbQNom02jIY5QRJqA8fU7O259i4or1vCgNPvRyr+LrW9aG2H8q1vhSPgaTbJKzoWPsrp6G675qB80LS7/lJL5N4h+o79zXSYMYZ8FqC4yLK1aNVDk8wqyCCGIGq7aO+t/pvzzHW9GuMTHAd49+xk40Ust0wEbjEkIg3EcCSr+ibQ44EsCN45ORnEl1FQvectHV5j6v8dzL2pNt0aZO8iXUac6Ij493BJ1YmPkBgWEAYM6jQFSZgYwy2rdgQA6c/N4FY7rXqCVIRw5gZbSywJss2W+ZEoE0GpIlq6CXlf/pn6gnSsZkzdfvZNoOckYeumGtlXndexsD5gOegZBSZfVbuN+RAvhs4iRPplq58GaXXxC4kcMtrqh913ESttaxNq/6eq2TqQ1L2MnI/4ccYFoSmPYQuasDEv+9xZqVhfOiLXOXct6rP/rJ67fp30jJhK9ssrzp7iu+t0CXvEYN1n2DB/sGlkurD/wiBqwTd6VOpAqMZ2BqRhm4YEZT8Ktz3OSWZ80wQ179o4LVLvim5L4YYePpK6qyMh/TwJhHLHeBhrFOItM0DApMFPul5mQQzVC5pXF3kouCFw7Bk0mPk8ZJXZeDqlbYCCXXOhfShdmU0JahhVwzcAE1pjIAwZXWwq/dm1ZvBbtSXU0jeoNt245kkrQ8TLJKZ2TU9icGSfcs446Of6kP9/Jip9e0mzOFbViRWKQQzWC4SBPE6WBBic2UjUGrIZXkMp7T9EHqHXDbH/rfX62l1tUxul2lDlcLAs3Nm55p75k+JYhvMEgPnYpZ1d15mxBRaSzqy0jlF9cnQe3YNc2jzdFBRLWOUu2Dg7BqZTsKqyjs9JKKOSklyzMC/rL6YWaYHsJo07pIIIsaIlSF9r1Uvad9/jpnaAERjlG1mKhES2QO4Xeqj6exB7TKV2ACzv3O2mCp4Ti1/a/cZdJYe9LvL3K+2zcBJVn/S1WUbOr1VGbjOkG5NY+G6W3sxB1CwJGc52Zm4SeWLaNsM3NI5B5nlcd+wt6huu/xNVCPGauW2DmNtg1lI22OClSyU3s8iF8NdtnuTZ6U9TntsCr0u0QLAXl7xRRJ7v3zM3/9MmEPeL/37D+p7pma0HO0btFSUMt/Mz52sL4FTvfittaKv07g0zHiB3KqG6rFOufkfdWSkyJ2nkzFh0JalQ5sAGEjaS8IZyjuTZZ/q2TI2N8OA1zJDoQHDYL0tHXhubbdPX2/vmopuUYoBfSmlwKmZPts+JAgl+6cUB0NEGLHxg9VheqFsxeg29PCZr+Ed4iuyzVOT6w1Vg01OOWk3mMKX6N8zjfIy76GhZ+79moFnpseshvR2t+kGpSjJfjpZBhebHPAnHjIuTG2cjgp4PutTjD9Ty3UfHTifUS+pzT/heazO6m/S6C/bMhBpzgyKq9R73/ea2J7aDCw6RhPhGG2TgacnEP3kPn29LdX1m2VGLi5xr+u8wmzMsIxI2WInSO+M5Z7hYMyUmrbvJUYv7neqT+9J/nM63FVd55bVa9u/W9VJrNdGVIvXkKGwPx6X1YV6LQ3BHDesoBm4l6nZCGe81kyI7HBHSdwRuSBioH2Xw1TuZ6caOnNrXKYjHQPGBKFMADICzU3t5hVDdXcNY2+DWaTbtZyi+x1bws5dz0Msrw35Jo0vUltwI9xGJKaQZoYt72PW8OYVAWdUpxbh/TJFyMDs1dnKdhExtKWqbqx/tqHymHTmfSHh+85TCuM7JrJhAtXtWJvZEFZZiWfuped3Y5Yzhclw0fjlaMFmwftkn31rlvcmLJXLHUm7JVFjMiEKt+YyaCnNzeeB3VZH0mgyZm4y+7Mc971p2jps8lk0Kun7hyKCuohHhc6uziKvLLfoEUkyiMRjMrE92OzRWN0zjuVEKmzVKIsiZEngcwfy3KpJc7vo2bvAMzdsWEVHm77NNiAYI0zKCsOKT/BKHsYc2wtm3QZbWQWlrzNvNKtmfZVX2TER7xu8RhuzrT47rIr7+ZuWtS1TGVhNi+o06fHWWUQmCRMIXnYSxCcbE5/iVjhngw/F6mupypecn+2Upe+cGBxiWazzba5oMQhjrllzM3CrQhOpATY1X8+2MBSuT9+sLquqcOQiIokvy4+ySt0xdFkMrQh4rMyat2OVihzQvZi2wCZ+4xL/wX2M8Bu6dpI3m8NJkaUHv9RzJMst0lJf53iOWGSb21zbpPGxldKcDNyqKaOOSaBjk0bWcVtn6sR0C8S8MYhVdbPqJvhmmZfXqm2wOpRtr3UzXLWMU7ufcVl62X6K2aF2Cl48dv/5oXbVtULgAgSoUYQ2Y2CO+13w66Vf5mLg0vVa/noWI+o6DPPSWq33iTRHh50+59l2KriiQqAQKASOBgEMNdM3YGSY65Db5RwMnNsXHbPniJpV5raJcRLDJtFSIcrbnhGOybjzvA0j+7bbV+UXAoXAmSMgZUIyMfpcBqg+zcHAc7NadhiqG/vAioblYSDYgnuetK3czARtOLef/eYQs+B3n+nSnbnaSdXAbY1B1LMYDOn4281Ssp39s/vWSe/Qx6m+FwKFQCGwUwSkEWjVKEPbTW3KwIU+ZzKhPvM8hO/caYsKgUKgEDg6BBh3W7UCabSvRtmEgZO0eVUcAqMeqoNoXBt7FBUChUAhcJQItCHeQ0E96zJwkbKZAnmIeR7CNdkBiwqBQqAQOFoE6JpbNUo/OGVdBg4QEZ6MiM7CmbnG5Zm+vT38xpVx0eG/7X/6n5Uxdvhv/8ggr6N9eVXxQqAQOG8E5JqQeyMlYi5+bf6bTRj4eSNbrS8ECoFCYAcIPKhh4NQobeL7YuA7eAH1iEKgECgE1kWAH7S8ySmFt54ZxcDXRbX+VwgUAoXADhAQFfmshoFTo2TO5WLgO3gB9YhCoBAoBDZBILPykcLtm5lqlG0ycEbEXSY8o+8vKgQKgULg5BCw5VSrRsm9B7fFwKUVlVNbDpZtMnHpkCWvkipZAq2Kujy5rlsNKgQKAUzuOY0axfZhmN82GLjscpkNUCCRvCxzk63z7Mlo1yapSK0sbAoglW5RIVAIFAInh0Duo4rZvanz4d4GAwfcPSPiid2WY9sAkj+7ZF02CZYbpRj4NlCuMguBQuBgELBrUatGwWS3xcA1et3t+qYAxgibe33etxj4FMjqnkKgEDhmBKhR2lzZT+n2iZx7S7VNtulbB99i4OugVv8pBAqBo0Pg+xo9ODUK4+acDNzO4vYsvVsv4nObQBUD3ya6VXYhUAgcDAI21KUvzsNm13MxcDm7XxgRNgW2F6X9Dduw/ct0HiNWAqsediIfo2LgY8jU9UKgEDgpBDDC5zYMnCHwVRHxmA1bSZf+sk6itymDCQIzx6iT6NztT7nOoSzlDlEy8OeVF8oQPHWtECgETgmB3EEHk6VGsYu8LdE2oQd2kwD99wM6Bv7YzlUxy2XUFEA0dkhRK7vh0OE/Y/7kycBt51ZuhIl2nQuBQuAkEbhxI4GnKmVTCdzu7VK9YqBpKL39jtBrGfg2fM531Ix6TCFQCBQCyxG4Uhf0kszbeVMGnk+9fjc5vCIiFumt8/45zsXA50CxyigECoGjQUAAzDYYuN3hleuMRGUmXT0i7rrmceeeOibLdE4GTk9eEniLTH0uBAqBk0Tgpr3NiOeQwK8SEa/uPFBI4gyYz4yIq3YI3n1NAyajJ+Z8nZE3UQx8BJi6XAgUAqeJwJUj4gWNFD4HA/+crjyeLZJK8QWXfyWlcEZI19c5soyht5EMHKMvCXwIobpWCBQCJ4fAQ2dm4LfryntERFw3Il4aEXfYEmr21rxLRFCtPK577usjQo4U124dEfzOiwqBQqAQOEkEbtapO+YyYl4uIh4eES+PiJdExJ22iJqyrSCoVmQh5APu7Dt3wkc1uVK2WI0quhAoBAqB/SBAZ03tMBcD1wpJphgrU++9rZZ5jg0cqEwc3Bfzs/Milcu26lTlFgKFQCGwUwSEu8/JwHda+XpYIVAIFALnjMAtOgb+yNIZn3M3qLYXAoXAMSJw2Yi4V0Rc7RgrX3UuBAqBQqAQKAQKgULgAgT+H/72BvPlK0m2AAAAAElFTkSuQmCC)"
      ],
      "metadata": {
        "id": "pxkpfcIM4Zea"
      }
    },
    {
      "cell_type": "code",
      "source": [
        "import numpy as np"
      ],
      "metadata": {
        "id": "-l2WNCbB4sjM"
      },
      "execution_count": null,
      "outputs": []
    },
    {
      "cell_type": "code",
      "source": [
        "a = Xmaria_normalizado"
      ],
      "metadata": {
        "id": "v4CijvrC41Dz"
      },
      "execution_count": null,
      "outputs": []
    },
    {
      "cell_type": "code",
      "source": [
        "b = X_normalizado[0]"
      ],
      "metadata": {
        "id": "mkLw8DkE453K"
      },
      "execution_count": null,
      "outputs": []
    },
    {
      "cell_type": "code",
      "source": [
        "#1 - começamos subtraindo\n",
        "a - b"
      ],
      "metadata": {
        "colab": {
          "base_uri": "https://localhost:8080/"
        },
        "id": "v8g6Ftcb5Crt",
        "outputId": "3a51be17-3c95-4142-c62d-3f33e8825f05"
      },
      "execution_count": null,
      "outputs": [
        {
          "output_type": "execute_result",
          "data": {
            "text/plain": [
              "array([[-2.05567434,  0.        ,  3.38754711,  0.        ,  0.        ,\n",
              "        -0.0416644 ,  0.34941017,  2.0150895 , -3.49991084,  0.        ,\n",
              "        -2.17376025,  2.00184354,  0.        ,  0.        ,  0.        ,\n",
              "         0.        ,  0.        ,  0.        ,  0.        ,  0.        ,\n",
              "         2.68744412,  0.        , -2.01642259,  2.68744412,  0.        ,\n",
              "         0.        ,  0.        ,  0.        , -2.03429166,  0.        ,\n",
              "         2.05596584,  0.        , -2.09310784,  2.80145225,  0.        ,\n",
              "        -2.07076016,  0.        ,  2.72951321]])"
            ]
          },
          "metadata": {},
          "execution_count": 29
        }
      ]
    },
    {
      "cell_type": "code",
      "source": [
        "#2 - depois realizamos a exponenciação\n",
        "np.square(a - b)"
      ],
      "metadata": {
        "colab": {
          "base_uri": "https://localhost:8080/"
        },
        "id": "BSWcJAJT5Cl5",
        "outputId": "ab08f1cd-456e-4145-920c-2e673da6eb7d"
      },
      "execution_count": null,
      "outputs": [
        {
          "output_type": "execute_result",
          "data": {
            "text/plain": [
              "array([[4.22579699e+00, 0.00000000e+00, 1.14754754e+01, 0.00000000e+00,\n",
              "        0.00000000e+00, 1.73592202e-03, 1.22087466e-01, 4.06058568e+00,\n",
              "        1.22493759e+01, 0.00000000e+00, 4.72523363e+00, 4.00737757e+00,\n",
              "        0.00000000e+00, 0.00000000e+00, 0.00000000e+00, 0.00000000e+00,\n",
              "        0.00000000e+00, 0.00000000e+00, 0.00000000e+00, 0.00000000e+00,\n",
              "        7.22235589e+00, 0.00000000e+00, 4.06596007e+00, 7.22235589e+00,\n",
              "        0.00000000e+00, 0.00000000e+00, 0.00000000e+00, 0.00000000e+00,\n",
              "        4.13834258e+00, 0.00000000e+00, 4.22699553e+00, 0.00000000e+00,\n",
              "        4.38110042e+00, 7.84813473e+00, 0.00000000e+00, 4.28804763e+00,\n",
              "        0.00000000e+00, 7.45024235e+00]])"
            ]
          },
          "metadata": {},
          "execution_count": 30
        }
      ]
    },
    {
      "cell_type": "code",
      "source": [
        "#3 - a soma\n",
        "np.sum(np.square(a-b))"
      ],
      "metadata": {
        "colab": {
          "base_uri": "https://localhost:8080/"
        },
        "id": "3YeoFB_R5Cc0",
        "outputId": "53b95828-ad6f-4f74-d69e-48485826d84f"
      },
      "execution_count": null,
      "outputs": [
        {
          "output_type": "execute_result",
          "data": {
            "text/plain": [
              "91.7112036526817"
            ]
          },
          "metadata": {},
          "execution_count": 31
        }
      ]
    },
    {
      "cell_type": "code",
      "source": [
        "#4 - então tiramos a raiz e temos nossa distância\n",
        "np.sqrt(91.7112036526817)"
      ],
      "metadata": {
        "colab": {
          "base_uri": "https://localhost:8080/"
        },
        "id": "Wkb0-JKQ51Qi",
        "outputId": "8944b32c-0108-45ae-f861-40c149ed8965"
      },
      "execution_count": null,
      "outputs": [
        {
          "output_type": "execute_result",
          "data": {
            "text/plain": [
              "9.576596663360199"
            ]
          },
          "metadata": {},
          "execution_count": 32
        }
      ]
    },
    {
      "cell_type": "markdown",
      "source": [
        "**Distância Euclidiana**\n",
        "\n",
        "A medida de distância mais conhecida e mais utilizada é a **distância euclidiana**.\n",
        "\n",
        "Ela consiste em subtrair as coordenadas de uma observação pela outra observação, elevar ao quadrado os resultados, somar todos os valores e extrair a raiz quadrada.\n",
        "\n",
        "![image.png](data:image/png;base64,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)\n",
        "\n",
        "**Distância de Manhattan**\n",
        "Uma distância que considera apenas a soma dos módulos das diferenças entre cada par de coordenadas.\n",
        "\n",
        "![image.png](data:image/png;base64,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)\n",
        "\n",
        "**Distância de Minkowski**\n",
        "Uma medida de distância que é a generalização de outras distâncias, como a distância euclidiana e a de Manhattan. Consiste em extrair o módulo da diferença entre cada par de coordenadas elevando o resultado a m, realizar a soma de todos os termos e, por fim, tirar a raiz m-ésima, em que m é um número qualquer. A distância euclidiana é um caso à parte quando m é igual a 2 e a distância de Manhattan é um caso à parte quando m é igual a 1.\n",
        "\n",
        "![image.png](data:image/png;base64,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)\n",
        "\n",
        "**Distância de Chebyshev**\n",
        "É uma medida de distância que considera apenas o valor máximo entre os módulos das diferenças entre as variáveis. Dessa forma, leva em consideração apenas a variável que possui a maior diferença de valores entre as duas observações.\n",
        "\n",
        "![image.png](data:image/png;base64,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)"
      ],
      "metadata": {
        "id": "RahVsH5x6hxn"
      }
    },
    {
      "cell_type": "markdown",
      "source": [
        "# **Implementando o modelo**"
      ],
      "metadata": {
        "id": "GnKMiRPL90Xo"
      }
    },
    {
      "cell_type": "code",
      "source": [
        "#biblioteca para divisão dos dados\n",
        "from sklearn.model_selection import train_test_split"
      ],
      "metadata": {
        "id": "uc6NuWYw6FSb"
      },
      "execution_count": null,
      "outputs": []
    },
    {
      "cell_type": "code",
      "source": [
        "x_treino, x_teste, y_treino, y_teste = train_test_split(X_normalizado, y, test_size=0.3, random_state=123)"
      ],
      "metadata": {
        "id": "fZ8yYtMB-JZF"
      },
      "execution_count": null,
      "outputs": []
    },
    {
      "cell_type": "markdown",
      "source": [
        "# Treino Teste"
      ],
      "metadata": {
        "id": "Eac6q1aX-dXa"
      }
    },
    {
      "cell_type": "code",
      "source": [
        "#biblioteca para criarmos o modelo de machine learning\n",
        "from sklearn.neighbors import KNeighborsClassifier"
      ],
      "metadata": {
        "id": "nnAEdfjt-cDT"
      },
      "execution_count": null,
      "outputs": []
    },
    {
      "cell_type": "code",
      "source": [
        "#Instaciar o modelo (criamos o modelo) - por padrão são 5 vizinhos\n",
        "Knn = KNeighborsClassifier(metric='euclidean')"
      ],
      "metadata": {
        "id": "zaF8I9to-s_4"
      },
      "execution_count": null,
      "outputs": []
    },
    {
      "cell_type": "code",
      "source": [
        "#treinando o modelo com os dados de treino\n",
        "Knn.fit(x_treino, y_treino)"
      ],
      "metadata": {
        "colab": {
          "base_uri": "https://localhost:8080/",
          "height": 74
        },
        "id": "8ETeILQ3-6DU",
        "outputId": "60b2349c-5839-4c57-cec8-06d5fde79c17"
      },
      "execution_count": null,
      "outputs": [
        {
          "output_type": "execute_result",
          "data": {
            "text/plain": [
              "KNeighborsClassifier(metric='euclidean')"
            ],
            "text/html": [
              "<style>#sk-container-id-1 {color: black;background-color: white;}#sk-container-id-1 pre{padding: 0;}#sk-container-id-1 div.sk-toggleable {background-color: white;}#sk-container-id-1 label.sk-toggleable__label {cursor: pointer;display: block;width: 100%;margin-bottom: 0;padding: 0.3em;box-sizing: border-box;text-align: center;}#sk-container-id-1 label.sk-toggleable__label-arrow:before {content: \"▸\";float: left;margin-right: 0.25em;color: #696969;}#sk-container-id-1 label.sk-toggleable__label-arrow:hover:before {color: black;}#sk-container-id-1 div.sk-estimator:hover label.sk-toggleable__label-arrow:before {color: black;}#sk-container-id-1 div.sk-toggleable__content {max-height: 0;max-width: 0;overflow: hidden;text-align: left;background-color: #f0f8ff;}#sk-container-id-1 div.sk-toggleable__content pre {margin: 0.2em;color: black;border-radius: 0.25em;background-color: #f0f8ff;}#sk-container-id-1 input.sk-toggleable__control:checked~div.sk-toggleable__content {max-height: 200px;max-width: 100%;overflow: auto;}#sk-container-id-1 input.sk-toggleable__control:checked~label.sk-toggleable__label-arrow:before {content: \"▾\";}#sk-container-id-1 div.sk-estimator input.sk-toggleable__control:checked~label.sk-toggleable__label {background-color: #d4ebff;}#sk-container-id-1 div.sk-label input.sk-toggleable__control:checked~label.sk-toggleable__label {background-color: #d4ebff;}#sk-container-id-1 input.sk-hidden--visually {border: 0;clip: rect(1px 1px 1px 1px);clip: rect(1px, 1px, 1px, 1px);height: 1px;margin: -1px;overflow: hidden;padding: 0;position: absolute;width: 1px;}#sk-container-id-1 div.sk-estimator {font-family: monospace;background-color: #f0f8ff;border: 1px dotted black;border-radius: 0.25em;box-sizing: border-box;margin-bottom: 0.5em;}#sk-container-id-1 div.sk-estimator:hover {background-color: #d4ebff;}#sk-container-id-1 div.sk-parallel-item::after {content: \"\";width: 100%;border-bottom: 1px solid gray;flex-grow: 1;}#sk-container-id-1 div.sk-label:hover label.sk-toggleable__label {background-color: #d4ebff;}#sk-container-id-1 div.sk-serial::before {content: \"\";position: absolute;border-left: 1px solid gray;box-sizing: border-box;top: 0;bottom: 0;left: 50%;z-index: 0;}#sk-container-id-1 div.sk-serial {display: flex;flex-direction: column;align-items: center;background-color: white;padding-right: 0.2em;padding-left: 0.2em;position: relative;}#sk-container-id-1 div.sk-item {position: relative;z-index: 1;}#sk-container-id-1 div.sk-parallel {display: flex;align-items: stretch;justify-content: center;background-color: white;position: relative;}#sk-container-id-1 div.sk-item::before, #sk-container-id-1 div.sk-parallel-item::before {content: \"\";position: absolute;border-left: 1px solid gray;box-sizing: border-box;top: 0;bottom: 0;left: 50%;z-index: -1;}#sk-container-id-1 div.sk-parallel-item {display: flex;flex-direction: column;z-index: 1;position: relative;background-color: white;}#sk-container-id-1 div.sk-parallel-item:first-child::after {align-self: flex-end;width: 50%;}#sk-container-id-1 div.sk-parallel-item:last-child::after {align-self: flex-start;width: 50%;}#sk-container-id-1 div.sk-parallel-item:only-child::after {width: 0;}#sk-container-id-1 div.sk-dashed-wrapped {border: 1px dashed gray;margin: 0 0.4em 0.5em 0.4em;box-sizing: border-box;padding-bottom: 0.4em;background-color: white;}#sk-container-id-1 div.sk-label label {font-family: monospace;font-weight: bold;display: inline-block;line-height: 1.2em;}#sk-container-id-1 div.sk-label-container {text-align: center;}#sk-container-id-1 div.sk-container {/* jupyter's `normalize.less` sets `[hidden] { display: none; }` but bootstrap.min.css set `[hidden] { display: none !important; }` so we also need the `!important` here to be able to override the default hidden behavior on the sphinx rendered scikit-learn.org. See: https://github.com/scikit-learn/scikit-learn/issues/21755 */display: inline-block !important;position: relative;}#sk-container-id-1 div.sk-text-repr-fallback {display: none;}</style><div id=\"sk-container-id-1\" class=\"sk-top-container\"><div class=\"sk-text-repr-fallback\"><pre>KNeighborsClassifier(metric=&#x27;euclidean&#x27;)</pre><b>In a Jupyter environment, please rerun this cell to show the HTML representation or trust the notebook. <br />On GitHub, the HTML representation is unable to render, please try loading this page with nbviewer.org.</b></div><div class=\"sk-container\" hidden><div class=\"sk-item\"><div class=\"sk-estimator sk-toggleable\"><input class=\"sk-toggleable__control sk-hidden--visually\" id=\"sk-estimator-id-1\" type=\"checkbox\" checked><label for=\"sk-estimator-id-1\" class=\"sk-toggleable__label sk-toggleable__label-arrow\">KNeighborsClassifier</label><div class=\"sk-toggleable__content\"><pre>KNeighborsClassifier(metric=&#x27;euclidean&#x27;)</pre></div></div></div></div></div>"
            ]
          },
          "metadata": {},
          "execution_count": 37
        }
      ]
    },
    {
      "cell_type": "code",
      "source": [
        "#treinando o modelo com os dados de teste\n",
        "predito_Knn = Knn.predict(x_teste)"
      ],
      "metadata": {
        "id": "g2B3XOP__Kq7"
      },
      "execution_count": null,
      "outputs": []
    },
    {
      "cell_type": "code",
      "source": [
        "predito_Knn"
      ],
      "metadata": {
        "colab": {
          "base_uri": "https://localhost:8080/"
        },
        "id": "zF13CIpRASJz",
        "outputId": "698a6c9a-4da5-4e95-a25e-50273d83f591"
      },
      "execution_count": null,
      "outputs": [
        {
          "output_type": "execute_result",
          "data": {
            "text/plain": [
              "array([1, 0, 0, ..., 0, 1, 1])"
            ]
          },
          "metadata": {},
          "execution_count": 39
        }
      ]
    },
    {
      "cell_type": "code",
      "source": [
        "#Calcule a distância da Maria com os(as) 10 primeiros(as) clientes da nossa base de dados normalizada utilizando a métrica euclidiana.\n",
        "import numpy as np"
      ],
      "metadata": {
        "id": "zKRFGqexArWV"
      },
      "execution_count": null,
      "outputs": []
    },
    {
      "cell_type": "code",
      "source": [
        "#podemos construir uma função para calcular todas as distâncias de uma vez.\n",
        "\n",
        "def calcula_distancia(dados_clientes, dados_maria, numero_clientes):\n",
        "    distancias = []\n",
        "\n",
        "#loop para percorrer cliente por cliente\n",
        "    for i in range(numero_clientes):\n",
        "        dist1 = dados_maria - dados_clientes[i]            #subtração dos atributos\n",
        "        soma_quadrado = np.sum(np.square(dist1))    #exponenciação e soma de todos os atributos\n",
        "        distancias.append(np.sqrt(soma_quadrado))   #raiz quadrada da soma anterior\n",
        "\n",
        "    return distancias"
      ],
      "metadata": {
        "id": "WkRXbiuFA-pb"
      },
      "execution_count": null,
      "outputs": []
    },
    {
      "cell_type": "code",
      "source": [
        "#rodamos a função\n",
        "calcula_distancia(X_normalizado, Xmaria_normalizado, 10)"
      ],
      "metadata": {
        "colab": {
          "base_uri": "https://localhost:8080/"
        },
        "id": "YJgZZIbrBADG",
        "outputId": "026d6eaa-7af0-4db4-dccd-80f10475c03f"
      },
      "execution_count": null,
      "outputs": [
        {
          "output_type": "execute_result",
          "data": {
            "text/plain": [
              "[9.576596663360199,\n",
              " 9.164687977147782,\n",
              " 8.497169420877166,\n",
              " 10.037544220142902,\n",
              " 7.8028994013625566,\n",
              " 9.01167938964265,\n",
              " 8.970041771751976,\n",
              " 10.634917481179656,\n",
              " 9.45035230511453,\n",
              " 7.919985943117673]"
            ]
          },
          "metadata": {},
          "execution_count": 42
        }
      ]
    },
    {
      "cell_type": "markdown",
      "source": [
        "O teorema de Bayes é uma fórmula utilizada para calcular a probabilidade de um evento ocorrer sabendo que um outro evento, chamado de condicionante, já ocorreu, denominado probabilidade condicional. Sua notação é dada por P(A|B), que significa a probabilidade de A dado que B já aconteceu e é definido pela seguinte equação:\n",
        "\n",
        "![image.png](data:image/png;base64,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)\n",
        "\n",
        "\n",
        "Onde:\n",
        "\n",
        "P(B|A): probabilidade de B acontecer dado que A já aconteceu;\n",
        "P(A): probabilidade de A acontecer;\n",
        "P(B): probabilidade de B acontecer.\n",
        "Falando dessa forma, pode ficar complicado de visualizar na prática o que isso realmente significa. Como o teorema de Bayes envolve probabilidade, pode ser aplicado a inúmeros contextos. Vamos utilizar aqui um exemplo envolvendo a área da saúde, mas o teorema poderia ser utilizado em outras áreas. Considere o exemplo:\n",
        "\n",
        "\n",
        "Covid-19 (5%)\tSem Covid-19 (95%)\n",
        "Teste positivo\t85%\t10%\n",
        "Teste Negativo\t15%\t90%\n",
        "\n",
        "\n",
        "\n",
        "Primeiramente, vamos entender o que está na tabela. Sabemos, através de pesquisas realizadas anteriormente, que há uma probabilidade de 5% de ter Covid-19. Consequentemente, há uma probabilidade 95% de não ter. Quem tem a doença está na coluna “Covid-19 (5%)” e possui uma probabilidade de 85% de testar positivo e 15% de negativo. Já quem não tem está na coluna “Sem Covid-19 (95%)” e possui uma probabilidade de 10% de testar positivo e 90% de negativo.\n",
        "\n",
        "De posse dessas informações, vamos responder à pergunta: quais as chances de ter Covid-19 dado que o teste deu positivo?\n",
        "\n",
        "Evento A: ter Covid-19\n",
        "Evento B: positivo no teste (evento condicionante)\n",
        "Utilizando a fórmula apresentada anteriormente, precisamos definir algumas probabilidades, como:\n",
        "\n",
        "P(B|A): probabilidade do teste ser positivo dado que a pessoa tem Covid-19, que é de 85% ou 0.85, de acordo com a tabela.\n",
        "P(A): probabilidade de ter covid-19. Observando a tabela, temos que é de 5%, ou 0.05.\n",
        "P(B): a probabilidade do teste ser positivo.\n",
        "A P(B) não conseguimos encontrar diretamente na tabela, pois a probabilidade do teste ser positivo pode acontecer quando a pessoa testada possui a doença ou não (chamado também de complementar). Logo, a probabilidade P(B) pode ser calculada como:\n",
        "\n",
        "\n",
        "![image.png](data:image/png;base64,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)\n",
        "\n",
        "P(B|AC): probabilidade do teste ser positivo dado que a pessoa não possui Covid-19, que é 10% ou 0.1\n",
        "P(AC): probabilidade da pessoa não ter Covid-19, que é 95% ou 0.95.\n",
        "Novamente, as informações acima foram retiradas diretamente da tabela. Pronto, agora temos todas as informações que precisamos. Colocando na equação temos que:\n",
        "\n",
        "![image.png](data:image/png;base64,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)\n",
        "\n",
        "Jogando esses valores na primeira equação, temos que:\n",
        "\n",
        "![image.png](data:image/png;base64,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)\n",
        "\n",
        "Logo, as chances de ter Covid-19, dado que o teste deu positivo, são de 31%."
      ],
      "metadata": {
        "id": "dF9cI3NaFRvX"
      }
    },
    {
      "cell_type": "markdown",
      "source": [
        "# Treinamento e teste"
      ],
      "metadata": {
        "id": "GqRP23YZF7Vs"
      }
    },
    {
      "cell_type": "code",
      "source": [
        "x_treino"
      ],
      "metadata": {
        "colab": {
          "base_uri": "https://localhost:8080/"
        },
        "id": "ahAMVRgDBrNE",
        "outputId": "49e36dec-cc8c-4ebc-84f7-75e380141bdd"
      },
      "execution_count": null,
      "outputs": [
        {
          "output_type": "execute_result",
          "data": {
            "text/plain": [
              "array([[-0.79024667, -0.52771004, -3.06083934, ..., -0.76702973,\n",
              "         2.08712905, -0.4360152 ],\n",
              "       [ 1.26542767,  1.89498006,  0.32670777, ..., -0.76702973,\n",
              "         2.08712905, -0.4360152 ],\n",
              "       [-0.79024667, -0.52771004,  0.32670777, ...,  1.30373042,\n",
              "        -0.47912706, -0.4360152 ],\n",
              "       ...,\n",
              "       [ 1.26542767,  1.89498006,  0.32670777, ..., -0.76702973,\n",
              "         2.08712905, -0.4360152 ],\n",
              "       [ 1.26542767,  1.89498006,  0.32670777, ...,  1.30373042,\n",
              "        -0.47912706, -0.4360152 ],\n",
              "       [-0.79024667, -0.52771004,  0.32670777, ...,  1.30373042,\n",
              "        -0.47912706, -0.4360152 ]])"
            ]
          },
          "metadata": {},
          "execution_count": 43
        }
      ]
    },
    {
      "cell_type": "code",
      "source": [
        "y_treino"
      ],
      "metadata": {
        "colab": {
          "base_uri": "https://localhost:8080/"
        },
        "id": "YJnsQ2nnGAak",
        "outputId": "cf1910c5-812f-43b2-cdcc-a5a923f4dab6"
      },
      "execution_count": null,
      "outputs": [
        {
          "output_type": "execute_result",
          "data": {
            "text/plain": [
              "4831    0\n",
              "5077    0\n",
              "9023    1\n",
              "4424    1\n",
              "5236    0\n",
              "       ..\n",
              "9785    1\n",
              "7763    1\n",
              "5218    0\n",
              "1346    1\n",
              "3582    0\n",
              "Name: Churn, Length: 7243, dtype: int64"
            ]
          },
          "metadata": {},
          "execution_count": 44
        }
      ]
    },
    {
      "cell_type": "code",
      "source": [
        "#escolho utilizar mediana, porque é o valor central dos nossos dados ordenados\n",
        "np.median(x_treino)"
      ],
      "metadata": {
        "colab": {
          "base_uri": "https://localhost:8080/"
        },
        "id": "Q8vdEff6GNCM",
        "outputId": "78488324-8e5a-4a7a-b46d-bdc35f81d29b"
      },
      "execution_count": null,
      "outputs": [
        {
          "output_type": "execute_result",
          "data": {
            "text/plain": [
              "-0.4461759755508453"
            ]
          },
          "metadata": {},
          "execution_count": 45
        }
      ]
    },
    {
      "cell_type": "code",
      "source": [
        "#biblioteca para criarmos o modelo de machine learning\n",
        "from sklearn.naive_bayes import BernoulliNB"
      ],
      "metadata": {
        "id": "VxpzzKeRGe-b"
      },
      "execution_count": null,
      "outputs": []
    },
    {
      "cell_type": "code",
      "source": [
        "#criamos o modelo\n",
        "bnb = BernoulliNB(binarize=0.44)"
      ],
      "metadata": {
        "id": "P3NabIEOGrHc"
      },
      "execution_count": null,
      "outputs": []
    },
    {
      "cell_type": "code",
      "source": [
        "bnb.fit(x_treino, y_treino)"
      ],
      "metadata": {
        "colab": {
          "base_uri": "https://localhost:8080/",
          "height": 74
        },
        "id": "0as3I-SXHPk8",
        "outputId": "5d0f2309-7d20-4715-9c0d-6e1c3919862a"
      },
      "execution_count": null,
      "outputs": [
        {
          "output_type": "execute_result",
          "data": {
            "text/plain": [
              "BernoulliNB(binarize=0.44)"
            ],
            "text/html": [
              "<style>#sk-container-id-3 {color: black;background-color: white;}#sk-container-id-3 pre{padding: 0;}#sk-container-id-3 div.sk-toggleable {background-color: white;}#sk-container-id-3 label.sk-toggleable__label {cursor: pointer;display: block;width: 100%;margin-bottom: 0;padding: 0.3em;box-sizing: border-box;text-align: center;}#sk-container-id-3 label.sk-toggleable__label-arrow:before {content: \"▸\";float: left;margin-right: 0.25em;color: #696969;}#sk-container-id-3 label.sk-toggleable__label-arrow:hover:before {color: black;}#sk-container-id-3 div.sk-estimator:hover label.sk-toggleable__label-arrow:before {color: black;}#sk-container-id-3 div.sk-toggleable__content {max-height: 0;max-width: 0;overflow: hidden;text-align: left;background-color: #f0f8ff;}#sk-container-id-3 div.sk-toggleable__content pre {margin: 0.2em;color: black;border-radius: 0.25em;background-color: #f0f8ff;}#sk-container-id-3 input.sk-toggleable__control:checked~div.sk-toggleable__content {max-height: 200px;max-width: 100%;overflow: auto;}#sk-container-id-3 input.sk-toggleable__control:checked~label.sk-toggleable__label-arrow:before {content: \"▾\";}#sk-container-id-3 div.sk-estimator input.sk-toggleable__control:checked~label.sk-toggleable__label {background-color: #d4ebff;}#sk-container-id-3 div.sk-label input.sk-toggleable__control:checked~label.sk-toggleable__label {background-color: #d4ebff;}#sk-container-id-3 input.sk-hidden--visually {border: 0;clip: rect(1px 1px 1px 1px);clip: rect(1px, 1px, 1px, 1px);height: 1px;margin: -1px;overflow: hidden;padding: 0;position: absolute;width: 1px;}#sk-container-id-3 div.sk-estimator {font-family: monospace;background-color: #f0f8ff;border: 1px dotted black;border-radius: 0.25em;box-sizing: border-box;margin-bottom: 0.5em;}#sk-container-id-3 div.sk-estimator:hover {background-color: #d4ebff;}#sk-container-id-3 div.sk-parallel-item::after {content: \"\";width: 100%;border-bottom: 1px solid gray;flex-grow: 1;}#sk-container-id-3 div.sk-label:hover label.sk-toggleable__label {background-color: #d4ebff;}#sk-container-id-3 div.sk-serial::before {content: \"\";position: absolute;border-left: 1px solid gray;box-sizing: border-box;top: 0;bottom: 0;left: 50%;z-index: 0;}#sk-container-id-3 div.sk-serial {display: flex;flex-direction: column;align-items: center;background-color: white;padding-right: 0.2em;padding-left: 0.2em;position: relative;}#sk-container-id-3 div.sk-item {position: relative;z-index: 1;}#sk-container-id-3 div.sk-parallel {display: flex;align-items: stretch;justify-content: center;background-color: white;position: relative;}#sk-container-id-3 div.sk-item::before, #sk-container-id-3 div.sk-parallel-item::before {content: \"\";position: absolute;border-left: 1px solid gray;box-sizing: border-box;top: 0;bottom: 0;left: 50%;z-index: -1;}#sk-container-id-3 div.sk-parallel-item {display: flex;flex-direction: column;z-index: 1;position: relative;background-color: white;}#sk-container-id-3 div.sk-parallel-item:first-child::after {align-self: flex-end;width: 50%;}#sk-container-id-3 div.sk-parallel-item:last-child::after {align-self: flex-start;width: 50%;}#sk-container-id-3 div.sk-parallel-item:only-child::after {width: 0;}#sk-container-id-3 div.sk-dashed-wrapped {border: 1px dashed gray;margin: 0 0.4em 0.5em 0.4em;box-sizing: border-box;padding-bottom: 0.4em;background-color: white;}#sk-container-id-3 div.sk-label label {font-family: monospace;font-weight: bold;display: inline-block;line-height: 1.2em;}#sk-container-id-3 div.sk-label-container {text-align: center;}#sk-container-id-3 div.sk-container {/* jupyter's `normalize.less` sets `[hidden] { display: none; }` but bootstrap.min.css set `[hidden] { display: none !important; }` so we also need the `!important` here to be able to override the default hidden behavior on the sphinx rendered scikit-learn.org. See: https://github.com/scikit-learn/scikit-learn/issues/21755 */display: inline-block !important;position: relative;}#sk-container-id-3 div.sk-text-repr-fallback {display: none;}</style><div id=\"sk-container-id-3\" class=\"sk-top-container\"><div class=\"sk-text-repr-fallback\"><pre>BernoulliNB(binarize=0.44)</pre><b>In a Jupyter environment, please rerun this cell to show the HTML representation or trust the notebook. <br />On GitHub, the HTML representation is unable to render, please try loading this page with nbviewer.org.</b></div><div class=\"sk-container\" hidden><div class=\"sk-item\"><div class=\"sk-estimator sk-toggleable\"><input class=\"sk-toggleable__control sk-hidden--visually\" id=\"sk-estimator-id-3\" type=\"checkbox\" checked><label for=\"sk-estimator-id-3\" class=\"sk-toggleable__label sk-toggleable__label-arrow\">BernoulliNB</label><div class=\"sk-toggleable__content\"><pre>BernoulliNB(binarize=0.44)</pre></div></div></div></div></div>"
            ]
          },
          "metadata": {},
          "execution_count": 76
        }
      ]
    },
    {
      "cell_type": "code",
      "source": [
        "predito_BNb = bnb.predict(x_teste)"
      ],
      "metadata": {
        "id": "AL_9k2MtHVg9"
      },
      "execution_count": null,
      "outputs": []
    },
    {
      "cell_type": "code",
      "source": [
        "predito_BNb"
      ],
      "metadata": {
        "colab": {
          "base_uri": "https://localhost:8080/"
        },
        "id": "OVhel-cIHfN9",
        "outputId": "0d5082df-f5e1-43ad-c2fe-155cea53a070"
      },
      "execution_count": null,
      "outputs": [
        {
          "output_type": "execute_result",
          "data": {
            "text/plain": [
              "array([1, 0, 0, ..., 1, 1, 1])"
            ]
          },
          "metadata": {},
          "execution_count": 78
        }
      ]
    }
  ]
}