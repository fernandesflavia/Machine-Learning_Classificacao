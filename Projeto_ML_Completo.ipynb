{
  "nbformat": 4,
  "nbformat_minor": 0,
  "metadata": {
    "colab": {
      "provenance": []
    },
    "kernelspec": {
      "name": "python3",
      "display_name": "Python 3"
    },
    "language_info": {
      "name": "python"
    }
  },
  "cells": [
    {
      "cell_type": "code",
      "execution_count": null,
      "metadata": {
        "id": "t7aNvpyKbeU8"
      },
      "outputs": [],
      "source": [
        "import pandas as pd"
      ]
    },
    {
      "cell_type": "code",
      "source": [
        "dados = pd.read_csv('/content/Customer-Churn.csv')"
      ],
      "metadata": {
        "id": "uLyYhYNOb-GQ"
      },
      "execution_count": null,
      "outputs": []
    },
    {
      "cell_type": "code",
      "source": [
        "dados.shape"
      ],
      "metadata": {
        "colab": {
          "base_uri": "https://localhost:8080/"
        },
        "id": "T2CMqsYpcLBt",
        "outputId": "acccc7d5-bbf5-44ea-976c-6a7b6dd32ba1"
      },
      "execution_count": null,
      "outputs": [
        {
          "output_type": "execute_result",
          "data": {
            "text/plain": [
              "(7043, 18)"
            ]
          },
          "metadata": {},
          "execution_count": 3
        }
      ]
    },
    {
      "cell_type": "code",
      "source": [
        "dados.head()"
      ],
      "metadata": {
        "colab": {
          "base_uri": "https://localhost:8080/",
          "height": 270
        },
        "id": "smqTRaCwcNMP",
        "outputId": "898ded8b-460c-46de-de73-6b86f48c0d2b"
      },
      "execution_count": null,
      "outputs": [
        {
          "output_type": "execute_result",
          "data": {
            "text/plain": [
              "   Maior65Anos Conjuge Dependentes  MesesDeContrato TelefoneFixo  \\\n",
              "0            0     Sim         Nao                1          Nao   \n",
              "1            0     Nao         Nao               34          Sim   \n",
              "2            0     Nao         Nao                2          Sim   \n",
              "3            0     Nao         Nao               45          Nao   \n",
              "4            0     Nao         Nao                2          Sim   \n",
              "\n",
              "  VariasLinhasTelefonicas ServicoDeInternet SegurancaOnline BackupOnline  \\\n",
              "0    SemServicoTelefonico               DSL             Nao          Sim   \n",
              "1                     Nao               DSL             Sim          Nao   \n",
              "2                     Nao               DSL             Sim          Sim   \n",
              "3    SemServicoTelefonico               DSL             Sim          Nao   \n",
              "4                     Nao       FibraOptica             Nao          Nao   \n",
              "\n",
              "  SeguroNoDispositivo SuporteTecnico TVaCabo StreamingDeFilmes TipoDeContrato  \\\n",
              "0                 Nao            Nao     Nao               Nao    Mensalmente   \n",
              "1                 Sim            Nao     Nao               Nao          UmAno   \n",
              "2                 Nao            Nao     Nao               Nao    Mensalmente   \n",
              "3                 Sim            Sim     Nao               Nao          UmAno   \n",
              "4                 Nao            Nao     Nao               Nao    Mensalmente   \n",
              "\n",
              "  PagamentoOnline FormaDePagamento  ContaMensal Churn  \n",
              "0             Sim    ChequeDigital        29.85   Nao  \n",
              "1             Nao      ChequePapel        56.95   Nao  \n",
              "2             Sim      ChequePapel        53.85   Sim  \n",
              "3             Nao    DebitoEmConta        42.30   Nao  \n",
              "4             Sim    ChequeDigital        70.70   Sim  "
            ],
            "text/html": [
              "\n",
              "\n",
              "  <div id=\"df-b1f2d188-9617-421f-aadd-b45a1025bc39\">\n",
              "    <div class=\"colab-df-container\">\n",
              "      <div>\n",
              "<style scoped>\n",
              "    .dataframe tbody tr th:only-of-type {\n",
              "        vertical-align: middle;\n",
              "    }\n",
              "\n",
              "    .dataframe tbody tr th {\n",
              "        vertical-align: top;\n",
              "    }\n",
              "\n",
              "    .dataframe thead th {\n",
              "        text-align: right;\n",
              "    }\n",
              "</style>\n",
              "<table border=\"1\" class=\"dataframe\">\n",
              "  <thead>\n",
              "    <tr style=\"text-align: right;\">\n",
              "      <th></th>\n",
              "      <th>Maior65Anos</th>\n",
              "      <th>Conjuge</th>\n",
              "      <th>Dependentes</th>\n",
              "      <th>MesesDeContrato</th>\n",
              "      <th>TelefoneFixo</th>\n",
              "      <th>VariasLinhasTelefonicas</th>\n",
              "      <th>ServicoDeInternet</th>\n",
              "      <th>SegurancaOnline</th>\n",
              "      <th>BackupOnline</th>\n",
              "      <th>SeguroNoDispositivo</th>\n",
              "      <th>SuporteTecnico</th>\n",
              "      <th>TVaCabo</th>\n",
              "      <th>StreamingDeFilmes</th>\n",
              "      <th>TipoDeContrato</th>\n",
              "      <th>PagamentoOnline</th>\n",
              "      <th>FormaDePagamento</th>\n",
              "      <th>ContaMensal</th>\n",
              "      <th>Churn</th>\n",
              "    </tr>\n",
              "  </thead>\n",
              "  <tbody>\n",
              "    <tr>\n",
              "      <th>0</th>\n",
              "      <td>0</td>\n",
              "      <td>Sim</td>\n",
              "      <td>Nao</td>\n",
              "      <td>1</td>\n",
              "      <td>Nao</td>\n",
              "      <td>SemServicoTelefonico</td>\n",
              "      <td>DSL</td>\n",
              "      <td>Nao</td>\n",
              "      <td>Sim</td>\n",
              "      <td>Nao</td>\n",
              "      <td>Nao</td>\n",
              "      <td>Nao</td>\n",
              "      <td>Nao</td>\n",
              "      <td>Mensalmente</td>\n",
              "      <td>Sim</td>\n",
              "      <td>ChequeDigital</td>\n",
              "      <td>29.85</td>\n",
              "      <td>Nao</td>\n",
              "    </tr>\n",
              "    <tr>\n",
              "      <th>1</th>\n",
              "      <td>0</td>\n",
              "      <td>Nao</td>\n",
              "      <td>Nao</td>\n",
              "      <td>34</td>\n",
              "      <td>Sim</td>\n",
              "      <td>Nao</td>\n",
              "      <td>DSL</td>\n",
              "      <td>Sim</td>\n",
              "      <td>Nao</td>\n",
              "      <td>Sim</td>\n",
              "      <td>Nao</td>\n",
              "      <td>Nao</td>\n",
              "      <td>Nao</td>\n",
              "      <td>UmAno</td>\n",
              "      <td>Nao</td>\n",
              "      <td>ChequePapel</td>\n",
              "      <td>56.95</td>\n",
              "      <td>Nao</td>\n",
              "    </tr>\n",
              "    <tr>\n",
              "      <th>2</th>\n",
              "      <td>0</td>\n",
              "      <td>Nao</td>\n",
              "      <td>Nao</td>\n",
              "      <td>2</td>\n",
              "      <td>Sim</td>\n",
              "      <td>Nao</td>\n",
              "      <td>DSL</td>\n",
              "      <td>Sim</td>\n",
              "      <td>Sim</td>\n",
              "      <td>Nao</td>\n",
              "      <td>Nao</td>\n",
              "      <td>Nao</td>\n",
              "      <td>Nao</td>\n",
              "      <td>Mensalmente</td>\n",
              "      <td>Sim</td>\n",
              "      <td>ChequePapel</td>\n",
              "      <td>53.85</td>\n",
              "      <td>Sim</td>\n",
              "    </tr>\n",
              "    <tr>\n",
              "      <th>3</th>\n",
              "      <td>0</td>\n",
              "      <td>Nao</td>\n",
              "      <td>Nao</td>\n",
              "      <td>45</td>\n",
              "      <td>Nao</td>\n",
              "      <td>SemServicoTelefonico</td>\n",
              "      <td>DSL</td>\n",
              "      <td>Sim</td>\n",
              "      <td>Nao</td>\n",
              "      <td>Sim</td>\n",
              "      <td>Sim</td>\n",
              "      <td>Nao</td>\n",
              "      <td>Nao</td>\n",
              "      <td>UmAno</td>\n",
              "      <td>Nao</td>\n",
              "      <td>DebitoEmConta</td>\n",
              "      <td>42.30</td>\n",
              "      <td>Nao</td>\n",
              "    </tr>\n",
              "    <tr>\n",
              "      <th>4</th>\n",
              "      <td>0</td>\n",
              "      <td>Nao</td>\n",
              "      <td>Nao</td>\n",
              "      <td>2</td>\n",
              "      <td>Sim</td>\n",
              "      <td>Nao</td>\n",
              "      <td>FibraOptica</td>\n",
              "      <td>Nao</td>\n",
              "      <td>Nao</td>\n",
              "      <td>Nao</td>\n",
              "      <td>Nao</td>\n",
              "      <td>Nao</td>\n",
              "      <td>Nao</td>\n",
              "      <td>Mensalmente</td>\n",
              "      <td>Sim</td>\n",
              "      <td>ChequeDigital</td>\n",
              "      <td>70.70</td>\n",
              "      <td>Sim</td>\n",
              "    </tr>\n",
              "  </tbody>\n",
              "</table>\n",
              "</div>\n",
              "      <button class=\"colab-df-convert\" onclick=\"convertToInteractive('df-b1f2d188-9617-421f-aadd-b45a1025bc39')\"\n",
              "              title=\"Convert this dataframe to an interactive table.\"\n",
              "              style=\"display:none;\">\n",
              "\n",
              "  <svg xmlns=\"http://www.w3.org/2000/svg\" height=\"24px\"viewBox=\"0 0 24 24\"\n",
              "       width=\"24px\">\n",
              "    <path d=\"M0 0h24v24H0V0z\" fill=\"none\"/>\n",
              "    <path d=\"M18.56 5.44l.94 2.06.94-2.06 2.06-.94-2.06-.94-.94-2.06-.94 2.06-2.06.94zm-11 1L8.5 8.5l.94-2.06 2.06-.94-2.06-.94L8.5 2.5l-.94 2.06-2.06.94zm10 10l.94 2.06.94-2.06 2.06-.94-2.06-.94-.94-2.06-.94 2.06-2.06.94z\"/><path d=\"M17.41 7.96l-1.37-1.37c-.4-.4-.92-.59-1.43-.59-.52 0-1.04.2-1.43.59L10.3 9.45l-7.72 7.72c-.78.78-.78 2.05 0 2.83L4 21.41c.39.39.9.59 1.41.59.51 0 1.02-.2 1.41-.59l7.78-7.78 2.81-2.81c.8-.78.8-2.07 0-2.86zM5.41 20L4 18.59l7.72-7.72 1.47 1.35L5.41 20z\"/>\n",
              "  </svg>\n",
              "      </button>\n",
              "\n",
              "\n",
              "\n",
              "    <div id=\"df-052ad923-5218-41f5-b5c7-2bc89556b6bf\">\n",
              "      <button class=\"colab-df-quickchart\" onclick=\"quickchart('df-052ad923-5218-41f5-b5c7-2bc89556b6bf')\"\n",
              "              title=\"Suggest charts.\"\n",
              "              style=\"display:none;\">\n",
              "\n",
              "<svg xmlns=\"http://www.w3.org/2000/svg\" height=\"24px\"viewBox=\"0 0 24 24\"\n",
              "     width=\"24px\">\n",
              "    <g>\n",
              "        <path d=\"M19 3H5c-1.1 0-2 .9-2 2v14c0 1.1.9 2 2 2h14c1.1 0 2-.9 2-2V5c0-1.1-.9-2-2-2zM9 17H7v-7h2v7zm4 0h-2V7h2v10zm4 0h-2v-4h2v4z\"/>\n",
              "    </g>\n",
              "</svg>\n",
              "      </button>\n",
              "    </div>\n",
              "\n",
              "<style>\n",
              "  .colab-df-quickchart {\n",
              "    background-color: #E8F0FE;\n",
              "    border: none;\n",
              "    border-radius: 50%;\n",
              "    cursor: pointer;\n",
              "    display: none;\n",
              "    fill: #1967D2;\n",
              "    height: 32px;\n",
              "    padding: 0 0 0 0;\n",
              "    width: 32px;\n",
              "  }\n",
              "\n",
              "  .colab-df-quickchart:hover {\n",
              "    background-color: #E2EBFA;\n",
              "    box-shadow: 0px 1px 2px rgba(60, 64, 67, 0.3), 0px 1px 3px 1px rgba(60, 64, 67, 0.15);\n",
              "    fill: #174EA6;\n",
              "  }\n",
              "\n",
              "  [theme=dark] .colab-df-quickchart {\n",
              "    background-color: #3B4455;\n",
              "    fill: #D2E3FC;\n",
              "  }\n",
              "\n",
              "  [theme=dark] .colab-df-quickchart:hover {\n",
              "    background-color: #434B5C;\n",
              "    box-shadow: 0px 1px 3px 1px rgba(0, 0, 0, 0.15);\n",
              "    filter: drop-shadow(0px 1px 2px rgba(0, 0, 0, 0.3));\n",
              "    fill: #FFFFFF;\n",
              "  }\n",
              "</style>\n",
              "\n",
              "    <script>\n",
              "      async function quickchart(key) {\n",
              "        const containerElement = document.querySelector('#' + key);\n",
              "        const charts = await google.colab.kernel.invokeFunction(\n",
              "            'suggestCharts', [key], {});\n",
              "      }\n",
              "    </script>\n",
              "\n",
              "      <script>\n",
              "\n",
              "function displayQuickchartButton(domScope) {\n",
              "  let quickchartButtonEl =\n",
              "    domScope.querySelector('#df-052ad923-5218-41f5-b5c7-2bc89556b6bf button.colab-df-quickchart');\n",
              "  quickchartButtonEl.style.display =\n",
              "    google.colab.kernel.accessAllowed ? 'block' : 'none';\n",
              "}\n",
              "\n",
              "        displayQuickchartButton(document);\n",
              "      </script>\n",
              "      <style>\n",
              "    .colab-df-container {\n",
              "      display:flex;\n",
              "      flex-wrap:wrap;\n",
              "      gap: 12px;\n",
              "    }\n",
              "\n",
              "    .colab-df-convert {\n",
              "      background-color: #E8F0FE;\n",
              "      border: none;\n",
              "      border-radius: 50%;\n",
              "      cursor: pointer;\n",
              "      display: none;\n",
              "      fill: #1967D2;\n",
              "      height: 32px;\n",
              "      padding: 0 0 0 0;\n",
              "      width: 32px;\n",
              "    }\n",
              "\n",
              "    .colab-df-convert:hover {\n",
              "      background-color: #E2EBFA;\n",
              "      box-shadow: 0px 1px 2px rgba(60, 64, 67, 0.3), 0px 1px 3px 1px rgba(60, 64, 67, 0.15);\n",
              "      fill: #174EA6;\n",
              "    }\n",
              "\n",
              "    [theme=dark] .colab-df-convert {\n",
              "      background-color: #3B4455;\n",
              "      fill: #D2E3FC;\n",
              "    }\n",
              "\n",
              "    [theme=dark] .colab-df-convert:hover {\n",
              "      background-color: #434B5C;\n",
              "      box-shadow: 0px 1px 3px 1px rgba(0, 0, 0, 0.15);\n",
              "      filter: drop-shadow(0px 1px 2px rgba(0, 0, 0, 0.3));\n",
              "      fill: #FFFFFF;\n",
              "    }\n",
              "  </style>\n",
              "\n",
              "      <script>\n",
              "        const buttonEl =\n",
              "          document.querySelector('#df-b1f2d188-9617-421f-aadd-b45a1025bc39 button.colab-df-convert');\n",
              "        buttonEl.style.display =\n",
              "          google.colab.kernel.accessAllowed ? 'block' : 'none';\n",
              "\n",
              "        async function convertToInteractive(key) {\n",
              "          const element = document.querySelector('#df-b1f2d188-9617-421f-aadd-b45a1025bc39');\n",
              "          const dataTable =\n",
              "            await google.colab.kernel.invokeFunction('convertToInteractive',\n",
              "                                                     [key], {});\n",
              "          if (!dataTable) return;\n",
              "\n",
              "          const docLinkHtml = 'Like what you see? Visit the ' +\n",
              "            '<a target=\"_blank\" href=https://colab.research.google.com/notebooks/data_table.ipynb>data table notebook</a>'\n",
              "            + ' to learn more about interactive tables.';\n",
              "          element.innerHTML = '';\n",
              "          dataTable['output_type'] = 'display_data';\n",
              "          await google.colab.output.renderOutput(dataTable, element);\n",
              "          const docLink = document.createElement('div');\n",
              "          docLink.innerHTML = docLinkHtml;\n",
              "          element.appendChild(docLink);\n",
              "        }\n",
              "      </script>\n",
              "    </div>\n",
              "  </div>\n"
            ]
          },
          "metadata": {},
          "execution_count": 4
        }
      ]
    },
    {
      "cell_type": "markdown",
      "source": [
        "##Diferentes variáveis\n"
      ],
      "metadata": {
        "id": "Fn3zvwhimv5w"
      }
    },
    {
      "cell_type": "code",
      "source": [
        "#modificação de forma manual\n",
        "traducao_dic = {'Sim': 1,\n",
        "                'Nao':0}\n",
        "\n",
        "dadosmodificados = dados[['Conjuge', 'Dependentes', 'TelefoneFixo', 'PagamentoOnline', 'Churn']].replace(traducao_dic)\n",
        "dadosmodificados.head()\n",
        "\n"
      ],
      "metadata": {
        "id": "JLGLqznLcPS-",
        "colab": {
          "base_uri": "https://localhost:8080/",
          "height": 206
        },
        "outputId": "68084925-7059-4c8a-9ae3-f7aecd060256"
      },
      "execution_count": null,
      "outputs": [
        {
          "output_type": "execute_result",
          "data": {
            "text/plain": [
              "   Conjuge  Dependentes  TelefoneFixo  PagamentoOnline  Churn\n",
              "0        1            0             0                1      0\n",
              "1        0            0             1                0      0\n",
              "2        0            0             1                1      1\n",
              "3        0            0             0                0      0\n",
              "4        0            0             1                1      1"
            ],
            "text/html": [
              "\n",
              "\n",
              "  <div id=\"df-c3e8a809-2d61-4162-bf18-57c9aab0db10\">\n",
              "    <div class=\"colab-df-container\">\n",
              "      <div>\n",
              "<style scoped>\n",
              "    .dataframe tbody tr th:only-of-type {\n",
              "        vertical-align: middle;\n",
              "    }\n",
              "\n",
              "    .dataframe tbody tr th {\n",
              "        vertical-align: top;\n",
              "    }\n",
              "\n",
              "    .dataframe thead th {\n",
              "        text-align: right;\n",
              "    }\n",
              "</style>\n",
              "<table border=\"1\" class=\"dataframe\">\n",
              "  <thead>\n",
              "    <tr style=\"text-align: right;\">\n",
              "      <th></th>\n",
              "      <th>Conjuge</th>\n",
              "      <th>Dependentes</th>\n",
              "      <th>TelefoneFixo</th>\n",
              "      <th>PagamentoOnline</th>\n",
              "      <th>Churn</th>\n",
              "    </tr>\n",
              "  </thead>\n",
              "  <tbody>\n",
              "    <tr>\n",
              "      <th>0</th>\n",
              "      <td>1</td>\n",
              "      <td>0</td>\n",
              "      <td>0</td>\n",
              "      <td>1</td>\n",
              "      <td>0</td>\n",
              "    </tr>\n",
              "    <tr>\n",
              "      <th>1</th>\n",
              "      <td>0</td>\n",
              "      <td>0</td>\n",
              "      <td>1</td>\n",
              "      <td>0</td>\n",
              "      <td>0</td>\n",
              "    </tr>\n",
              "    <tr>\n",
              "      <th>2</th>\n",
              "      <td>0</td>\n",
              "      <td>0</td>\n",
              "      <td>1</td>\n",
              "      <td>1</td>\n",
              "      <td>1</td>\n",
              "    </tr>\n",
              "    <tr>\n",
              "      <th>3</th>\n",
              "      <td>0</td>\n",
              "      <td>0</td>\n",
              "      <td>0</td>\n",
              "      <td>0</td>\n",
              "      <td>0</td>\n",
              "    </tr>\n",
              "    <tr>\n",
              "      <th>4</th>\n",
              "      <td>0</td>\n",
              "      <td>0</td>\n",
              "      <td>1</td>\n",
              "      <td>1</td>\n",
              "      <td>1</td>\n",
              "    </tr>\n",
              "  </tbody>\n",
              "</table>\n",
              "</div>\n",
              "      <button class=\"colab-df-convert\" onclick=\"convertToInteractive('df-c3e8a809-2d61-4162-bf18-57c9aab0db10')\"\n",
              "              title=\"Convert this dataframe to an interactive table.\"\n",
              "              style=\"display:none;\">\n",
              "\n",
              "  <svg xmlns=\"http://www.w3.org/2000/svg\" height=\"24px\"viewBox=\"0 0 24 24\"\n",
              "       width=\"24px\">\n",
              "    <path d=\"M0 0h24v24H0V0z\" fill=\"none\"/>\n",
              "    <path d=\"M18.56 5.44l.94 2.06.94-2.06 2.06-.94-2.06-.94-.94-2.06-.94 2.06-2.06.94zm-11 1L8.5 8.5l.94-2.06 2.06-.94-2.06-.94L8.5 2.5l-.94 2.06-2.06.94zm10 10l.94 2.06.94-2.06 2.06-.94-2.06-.94-.94-2.06-.94 2.06-2.06.94z\"/><path d=\"M17.41 7.96l-1.37-1.37c-.4-.4-.92-.59-1.43-.59-.52 0-1.04.2-1.43.59L10.3 9.45l-7.72 7.72c-.78.78-.78 2.05 0 2.83L4 21.41c.39.39.9.59 1.41.59.51 0 1.02-.2 1.41-.59l7.78-7.78 2.81-2.81c.8-.78.8-2.07 0-2.86zM5.41 20L4 18.59l7.72-7.72 1.47 1.35L5.41 20z\"/>\n",
              "  </svg>\n",
              "      </button>\n",
              "\n",
              "\n",
              "\n",
              "    <div id=\"df-5e8eb162-9995-4e76-b6cf-5703a65dae2b\">\n",
              "      <button class=\"colab-df-quickchart\" onclick=\"quickchart('df-5e8eb162-9995-4e76-b6cf-5703a65dae2b')\"\n",
              "              title=\"Suggest charts.\"\n",
              "              style=\"display:none;\">\n",
              "\n",
              "<svg xmlns=\"http://www.w3.org/2000/svg\" height=\"24px\"viewBox=\"0 0 24 24\"\n",
              "     width=\"24px\">\n",
              "    <g>\n",
              "        <path d=\"M19 3H5c-1.1 0-2 .9-2 2v14c0 1.1.9 2 2 2h14c1.1 0 2-.9 2-2V5c0-1.1-.9-2-2-2zM9 17H7v-7h2v7zm4 0h-2V7h2v10zm4 0h-2v-4h2v4z\"/>\n",
              "    </g>\n",
              "</svg>\n",
              "      </button>\n",
              "    </div>\n",
              "\n",
              "<style>\n",
              "  .colab-df-quickchart {\n",
              "    background-color: #E8F0FE;\n",
              "    border: none;\n",
              "    border-radius: 50%;\n",
              "    cursor: pointer;\n",
              "    display: none;\n",
              "    fill: #1967D2;\n",
              "    height: 32px;\n",
              "    padding: 0 0 0 0;\n",
              "    width: 32px;\n",
              "  }\n",
              "\n",
              "  .colab-df-quickchart:hover {\n",
              "    background-color: #E2EBFA;\n",
              "    box-shadow: 0px 1px 2px rgba(60, 64, 67, 0.3), 0px 1px 3px 1px rgba(60, 64, 67, 0.15);\n",
              "    fill: #174EA6;\n",
              "  }\n",
              "\n",
              "  [theme=dark] .colab-df-quickchart {\n",
              "    background-color: #3B4455;\n",
              "    fill: #D2E3FC;\n",
              "  }\n",
              "\n",
              "  [theme=dark] .colab-df-quickchart:hover {\n",
              "    background-color: #434B5C;\n",
              "    box-shadow: 0px 1px 3px 1px rgba(0, 0, 0, 0.15);\n",
              "    filter: drop-shadow(0px 1px 2px rgba(0, 0, 0, 0.3));\n",
              "    fill: #FFFFFF;\n",
              "  }\n",
              "</style>\n",
              "\n",
              "    <script>\n",
              "      async function quickchart(key) {\n",
              "        const containerElement = document.querySelector('#' + key);\n",
              "        const charts = await google.colab.kernel.invokeFunction(\n",
              "            'suggestCharts', [key], {});\n",
              "      }\n",
              "    </script>\n",
              "\n",
              "      <script>\n",
              "\n",
              "function displayQuickchartButton(domScope) {\n",
              "  let quickchartButtonEl =\n",
              "    domScope.querySelector('#df-5e8eb162-9995-4e76-b6cf-5703a65dae2b button.colab-df-quickchart');\n",
              "  quickchartButtonEl.style.display =\n",
              "    google.colab.kernel.accessAllowed ? 'block' : 'none';\n",
              "}\n",
              "\n",
              "        displayQuickchartButton(document);\n",
              "      </script>\n",
              "      <style>\n",
              "    .colab-df-container {\n",
              "      display:flex;\n",
              "      flex-wrap:wrap;\n",
              "      gap: 12px;\n",
              "    }\n",
              "\n",
              "    .colab-df-convert {\n",
              "      background-color: #E8F0FE;\n",
              "      border: none;\n",
              "      border-radius: 50%;\n",
              "      cursor: pointer;\n",
              "      display: none;\n",
              "      fill: #1967D2;\n",
              "      height: 32px;\n",
              "      padding: 0 0 0 0;\n",
              "      width: 32px;\n",
              "    }\n",
              "\n",
              "    .colab-df-convert:hover {\n",
              "      background-color: #E2EBFA;\n",
              "      box-shadow: 0px 1px 2px rgba(60, 64, 67, 0.3), 0px 1px 3px 1px rgba(60, 64, 67, 0.15);\n",
              "      fill: #174EA6;\n",
              "    }\n",
              "\n",
              "    [theme=dark] .colab-df-convert {\n",
              "      background-color: #3B4455;\n",
              "      fill: #D2E3FC;\n",
              "    }\n",
              "\n",
              "    [theme=dark] .colab-df-convert:hover {\n",
              "      background-color: #434B5C;\n",
              "      box-shadow: 0px 1px 3px 1px rgba(0, 0, 0, 0.15);\n",
              "      filter: drop-shadow(0px 1px 2px rgba(0, 0, 0, 0.3));\n",
              "      fill: #FFFFFF;\n",
              "    }\n",
              "  </style>\n",
              "\n",
              "      <script>\n",
              "        const buttonEl =\n",
              "          document.querySelector('#df-c3e8a809-2d61-4162-bf18-57c9aab0db10 button.colab-df-convert');\n",
              "        buttonEl.style.display =\n",
              "          google.colab.kernel.accessAllowed ? 'block' : 'none';\n",
              "\n",
              "        async function convertToInteractive(key) {\n",
              "          const element = document.querySelector('#df-c3e8a809-2d61-4162-bf18-57c9aab0db10');\n",
              "          const dataTable =\n",
              "            await google.colab.kernel.invokeFunction('convertToInteractive',\n",
              "                                                     [key], {});\n",
              "          if (!dataTable) return;\n",
              "\n",
              "          const docLinkHtml = 'Like what you see? Visit the ' +\n",
              "            '<a target=\"_blank\" href=https://colab.research.google.com/notebooks/data_table.ipynb>data table notebook</a>'\n",
              "            + ' to learn more about interactive tables.';\n",
              "          element.innerHTML = '';\n",
              "          dataTable['output_type'] = 'display_data';\n",
              "          await google.colab.output.renderOutput(dataTable, element);\n",
              "          const docLink = document.createElement('div');\n",
              "          docLink.innerHTML = docLinkHtml;\n",
              "          element.appendChild(docLink);\n",
              "        }\n",
              "      </script>\n",
              "    </div>\n",
              "  </div>\n"
            ]
          },
          "metadata": {},
          "execution_count": 5
        }
      ]
    },
    {
      "cell_type": "code",
      "source": [
        "#trasnformação pelo get_dummies\n",
        "dummie_dados = pd.get_dummies(dados.drop(['Conjuge', 'Dependentes', 'TelefoneFixo', 'PagamentoOnline', 'Churn'],\n",
        "                                         axis=1))\n",
        "#junção dos dados trasnformados com os que já tinhamos\n",
        "dados_final = pd.concat([dadosmodificados, dummie_dados], axis=1)"
      ],
      "metadata": {
        "id": "b2iBSVzbnjep"
      },
      "execution_count": null,
      "outputs": []
    },
    {
      "cell_type": "code",
      "source": [
        "dados_final.head()"
      ],
      "metadata": {
        "colab": {
          "base_uri": "https://localhost:8080/",
          "height": 299
        },
        "id": "R8C8Ojfno0tX",
        "outputId": "dd601c8a-9653-4475-a5e1-ccb62a0978e5"
      },
      "execution_count": null,
      "outputs": [
        {
          "output_type": "execute_result",
          "data": {
            "text/plain": [
              "   Conjuge  Dependentes  TelefoneFixo  PagamentoOnline  Churn  Maior65Anos  \\\n",
              "0        1            0             0                1      0            0   \n",
              "1        0            0             1                0      0            0   \n",
              "2        0            0             1                1      1            0   \n",
              "3        0            0             0                0      0            0   \n",
              "4        0            0             1                1      1            0   \n",
              "\n",
              "   MesesDeContrato  ContaMensal  VariasLinhasTelefonicas_Nao  \\\n",
              "0                1        29.85                            0   \n",
              "1               34        56.95                            1   \n",
              "2                2        53.85                            1   \n",
              "3               45        42.30                            0   \n",
              "4                2        70.70                            1   \n",
              "\n",
              "   VariasLinhasTelefonicas_SemServicoTelefonico  ...  StreamingDeFilmes_Nao  \\\n",
              "0                                             1  ...                      1   \n",
              "1                                             0  ...                      1   \n",
              "2                                             0  ...                      1   \n",
              "3                                             1  ...                      1   \n",
              "4                                             0  ...                      1   \n",
              "\n",
              "   StreamingDeFilmes_SemServicoDeInternet  StreamingDeFilmes_Sim  \\\n",
              "0                                       0                      0   \n",
              "1                                       0                      0   \n",
              "2                                       0                      0   \n",
              "3                                       0                      0   \n",
              "4                                       0                      0   \n",
              "\n",
              "   TipoDeContrato_DoisAnos  TipoDeContrato_Mensalmente  TipoDeContrato_UmAno  \\\n",
              "0                        0                           1                     0   \n",
              "1                        0                           0                     1   \n",
              "2                        0                           1                     0   \n",
              "3                        0                           0                     1   \n",
              "4                        0                           1                     0   \n",
              "\n",
              "   FormaDePagamento_CartaoDeCredito  FormaDePagamento_ChequeDigital  \\\n",
              "0                                 0                               1   \n",
              "1                                 0                               0   \n",
              "2                                 0                               0   \n",
              "3                                 0                               0   \n",
              "4                                 0                               1   \n",
              "\n",
              "   FormaDePagamento_ChequePapel  FormaDePagamento_DebitoEmConta  \n",
              "0                             0                               0  \n",
              "1                             1                               0  \n",
              "2                             1                               0  \n",
              "3                             0                               1  \n",
              "4                             0                               0  \n",
              "\n",
              "[5 rows x 39 columns]"
            ],
            "text/html": [
              "\n",
              "\n",
              "  <div id=\"df-696dc963-c7fc-4eec-a119-dfe116af9361\">\n",
              "    <div class=\"colab-df-container\">\n",
              "      <div>\n",
              "<style scoped>\n",
              "    .dataframe tbody tr th:only-of-type {\n",
              "        vertical-align: middle;\n",
              "    }\n",
              "\n",
              "    .dataframe tbody tr th {\n",
              "        vertical-align: top;\n",
              "    }\n",
              "\n",
              "    .dataframe thead th {\n",
              "        text-align: right;\n",
              "    }\n",
              "</style>\n",
              "<table border=\"1\" class=\"dataframe\">\n",
              "  <thead>\n",
              "    <tr style=\"text-align: right;\">\n",
              "      <th></th>\n",
              "      <th>Conjuge</th>\n",
              "      <th>Dependentes</th>\n",
              "      <th>TelefoneFixo</th>\n",
              "      <th>PagamentoOnline</th>\n",
              "      <th>Churn</th>\n",
              "      <th>Maior65Anos</th>\n",
              "      <th>MesesDeContrato</th>\n",
              "      <th>ContaMensal</th>\n",
              "      <th>VariasLinhasTelefonicas_Nao</th>\n",
              "      <th>VariasLinhasTelefonicas_SemServicoTelefonico</th>\n",
              "      <th>...</th>\n",
              "      <th>StreamingDeFilmes_Nao</th>\n",
              "      <th>StreamingDeFilmes_SemServicoDeInternet</th>\n",
              "      <th>StreamingDeFilmes_Sim</th>\n",
              "      <th>TipoDeContrato_DoisAnos</th>\n",
              "      <th>TipoDeContrato_Mensalmente</th>\n",
              "      <th>TipoDeContrato_UmAno</th>\n",
              "      <th>FormaDePagamento_CartaoDeCredito</th>\n",
              "      <th>FormaDePagamento_ChequeDigital</th>\n",
              "      <th>FormaDePagamento_ChequePapel</th>\n",
              "      <th>FormaDePagamento_DebitoEmConta</th>\n",
              "    </tr>\n",
              "  </thead>\n",
              "  <tbody>\n",
              "    <tr>\n",
              "      <th>0</th>\n",
              "      <td>1</td>\n",
              "      <td>0</td>\n",
              "      <td>0</td>\n",
              "      <td>1</td>\n",
              "      <td>0</td>\n",
              "      <td>0</td>\n",
              "      <td>1</td>\n",
              "      <td>29.85</td>\n",
              "      <td>0</td>\n",
              "      <td>1</td>\n",
              "      <td>...</td>\n",
              "      <td>1</td>\n",
              "      <td>0</td>\n",
              "      <td>0</td>\n",
              "      <td>0</td>\n",
              "      <td>1</td>\n",
              "      <td>0</td>\n",
              "      <td>0</td>\n",
              "      <td>1</td>\n",
              "      <td>0</td>\n",
              "      <td>0</td>\n",
              "    </tr>\n",
              "    <tr>\n",
              "      <th>1</th>\n",
              "      <td>0</td>\n",
              "      <td>0</td>\n",
              "      <td>1</td>\n",
              "      <td>0</td>\n",
              "      <td>0</td>\n",
              "      <td>0</td>\n",
              "      <td>34</td>\n",
              "      <td>56.95</td>\n",
              "      <td>1</td>\n",
              "      <td>0</td>\n",
              "      <td>...</td>\n",
              "      <td>1</td>\n",
              "      <td>0</td>\n",
              "      <td>0</td>\n",
              "      <td>0</td>\n",
              "      <td>0</td>\n",
              "      <td>1</td>\n",
              "      <td>0</td>\n",
              "      <td>0</td>\n",
              "      <td>1</td>\n",
              "      <td>0</td>\n",
              "    </tr>\n",
              "    <tr>\n",
              "      <th>2</th>\n",
              "      <td>0</td>\n",
              "      <td>0</td>\n",
              "      <td>1</td>\n",
              "      <td>1</td>\n",
              "      <td>1</td>\n",
              "      <td>0</td>\n",
              "      <td>2</td>\n",
              "      <td>53.85</td>\n",
              "      <td>1</td>\n",
              "      <td>0</td>\n",
              "      <td>...</td>\n",
              "      <td>1</td>\n",
              "      <td>0</td>\n",
              "      <td>0</td>\n",
              "      <td>0</td>\n",
              "      <td>1</td>\n",
              "      <td>0</td>\n",
              "      <td>0</td>\n",
              "      <td>0</td>\n",
              "      <td>1</td>\n",
              "      <td>0</td>\n",
              "    </tr>\n",
              "    <tr>\n",
              "      <th>3</th>\n",
              "      <td>0</td>\n",
              "      <td>0</td>\n",
              "      <td>0</td>\n",
              "      <td>0</td>\n",
              "      <td>0</td>\n",
              "      <td>0</td>\n",
              "      <td>45</td>\n",
              "      <td>42.30</td>\n",
              "      <td>0</td>\n",
              "      <td>1</td>\n",
              "      <td>...</td>\n",
              "      <td>1</td>\n",
              "      <td>0</td>\n",
              "      <td>0</td>\n",
              "      <td>0</td>\n",
              "      <td>0</td>\n",
              "      <td>1</td>\n",
              "      <td>0</td>\n",
              "      <td>0</td>\n",
              "      <td>0</td>\n",
              "      <td>1</td>\n",
              "    </tr>\n",
              "    <tr>\n",
              "      <th>4</th>\n",
              "      <td>0</td>\n",
              "      <td>0</td>\n",
              "      <td>1</td>\n",
              "      <td>1</td>\n",
              "      <td>1</td>\n",
              "      <td>0</td>\n",
              "      <td>2</td>\n",
              "      <td>70.70</td>\n",
              "      <td>1</td>\n",
              "      <td>0</td>\n",
              "      <td>...</td>\n",
              "      <td>1</td>\n",
              "      <td>0</td>\n",
              "      <td>0</td>\n",
              "      <td>0</td>\n",
              "      <td>1</td>\n",
              "      <td>0</td>\n",
              "      <td>0</td>\n",
              "      <td>1</td>\n",
              "      <td>0</td>\n",
              "      <td>0</td>\n",
              "    </tr>\n",
              "  </tbody>\n",
              "</table>\n",
              "<p>5 rows × 39 columns</p>\n",
              "</div>\n",
              "      <button class=\"colab-df-convert\" onclick=\"convertToInteractive('df-696dc963-c7fc-4eec-a119-dfe116af9361')\"\n",
              "              title=\"Convert this dataframe to an interactive table.\"\n",
              "              style=\"display:none;\">\n",
              "\n",
              "  <svg xmlns=\"http://www.w3.org/2000/svg\" height=\"24px\"viewBox=\"0 0 24 24\"\n",
              "       width=\"24px\">\n",
              "    <path d=\"M0 0h24v24H0V0z\" fill=\"none\"/>\n",
              "    <path d=\"M18.56 5.44l.94 2.06.94-2.06 2.06-.94-2.06-.94-.94-2.06-.94 2.06-2.06.94zm-11 1L8.5 8.5l.94-2.06 2.06-.94-2.06-.94L8.5 2.5l-.94 2.06-2.06.94zm10 10l.94 2.06.94-2.06 2.06-.94-2.06-.94-.94-2.06-.94 2.06-2.06.94z\"/><path d=\"M17.41 7.96l-1.37-1.37c-.4-.4-.92-.59-1.43-.59-.52 0-1.04.2-1.43.59L10.3 9.45l-7.72 7.72c-.78.78-.78 2.05 0 2.83L4 21.41c.39.39.9.59 1.41.59.51 0 1.02-.2 1.41-.59l7.78-7.78 2.81-2.81c.8-.78.8-2.07 0-2.86zM5.41 20L4 18.59l7.72-7.72 1.47 1.35L5.41 20z\"/>\n",
              "  </svg>\n",
              "      </button>\n",
              "\n",
              "\n",
              "\n",
              "    <div id=\"df-85bcf654-d099-4d3c-8d5e-99d6d2b0acb4\">\n",
              "      <button class=\"colab-df-quickchart\" onclick=\"quickchart('df-85bcf654-d099-4d3c-8d5e-99d6d2b0acb4')\"\n",
              "              title=\"Suggest charts.\"\n",
              "              style=\"display:none;\">\n",
              "\n",
              "<svg xmlns=\"http://www.w3.org/2000/svg\" height=\"24px\"viewBox=\"0 0 24 24\"\n",
              "     width=\"24px\">\n",
              "    <g>\n",
              "        <path d=\"M19 3H5c-1.1 0-2 .9-2 2v14c0 1.1.9 2 2 2h14c1.1 0 2-.9 2-2V5c0-1.1-.9-2-2-2zM9 17H7v-7h2v7zm4 0h-2V7h2v10zm4 0h-2v-4h2v4z\"/>\n",
              "    </g>\n",
              "</svg>\n",
              "      </button>\n",
              "    </div>\n",
              "\n",
              "<style>\n",
              "  .colab-df-quickchart {\n",
              "    background-color: #E8F0FE;\n",
              "    border: none;\n",
              "    border-radius: 50%;\n",
              "    cursor: pointer;\n",
              "    display: none;\n",
              "    fill: #1967D2;\n",
              "    height: 32px;\n",
              "    padding: 0 0 0 0;\n",
              "    width: 32px;\n",
              "  }\n",
              "\n",
              "  .colab-df-quickchart:hover {\n",
              "    background-color: #E2EBFA;\n",
              "    box-shadow: 0px 1px 2px rgba(60, 64, 67, 0.3), 0px 1px 3px 1px rgba(60, 64, 67, 0.15);\n",
              "    fill: #174EA6;\n",
              "  }\n",
              "\n",
              "  [theme=dark] .colab-df-quickchart {\n",
              "    background-color: #3B4455;\n",
              "    fill: #D2E3FC;\n",
              "  }\n",
              "\n",
              "  [theme=dark] .colab-df-quickchart:hover {\n",
              "    background-color: #434B5C;\n",
              "    box-shadow: 0px 1px 3px 1px rgba(0, 0, 0, 0.15);\n",
              "    filter: drop-shadow(0px 1px 2px rgba(0, 0, 0, 0.3));\n",
              "    fill: #FFFFFF;\n",
              "  }\n",
              "</style>\n",
              "\n",
              "    <script>\n",
              "      async function quickchart(key) {\n",
              "        const containerElement = document.querySelector('#' + key);\n",
              "        const charts = await google.colab.kernel.invokeFunction(\n",
              "            'suggestCharts', [key], {});\n",
              "      }\n",
              "    </script>\n",
              "\n",
              "      <script>\n",
              "\n",
              "function displayQuickchartButton(domScope) {\n",
              "  let quickchartButtonEl =\n",
              "    domScope.querySelector('#df-85bcf654-d099-4d3c-8d5e-99d6d2b0acb4 button.colab-df-quickchart');\n",
              "  quickchartButtonEl.style.display =\n",
              "    google.colab.kernel.accessAllowed ? 'block' : 'none';\n",
              "}\n",
              "\n",
              "        displayQuickchartButton(document);\n",
              "      </script>\n",
              "      <style>\n",
              "    .colab-df-container {\n",
              "      display:flex;\n",
              "      flex-wrap:wrap;\n",
              "      gap: 12px;\n",
              "    }\n",
              "\n",
              "    .colab-df-convert {\n",
              "      background-color: #E8F0FE;\n",
              "      border: none;\n",
              "      border-radius: 50%;\n",
              "      cursor: pointer;\n",
              "      display: none;\n",
              "      fill: #1967D2;\n",
              "      height: 32px;\n",
              "      padding: 0 0 0 0;\n",
              "      width: 32px;\n",
              "    }\n",
              "\n",
              "    .colab-df-convert:hover {\n",
              "      background-color: #E2EBFA;\n",
              "      box-shadow: 0px 1px 2px rgba(60, 64, 67, 0.3), 0px 1px 3px 1px rgba(60, 64, 67, 0.15);\n",
              "      fill: #174EA6;\n",
              "    }\n",
              "\n",
              "    [theme=dark] .colab-df-convert {\n",
              "      background-color: #3B4455;\n",
              "      fill: #D2E3FC;\n",
              "    }\n",
              "\n",
              "    [theme=dark] .colab-df-convert:hover {\n",
              "      background-color: #434B5C;\n",
              "      box-shadow: 0px 1px 3px 1px rgba(0, 0, 0, 0.15);\n",
              "      filter: drop-shadow(0px 1px 2px rgba(0, 0, 0, 0.3));\n",
              "      fill: #FFFFFF;\n",
              "    }\n",
              "  </style>\n",
              "\n",
              "      <script>\n",
              "        const buttonEl =\n",
              "          document.querySelector('#df-696dc963-c7fc-4eec-a119-dfe116af9361 button.colab-df-convert');\n",
              "        buttonEl.style.display =\n",
              "          google.colab.kernel.accessAllowed ? 'block' : 'none';\n",
              "\n",
              "        async function convertToInteractive(key) {\n",
              "          const element = document.querySelector('#df-696dc963-c7fc-4eec-a119-dfe116af9361');\n",
              "          const dataTable =\n",
              "            await google.colab.kernel.invokeFunction('convertToInteractive',\n",
              "                                                     [key], {});\n",
              "          if (!dataTable) return;\n",
              "\n",
              "          const docLinkHtml = 'Like what you see? Visit the ' +\n",
              "            '<a target=\"_blank\" href=https://colab.research.google.com/notebooks/data_table.ipynb>data table notebook</a>'\n",
              "            + ' to learn more about interactive tables.';\n",
              "          element.innerHTML = '';\n",
              "          dataTable['output_type'] = 'display_data';\n",
              "          await google.colab.output.renderOutput(dataTable, element);\n",
              "          const docLink = document.createElement('div');\n",
              "          docLink.innerHTML = docLinkHtml;\n",
              "          element.appendChild(docLink);\n",
              "        }\n",
              "      </script>\n",
              "    </div>\n",
              "  </div>\n"
            ]
          },
          "metadata": {},
          "execution_count": 7
        }
      ]
    },
    {
      "cell_type": "code",
      "source": [
        "dados_final.shape"
      ],
      "metadata": {
        "colab": {
          "base_uri": "https://localhost:8080/"
        },
        "id": "2sTx5ZNMo4F_",
        "outputId": "ac980a39-7375-493f-d52b-d1026b120b3e"
      },
      "execution_count": null,
      "outputs": [
        {
          "output_type": "execute_result",
          "data": {
            "text/plain": [
              "(7043, 39)"
            ]
          },
          "metadata": {},
          "execution_count": 8
        }
      ]
    },
    {
      "cell_type": "code",
      "source": [
        "#A variável “Minutos totais por dia” pode ser classificada como quantitativa contínua.\n",
        "#A variável “Churn” pode ser classificada como qualitativa nominal."
      ],
      "metadata": {
        "id": "kZoX1fMsqAeH"
      },
      "execution_count": null,
      "outputs": []
    },
    {
      "cell_type": "markdown",
      "source": [
        "## Definição Formal\n",
        "\n",
        "Informações para classificaçãtexto:\n",
        "X = inputs(dados de entrada)\n",
        "y = outputs(dados de saída)"
      ],
      "metadata": {
        "id": "EHPJ_J8TruJZ"
      }
    },
    {
      "cell_type": "code",
      "source": [
        "#Dica\n",
        "pd.set_option('display.max_columns', 39)"
      ],
      "metadata": {
        "id": "FZ6UtAVyqHug"
      },
      "execution_count": null,
      "outputs": []
    },
    {
      "cell_type": "code",
      "source": [
        "dados_final.head()"
      ],
      "metadata": {
        "colab": {
          "base_uri": "https://localhost:8080/",
          "height": 270
        },
        "id": "sOW-s4T8sU23",
        "outputId": "8dc3b546-ea90-4b58-b3a0-75c3e1712ce4"
      },
      "execution_count": null,
      "outputs": [
        {
          "output_type": "execute_result",
          "data": {
            "text/plain": [
              "   Conjuge  Dependentes  TelefoneFixo  PagamentoOnline  Churn  Maior65Anos  \\\n",
              "0        1            0             0                1      0            0   \n",
              "1        0            0             1                0      0            0   \n",
              "2        0            0             1                1      1            0   \n",
              "3        0            0             0                0      0            0   \n",
              "4        0            0             1                1      1            0   \n",
              "\n",
              "   MesesDeContrato  ContaMensal  VariasLinhasTelefonicas_Nao  \\\n",
              "0                1        29.85                            0   \n",
              "1               34        56.95                            1   \n",
              "2                2        53.85                            1   \n",
              "3               45        42.30                            0   \n",
              "4                2        70.70                            1   \n",
              "\n",
              "   VariasLinhasTelefonicas_SemServicoTelefonico  VariasLinhasTelefonicas_Sim  \\\n",
              "0                                             1                            0   \n",
              "1                                             0                            0   \n",
              "2                                             0                            0   \n",
              "3                                             1                            0   \n",
              "4                                             0                            0   \n",
              "\n",
              "   ServicoDeInternet_DSL  ServicoDeInternet_FibraOptica  \\\n",
              "0                      1                              0   \n",
              "1                      1                              0   \n",
              "2                      1                              0   \n",
              "3                      1                              0   \n",
              "4                      0                              1   \n",
              "\n",
              "   ServicoDeInternet_Nao  SegurancaOnline_Nao  \\\n",
              "0                      0                    1   \n",
              "1                      0                    0   \n",
              "2                      0                    0   \n",
              "3                      0                    0   \n",
              "4                      0                    1   \n",
              "\n",
              "   SegurancaOnline_SemServicoDeInternet  SegurancaOnline_Sim  \\\n",
              "0                                     0                    0   \n",
              "1                                     0                    1   \n",
              "2                                     0                    1   \n",
              "3                                     0                    1   \n",
              "4                                     0                    0   \n",
              "\n",
              "   BackupOnline_Nao  BackupOnline_SemServicoDeInternet  BackupOnline_Sim  \\\n",
              "0                 0                                  0                 1   \n",
              "1                 1                                  0                 0   \n",
              "2                 0                                  0                 1   \n",
              "3                 1                                  0                 0   \n",
              "4                 1                                  0                 0   \n",
              "\n",
              "   SeguroNoDispositivo_Nao  SeguroNoDispositivo_SemServicoDeInternet  \\\n",
              "0                        1                                         0   \n",
              "1                        0                                         0   \n",
              "2                        1                                         0   \n",
              "3                        0                                         0   \n",
              "4                        1                                         0   \n",
              "\n",
              "   SeguroNoDispositivo_Sim  SuporteTecnico_Nao  \\\n",
              "0                        0                   1   \n",
              "1                        1                   1   \n",
              "2                        0                   1   \n",
              "3                        1                   0   \n",
              "4                        0                   1   \n",
              "\n",
              "   SuporteTecnico_SemServicoDeInternet  SuporteTecnico_Sim  TVaCabo_Nao  \\\n",
              "0                                    0                   0            1   \n",
              "1                                    0                   0            1   \n",
              "2                                    0                   0            1   \n",
              "3                                    0                   1            1   \n",
              "4                                    0                   0            1   \n",
              "\n",
              "   TVaCabo_SemServicoDeInternet  TVaCabo_Sim  StreamingDeFilmes_Nao  \\\n",
              "0                             0            0                      1   \n",
              "1                             0            0                      1   \n",
              "2                             0            0                      1   \n",
              "3                             0            0                      1   \n",
              "4                             0            0                      1   \n",
              "\n",
              "   StreamingDeFilmes_SemServicoDeInternet  StreamingDeFilmes_Sim  \\\n",
              "0                                       0                      0   \n",
              "1                                       0                      0   \n",
              "2                                       0                      0   \n",
              "3                                       0                      0   \n",
              "4                                       0                      0   \n",
              "\n",
              "   TipoDeContrato_DoisAnos  TipoDeContrato_Mensalmente  TipoDeContrato_UmAno  \\\n",
              "0                        0                           1                     0   \n",
              "1                        0                           0                     1   \n",
              "2                        0                           1                     0   \n",
              "3                        0                           0                     1   \n",
              "4                        0                           1                     0   \n",
              "\n",
              "   FormaDePagamento_CartaoDeCredito  FormaDePagamento_ChequeDigital  \\\n",
              "0                                 0                               1   \n",
              "1                                 0                               0   \n",
              "2                                 0                               0   \n",
              "3                                 0                               0   \n",
              "4                                 0                               1   \n",
              "\n",
              "   FormaDePagamento_ChequePapel  FormaDePagamento_DebitoEmConta  \n",
              "0                             0                               0  \n",
              "1                             1                               0  \n",
              "2                             1                               0  \n",
              "3                             0                               1  \n",
              "4                             0                               0  "
            ],
            "text/html": [
              "\n",
              "\n",
              "  <div id=\"df-4614956a-a7b8-4008-a0a8-0d4ba3515289\">\n",
              "    <div class=\"colab-df-container\">\n",
              "      <div>\n",
              "<style scoped>\n",
              "    .dataframe tbody tr th:only-of-type {\n",
              "        vertical-align: middle;\n",
              "    }\n",
              "\n",
              "    .dataframe tbody tr th {\n",
              "        vertical-align: top;\n",
              "    }\n",
              "\n",
              "    .dataframe thead th {\n",
              "        text-align: right;\n",
              "    }\n",
              "</style>\n",
              "<table border=\"1\" class=\"dataframe\">\n",
              "  <thead>\n",
              "    <tr style=\"text-align: right;\">\n",
              "      <th></th>\n",
              "      <th>Conjuge</th>\n",
              "      <th>Dependentes</th>\n",
              "      <th>TelefoneFixo</th>\n",
              "      <th>PagamentoOnline</th>\n",
              "      <th>Churn</th>\n",
              "      <th>Maior65Anos</th>\n",
              "      <th>MesesDeContrato</th>\n",
              "      <th>ContaMensal</th>\n",
              "      <th>VariasLinhasTelefonicas_Nao</th>\n",
              "      <th>VariasLinhasTelefonicas_SemServicoTelefonico</th>\n",
              "      <th>VariasLinhasTelefonicas_Sim</th>\n",
              "      <th>ServicoDeInternet_DSL</th>\n",
              "      <th>ServicoDeInternet_FibraOptica</th>\n",
              "      <th>ServicoDeInternet_Nao</th>\n",
              "      <th>SegurancaOnline_Nao</th>\n",
              "      <th>SegurancaOnline_SemServicoDeInternet</th>\n",
              "      <th>SegurancaOnline_Sim</th>\n",
              "      <th>BackupOnline_Nao</th>\n",
              "      <th>BackupOnline_SemServicoDeInternet</th>\n",
              "      <th>BackupOnline_Sim</th>\n",
              "      <th>SeguroNoDispositivo_Nao</th>\n",
              "      <th>SeguroNoDispositivo_SemServicoDeInternet</th>\n",
              "      <th>SeguroNoDispositivo_Sim</th>\n",
              "      <th>SuporteTecnico_Nao</th>\n",
              "      <th>SuporteTecnico_SemServicoDeInternet</th>\n",
              "      <th>SuporteTecnico_Sim</th>\n",
              "      <th>TVaCabo_Nao</th>\n",
              "      <th>TVaCabo_SemServicoDeInternet</th>\n",
              "      <th>TVaCabo_Sim</th>\n",
              "      <th>StreamingDeFilmes_Nao</th>\n",
              "      <th>StreamingDeFilmes_SemServicoDeInternet</th>\n",
              "      <th>StreamingDeFilmes_Sim</th>\n",
              "      <th>TipoDeContrato_DoisAnos</th>\n",
              "      <th>TipoDeContrato_Mensalmente</th>\n",
              "      <th>TipoDeContrato_UmAno</th>\n",
              "      <th>FormaDePagamento_CartaoDeCredito</th>\n",
              "      <th>FormaDePagamento_ChequeDigital</th>\n",
              "      <th>FormaDePagamento_ChequePapel</th>\n",
              "      <th>FormaDePagamento_DebitoEmConta</th>\n",
              "    </tr>\n",
              "  </thead>\n",
              "  <tbody>\n",
              "    <tr>\n",
              "      <th>0</th>\n",
              "      <td>1</td>\n",
              "      <td>0</td>\n",
              "      <td>0</td>\n",
              "      <td>1</td>\n",
              "      <td>0</td>\n",
              "      <td>0</td>\n",
              "      <td>1</td>\n",
              "      <td>29.85</td>\n",
              "      <td>0</td>\n",
              "      <td>1</td>\n",
              "      <td>0</td>\n",
              "      <td>1</td>\n",
              "      <td>0</td>\n",
              "      <td>0</td>\n",
              "      <td>1</td>\n",
              "      <td>0</td>\n",
              "      <td>0</td>\n",
              "      <td>0</td>\n",
              "      <td>0</td>\n",
              "      <td>1</td>\n",
              "      <td>1</td>\n",
              "      <td>0</td>\n",
              "      <td>0</td>\n",
              "      <td>1</td>\n",
              "      <td>0</td>\n",
              "      <td>0</td>\n",
              "      <td>1</td>\n",
              "      <td>0</td>\n",
              "      <td>0</td>\n",
              "      <td>1</td>\n",
              "      <td>0</td>\n",
              "      <td>0</td>\n",
              "      <td>0</td>\n",
              "      <td>1</td>\n",
              "      <td>0</td>\n",
              "      <td>0</td>\n",
              "      <td>1</td>\n",
              "      <td>0</td>\n",
              "      <td>0</td>\n",
              "    </tr>\n",
              "    <tr>\n",
              "      <th>1</th>\n",
              "      <td>0</td>\n",
              "      <td>0</td>\n",
              "      <td>1</td>\n",
              "      <td>0</td>\n",
              "      <td>0</td>\n",
              "      <td>0</td>\n",
              "      <td>34</td>\n",
              "      <td>56.95</td>\n",
              "      <td>1</td>\n",
              "      <td>0</td>\n",
              "      <td>0</td>\n",
              "      <td>1</td>\n",
              "      <td>0</td>\n",
              "      <td>0</td>\n",
              "      <td>0</td>\n",
              "      <td>0</td>\n",
              "      <td>1</td>\n",
              "      <td>1</td>\n",
              "      <td>0</td>\n",
              "      <td>0</td>\n",
              "      <td>0</td>\n",
              "      <td>0</td>\n",
              "      <td>1</td>\n",
              "      <td>1</td>\n",
              "      <td>0</td>\n",
              "      <td>0</td>\n",
              "      <td>1</td>\n",
              "      <td>0</td>\n",
              "      <td>0</td>\n",
              "      <td>1</td>\n",
              "      <td>0</td>\n",
              "      <td>0</td>\n",
              "      <td>0</td>\n",
              "      <td>0</td>\n",
              "      <td>1</td>\n",
              "      <td>0</td>\n",
              "      <td>0</td>\n",
              "      <td>1</td>\n",
              "      <td>0</td>\n",
              "    </tr>\n",
              "    <tr>\n",
              "      <th>2</th>\n",
              "      <td>0</td>\n",
              "      <td>0</td>\n",
              "      <td>1</td>\n",
              "      <td>1</td>\n",
              "      <td>1</td>\n",
              "      <td>0</td>\n",
              "      <td>2</td>\n",
              "      <td>53.85</td>\n",
              "      <td>1</td>\n",
              "      <td>0</td>\n",
              "      <td>0</td>\n",
              "      <td>1</td>\n",
              "      <td>0</td>\n",
              "      <td>0</td>\n",
              "      <td>0</td>\n",
              "      <td>0</td>\n",
              "      <td>1</td>\n",
              "      <td>0</td>\n",
              "      <td>0</td>\n",
              "      <td>1</td>\n",
              "      <td>1</td>\n",
              "      <td>0</td>\n",
              "      <td>0</td>\n",
              "      <td>1</td>\n",
              "      <td>0</td>\n",
              "      <td>0</td>\n",
              "      <td>1</td>\n",
              "      <td>0</td>\n",
              "      <td>0</td>\n",
              "      <td>1</td>\n",
              "      <td>0</td>\n",
              "      <td>0</td>\n",
              "      <td>0</td>\n",
              "      <td>1</td>\n",
              "      <td>0</td>\n",
              "      <td>0</td>\n",
              "      <td>0</td>\n",
              "      <td>1</td>\n",
              "      <td>0</td>\n",
              "    </tr>\n",
              "    <tr>\n",
              "      <th>3</th>\n",
              "      <td>0</td>\n",
              "      <td>0</td>\n",
              "      <td>0</td>\n",
              "      <td>0</td>\n",
              "      <td>0</td>\n",
              "      <td>0</td>\n",
              "      <td>45</td>\n",
              "      <td>42.30</td>\n",
              "      <td>0</td>\n",
              "      <td>1</td>\n",
              "      <td>0</td>\n",
              "      <td>1</td>\n",
              "      <td>0</td>\n",
              "      <td>0</td>\n",
              "      <td>0</td>\n",
              "      <td>0</td>\n",
              "      <td>1</td>\n",
              "      <td>1</td>\n",
              "      <td>0</td>\n",
              "      <td>0</td>\n",
              "      <td>0</td>\n",
              "      <td>0</td>\n",
              "      <td>1</td>\n",
              "      <td>0</td>\n",
              "      <td>0</td>\n",
              "      <td>1</td>\n",
              "      <td>1</td>\n",
              "      <td>0</td>\n",
              "      <td>0</td>\n",
              "      <td>1</td>\n",
              "      <td>0</td>\n",
              "      <td>0</td>\n",
              "      <td>0</td>\n",
              "      <td>0</td>\n",
              "      <td>1</td>\n",
              "      <td>0</td>\n",
              "      <td>0</td>\n",
              "      <td>0</td>\n",
              "      <td>1</td>\n",
              "    </tr>\n",
              "    <tr>\n",
              "      <th>4</th>\n",
              "      <td>0</td>\n",
              "      <td>0</td>\n",
              "      <td>1</td>\n",
              "      <td>1</td>\n",
              "      <td>1</td>\n",
              "      <td>0</td>\n",
              "      <td>2</td>\n",
              "      <td>70.70</td>\n",
              "      <td>1</td>\n",
              "      <td>0</td>\n",
              "      <td>0</td>\n",
              "      <td>0</td>\n",
              "      <td>1</td>\n",
              "      <td>0</td>\n",
              "      <td>1</td>\n",
              "      <td>0</td>\n",
              "      <td>0</td>\n",
              "      <td>1</td>\n",
              "      <td>0</td>\n",
              "      <td>0</td>\n",
              "      <td>1</td>\n",
              "      <td>0</td>\n",
              "      <td>0</td>\n",
              "      <td>1</td>\n",
              "      <td>0</td>\n",
              "      <td>0</td>\n",
              "      <td>1</td>\n",
              "      <td>0</td>\n",
              "      <td>0</td>\n",
              "      <td>1</td>\n",
              "      <td>0</td>\n",
              "      <td>0</td>\n",
              "      <td>0</td>\n",
              "      <td>1</td>\n",
              "      <td>0</td>\n",
              "      <td>0</td>\n",
              "      <td>1</td>\n",
              "      <td>0</td>\n",
              "      <td>0</td>\n",
              "    </tr>\n",
              "  </tbody>\n",
              "</table>\n",
              "</div>\n",
              "      <button class=\"colab-df-convert\" onclick=\"convertToInteractive('df-4614956a-a7b8-4008-a0a8-0d4ba3515289')\"\n",
              "              title=\"Convert this dataframe to an interactive table.\"\n",
              "              style=\"display:none;\">\n",
              "\n",
              "  <svg xmlns=\"http://www.w3.org/2000/svg\" height=\"24px\"viewBox=\"0 0 24 24\"\n",
              "       width=\"24px\">\n",
              "    <path d=\"M0 0h24v24H0V0z\" fill=\"none\"/>\n",
              "    <path d=\"M18.56 5.44l.94 2.06.94-2.06 2.06-.94-2.06-.94-.94-2.06-.94 2.06-2.06.94zm-11 1L8.5 8.5l.94-2.06 2.06-.94-2.06-.94L8.5 2.5l-.94 2.06-2.06.94zm10 10l.94 2.06.94-2.06 2.06-.94-2.06-.94-.94-2.06-.94 2.06-2.06.94z\"/><path d=\"M17.41 7.96l-1.37-1.37c-.4-.4-.92-.59-1.43-.59-.52 0-1.04.2-1.43.59L10.3 9.45l-7.72 7.72c-.78.78-.78 2.05 0 2.83L4 21.41c.39.39.9.59 1.41.59.51 0 1.02-.2 1.41-.59l7.78-7.78 2.81-2.81c.8-.78.8-2.07 0-2.86zM5.41 20L4 18.59l7.72-7.72 1.47 1.35L5.41 20z\"/>\n",
              "  </svg>\n",
              "      </button>\n",
              "\n",
              "\n",
              "\n",
              "    <div id=\"df-99c122d0-2936-4ef8-a7d5-1e94e0247098\">\n",
              "      <button class=\"colab-df-quickchart\" onclick=\"quickchart('df-99c122d0-2936-4ef8-a7d5-1e94e0247098')\"\n",
              "              title=\"Suggest charts.\"\n",
              "              style=\"display:none;\">\n",
              "\n",
              "<svg xmlns=\"http://www.w3.org/2000/svg\" height=\"24px\"viewBox=\"0 0 24 24\"\n",
              "     width=\"24px\">\n",
              "    <g>\n",
              "        <path d=\"M19 3H5c-1.1 0-2 .9-2 2v14c0 1.1.9 2 2 2h14c1.1 0 2-.9 2-2V5c0-1.1-.9-2-2-2zM9 17H7v-7h2v7zm4 0h-2V7h2v10zm4 0h-2v-4h2v4z\"/>\n",
              "    </g>\n",
              "</svg>\n",
              "      </button>\n",
              "    </div>\n",
              "\n",
              "<style>\n",
              "  .colab-df-quickchart {\n",
              "    background-color: #E8F0FE;\n",
              "    border: none;\n",
              "    border-radius: 50%;\n",
              "    cursor: pointer;\n",
              "    display: none;\n",
              "    fill: #1967D2;\n",
              "    height: 32px;\n",
              "    padding: 0 0 0 0;\n",
              "    width: 32px;\n",
              "  }\n",
              "\n",
              "  .colab-df-quickchart:hover {\n",
              "    background-color: #E2EBFA;\n",
              "    box-shadow: 0px 1px 2px rgba(60, 64, 67, 0.3), 0px 1px 3px 1px rgba(60, 64, 67, 0.15);\n",
              "    fill: #174EA6;\n",
              "  }\n",
              "\n",
              "  [theme=dark] .colab-df-quickchart {\n",
              "    background-color: #3B4455;\n",
              "    fill: #D2E3FC;\n",
              "  }\n",
              "\n",
              "  [theme=dark] .colab-df-quickchart:hover {\n",
              "    background-color: #434B5C;\n",
              "    box-shadow: 0px 1px 3px 1px rgba(0, 0, 0, 0.15);\n",
              "    filter: drop-shadow(0px 1px 2px rgba(0, 0, 0, 0.3));\n",
              "    fill: #FFFFFF;\n",
              "  }\n",
              "</style>\n",
              "\n",
              "    <script>\n",
              "      async function quickchart(key) {\n",
              "        const containerElement = document.querySelector('#' + key);\n",
              "        const charts = await google.colab.kernel.invokeFunction(\n",
              "            'suggestCharts', [key], {});\n",
              "      }\n",
              "    </script>\n",
              "\n",
              "      <script>\n",
              "\n",
              "function displayQuickchartButton(domScope) {\n",
              "  let quickchartButtonEl =\n",
              "    domScope.querySelector('#df-99c122d0-2936-4ef8-a7d5-1e94e0247098 button.colab-df-quickchart');\n",
              "  quickchartButtonEl.style.display =\n",
              "    google.colab.kernel.accessAllowed ? 'block' : 'none';\n",
              "}\n",
              "\n",
              "        displayQuickchartButton(document);\n",
              "      </script>\n",
              "      <style>\n",
              "    .colab-df-container {\n",
              "      display:flex;\n",
              "      flex-wrap:wrap;\n",
              "      gap: 12px;\n",
              "    }\n",
              "\n",
              "    .colab-df-convert {\n",
              "      background-color: #E8F0FE;\n",
              "      border: none;\n",
              "      border-radius: 50%;\n",
              "      cursor: pointer;\n",
              "      display: none;\n",
              "      fill: #1967D2;\n",
              "      height: 32px;\n",
              "      padding: 0 0 0 0;\n",
              "      width: 32px;\n",
              "    }\n",
              "\n",
              "    .colab-df-convert:hover {\n",
              "      background-color: #E2EBFA;\n",
              "      box-shadow: 0px 1px 2px rgba(60, 64, 67, 0.3), 0px 1px 3px 1px rgba(60, 64, 67, 0.15);\n",
              "      fill: #174EA6;\n",
              "    }\n",
              "\n",
              "    [theme=dark] .colab-df-convert {\n",
              "      background-color: #3B4455;\n",
              "      fill: #D2E3FC;\n",
              "    }\n",
              "\n",
              "    [theme=dark] .colab-df-convert:hover {\n",
              "      background-color: #434B5C;\n",
              "      box-shadow: 0px 1px 3px 1px rgba(0, 0, 0, 0.15);\n",
              "      filter: drop-shadow(0px 1px 2px rgba(0, 0, 0, 0.3));\n",
              "      fill: #FFFFFF;\n",
              "    }\n",
              "  </style>\n",
              "\n",
              "      <script>\n",
              "        const buttonEl =\n",
              "          document.querySelector('#df-4614956a-a7b8-4008-a0a8-0d4ba3515289 button.colab-df-convert');\n",
              "        buttonEl.style.display =\n",
              "          google.colab.kernel.accessAllowed ? 'block' : 'none';\n",
              "\n",
              "        async function convertToInteractive(key) {\n",
              "          const element = document.querySelector('#df-4614956a-a7b8-4008-a0a8-0d4ba3515289');\n",
              "          const dataTable =\n",
              "            await google.colab.kernel.invokeFunction('convertToInteractive',\n",
              "                                                     [key], {});\n",
              "          if (!dataTable) return;\n",
              "\n",
              "          const docLinkHtml = 'Like what you see? Visit the ' +\n",
              "            '<a target=\"_blank\" href=https://colab.research.google.com/notebooks/data_table.ipynb>data table notebook</a>'\n",
              "            + ' to learn more about interactive tables.';\n",
              "          element.innerHTML = '';\n",
              "          dataTable['output_type'] = 'display_data';\n",
              "          await google.colab.output.renderOutput(dataTable, element);\n",
              "          const docLink = document.createElement('div');\n",
              "          docLink.innerHTML = docLinkHtml;\n",
              "          element.appendChild(docLink);\n",
              "        }\n",
              "      </script>\n",
              "    </div>\n",
              "  </div>\n"
            ]
          },
          "metadata": {},
          "execution_count": 11
        }
      ]
    },
    {
      "cell_type": "code",
      "source": [
        "Xmaria = [[0,0,1,1,0,0,39.90,1,0,0,0,1,0,1,0,0,0,0,1,1,1,0,0,1,0,1,0,0,0,0,1,0,0,1,0,0,0,1]]\n"
      ],
      "metadata": {
        "id": "Iyi2I4VrtHhn"
      },
      "execution_count": null,
      "outputs": []
    },
    {
      "cell_type": "code",
      "source": [],
      "metadata": {
        "id": "94Y0njxBtLRK"
      },
      "execution_count": null,
      "outputs": []
    },
    {
      "cell_type": "code",
      "source": [
        "#Dados desbalanceados\n",
        "\n",
        "import seaborn as sns\n",
        "%matplotlib inline\n",
        "\n",
        "ax = sns.countplot(x='Churn', data=dados_final)"
      ],
      "metadata": {
        "colab": {
          "base_uri": "https://localhost:8080/",
          "height": 449
        },
        "id": "NUP-6arzuXCK",
        "outputId": "c8a5fed9-e0e5-4a8c-d044-a12e7ce40966"
      },
      "execution_count": null,
      "outputs": [
        {
          "output_type": "display_data",
          "data": {
            "text/plain": [
              "<Figure size 640x480 with 1 Axes>"
            ],
            "image/png": "[encoded data removed]"
          },
          "metadata": {}
        }
      ]
    },
    {
      "cell_type": "markdown",
      "source": [
        "Analisando o gráfico, podemos perceber que nossa variável está desbalanceada e precisamos tratar isso.\n",
        "Para realizar o balanceamento dos dados, utilizaremos uma técnica chamada de **Oversampling**,\n",
        "que consiste em realizar a criação de novas observações da classe quando há menos amostras,\n",
        "tendo como objetivo igualar a proporção entre as categorias.\n",
        "\n",
        "Uma das técnicas de oversampling muito utilizada é a **SMOTE**. Sua ideia consiste em criar observações intermediárias entre os dados que estão próximos. Por exemplo, se minutos totais por dia são 129.1 e 146.3, então será criada uma amostra com os minutos totais por dia com 137.7. Lembrando que não é necessariamente a média entre as amostras.\n",
        "\n"
      ],
      "metadata": {
        "id": "qyX2XnIduxAx"
      }
    },
    {
      "cell_type": "code",
      "source": [
        "!pip install -U imbalanced-learn"
      ],
      "metadata": {
        "colab": {
          "base_uri": "https://localhost:8080/"
        },
        "id": "EUKbX0qtubIx",
        "outputId": "46337f75-d497-44be-9c5e-72e0ef80cd91"
      },
      "execution_count": null,
      "outputs": [
        {
          "output_type": "stream",
          "name": "stdout",
          "text": [
            "Requirement already satisfied: imbalanced-learn in /usr/local/lib/python3.10/dist-packages (0.10.1)\n",
            "Collecting imbalanced-learn\n",
            "  Using cached imbalanced_learn-0.11.0-py3-none-any.whl (235 kB)\n",
            "Requirement already satisfied: numpy>=1.17.3 in /usr/local/lib/python3.10/dist-packages (from imbalanced-learn) (1.22.4)\n",
            "Requirement already satisfied: scipy>=1.5.0 in /usr/local/lib/python3.10/dist-packages (from imbalanced-learn) (1.10.1)\n",
            "Requirement already satisfied: scikit-learn>=1.0.2 in /usr/local/lib/python3.10/dist-packages (from imbalanced-learn) (1.2.2)\n",
            "Requirement already satisfied: joblib>=1.1.1 in /usr/local/lib/python3.10/dist-packages (from imbalanced-learn) (1.3.1)\n",
            "Requirement already satisfied: threadpoolctl>=2.0.0 in /usr/local/lib/python3.10/dist-packages (from imbalanced-learn) (3.2.0)\n",
            "Installing collected packages: imbalanced-learn\n",
            "  Attempting uninstall: imbalanced-learn\n",
            "    Found existing installation: imbalanced-learn 0.10.1\n",
            "    Uninstalling imbalanced-learn-0.10.1:\n",
            "      Successfully uninstalled imbalanced-learn-0.10.1\n",
            "Successfully installed imbalanced-learn-0.11.0\n"
          ]
        }
      ]
    },
    {
      "cell_type": "code",
      "source": [
        "# Para podermos aplicar o SMOTE, devemos separar  os dados em variáveis características e resposta\n",
        "\n",
        "X = dados_final.drop('Churn', axis = 1)\n",
        "y = dados_final['Churn']"
      ],
      "metadata": {
        "id": "_UDycQz0vFje"
      },
      "execution_count": null,
      "outputs": []
    },
    {
      "cell_type": "code",
      "source": [
        "from imblearn.over_sampling import SMOTE\n",
        "\n",
        "smt = SMOTE(random_state=123)  # Instancia um objeto da classe SMOTE\n",
        "X, y = smt.fit_resample(X, y)  # Realiza a reamostragem do conjunto de dados"
      ],
      "metadata": {
        "id": "H5SMNvO3vIPw"
      },
      "execution_count": null,
      "outputs": []
    },
    {
      "cell_type": "code",
      "source": [
        "dados_final = pd.concat([X, y], axis=1)  # Concatena a variável target (y) com as features (X)\n",
        "\n",
        "# Verifica se o balanceamento e a concatenação estão corretos.\n",
        "dados_final.head(2)"
      ],
      "metadata": {
        "colab": {
          "base_uri": "https://localhost:8080/",
          "height": 176
        },
        "id": "3zcseqaWvL3g",
        "outputId": "2cd621c5-0ffb-4b45-9906-2df7d9677386"
      },
      "execution_count": null,
      "outputs": [
        {
          "output_type": "execute_result",
          "data": {
            "text/plain": [
              "   Conjuge  Dependentes  TelefoneFixo  PagamentoOnline  Maior65Anos  \\\n",
              "0        1            0             0                1            0   \n",
              "1        0            0             1                0            0   \n",
              "\n",
              "   MesesDeContrato  ContaMensal  VariasLinhasTelefonicas_Nao  \\\n",
              "0                1        29.85                            0   \n",
              "1               34        56.95                            1   \n",
              "\n",
              "   VariasLinhasTelefonicas_SemServicoTelefonico  VariasLinhasTelefonicas_Sim  \\\n",
              "0                                             1                            0   \n",
              "1                                             0                            0   \n",
              "\n",
              "   ServicoDeInternet_DSL  ServicoDeInternet_FibraOptica  \\\n",
              "0                      1                              0   \n",
              "1                      1                              0   \n",
              "\n",
              "   ServicoDeInternet_Nao  SegurancaOnline_Nao  \\\n",
              "0                      0                    1   \n",
              "1                      0                    0   \n",
              "\n",
              "   SegurancaOnline_SemServicoDeInternet  SegurancaOnline_Sim  \\\n",
              "0                                     0                    0   \n",
              "1                                     0                    1   \n",
              "\n",
              "   BackupOnline_Nao  BackupOnline_SemServicoDeInternet  BackupOnline_Sim  \\\n",
              "0                 0                                  0                 1   \n",
              "1                 1                                  0                 0   \n",
              "\n",
              "   SeguroNoDispositivo_Nao  SeguroNoDispositivo_SemServicoDeInternet  \\\n",
              "0                        1                                         0   \n",
              "1                        0                                         0   \n",
              "\n",
              "   SeguroNoDispositivo_Sim  SuporteTecnico_Nao  \\\n",
              "0                        0                   1   \n",
              "1                        1                   1   \n",
              "\n",
              "   SuporteTecnico_SemServicoDeInternet  SuporteTecnico_Sim  TVaCabo_Nao  \\\n",
              "0                                    0                   0            1   \n",
              "1                                    0                   0            1   \n",
              "\n",
              "   TVaCabo_SemServicoDeInternet  TVaCabo_Sim  StreamingDeFilmes_Nao  \\\n",
              "0                             0            0                      1   \n",
              "1                             0            0                      1   \n",
              "\n",
              "   StreamingDeFilmes_SemServicoDeInternet  StreamingDeFilmes_Sim  \\\n",
              "0                                       0                      0   \n",
              "1                                       0                      0   \n",
              "\n",
              "   TipoDeContrato_DoisAnos  TipoDeContrato_Mensalmente  TipoDeContrato_UmAno  \\\n",
              "0                        0                           1                     0   \n",
              "1                        0                           0                     1   \n",
              "\n",
              "   FormaDePagamento_CartaoDeCredito  FormaDePagamento_ChequeDigital  \\\n",
              "0                                 0                               1   \n",
              "1                                 0                               0   \n",
              "\n",
              "   FormaDePagamento_ChequePapel  FormaDePagamento_DebitoEmConta  Churn  \n",
              "0                             0                               0      0  \n",
              "1                             1                               0      0  "
            ],
            "text/html": [
              "\n",
              "\n",
              "  <div id=\"df-74155cd0-78c1-48a0-95d6-36d39a04350e\">\n",
              "    <div class=\"colab-df-container\">\n",
              "      <div>\n",
              "<style scoped>\n",
              "    .dataframe tbody tr th:only-of-type {\n",
              "        vertical-align: middle;\n",
              "    }\n",
              "\n",
              "    .dataframe tbody tr th {\n",
              "        vertical-align: top;\n",
              "    }\n",
              "\n",
              "    .dataframe thead th {\n",
              "        text-align: right;\n",
              "    }\n",
              "</style>\n",
              "<table border=\"1\" class=\"dataframe\">\n",
              "  <thead>\n",
              "    <tr style=\"text-align: right;\">\n",
              "      <th></th>\n",
              "      <th>Conjuge</th>\n",
              "      <th>Dependentes</th>\n",
              "      <th>TelefoneFixo</th>\n",
              "      <th>PagamentoOnline</th>\n",
              "      <th>Maior65Anos</th>\n",
              "      <th>MesesDeContrato</th>\n",
              "      <th>ContaMensal</th>\n",
              "      <th>VariasLinhasTelefonicas_Nao</th>\n",
              "      <th>VariasLinhasTelefonicas_SemServicoTelefonico</th>\n",
              "      <th>VariasLinhasTelefonicas_Sim</th>\n",
              "      <th>ServicoDeInternet_DSL</th>\n",
              "      <th>ServicoDeInternet_FibraOptica</th>\n",
              "      <th>ServicoDeInternet_Nao</th>\n",
              "      <th>SegurancaOnline_Nao</th>\n",
              "      <th>SegurancaOnline_SemServicoDeInternet</th>\n",
              "      <th>SegurancaOnline_Sim</th>\n",
              "      <th>BackupOnline_Nao</th>\n",
              "      <th>BackupOnline_SemServicoDeInternet</th>\n",
              "      <th>BackupOnline_Sim</th>\n",
              "      <th>SeguroNoDispositivo_Nao</th>\n",
              "      <th>SeguroNoDispositivo_SemServicoDeInternet</th>\n",
              "      <th>SeguroNoDispositivo_Sim</th>\n",
              "      <th>SuporteTecnico_Nao</th>\n",
              "      <th>SuporteTecnico_SemServicoDeInternet</th>\n",
              "      <th>SuporteTecnico_Sim</th>\n",
              "      <th>TVaCabo_Nao</th>\n",
              "      <th>TVaCabo_SemServicoDeInternet</th>\n",
              "      <th>TVaCabo_Sim</th>\n",
              "      <th>StreamingDeFilmes_Nao</th>\n",
              "      <th>StreamingDeFilmes_SemServicoDeInternet</th>\n",
              "      <th>StreamingDeFilmes_Sim</th>\n",
              "      <th>TipoDeContrato_DoisAnos</th>\n",
              "      <th>TipoDeContrato_Mensalmente</th>\n",
              "      <th>TipoDeContrato_UmAno</th>\n",
              "      <th>FormaDePagamento_CartaoDeCredito</th>\n",
              "      <th>FormaDePagamento_ChequeDigital</th>\n",
              "      <th>FormaDePagamento_ChequePapel</th>\n",
              "      <th>FormaDePagamento_DebitoEmConta</th>\n",
              "      <th>Churn</th>\n",
              "    </tr>\n",
              "  </thead>\n",
              "  <tbody>\n",
              "    <tr>\n",
              "      <th>0</th>\n",
              "      <td>1</td>\n",
              "      <td>0</td>\n",
              "      <td>0</td>\n",
              "      <td>1</td>\n",
              "      <td>0</td>\n",
              "      <td>1</td>\n",
              "      <td>29.85</td>\n",
              "      <td>0</td>\n",
              "      <td>1</td>\n",
              "      <td>0</td>\n",
              "      <td>1</td>\n",
              "      <td>0</td>\n",
              "      <td>0</td>\n",
              "      <td>1</td>\n",
              "      <td>0</td>\n",
              "      <td>0</td>\n",
              "      <td>0</td>\n",
              "      <td>0</td>\n",
              "      <td>1</td>\n",
              "      <td>1</td>\n",
              "      <td>0</td>\n",
              "      <td>0</td>\n",
              "      <td>1</td>\n",
              "      <td>0</td>\n",
              "      <td>0</td>\n",
              "      <td>1</td>\n",
              "      <td>0</td>\n",
              "      <td>0</td>\n",
              "      <td>1</td>\n",
              "      <td>0</td>\n",
              "      <td>0</td>\n",
              "      <td>0</td>\n",
              "      <td>1</td>\n",
              "      <td>0</td>\n",
              "      <td>0</td>\n",
              "      <td>1</td>\n",
              "      <td>0</td>\n",
              "      <td>0</td>\n",
              "      <td>0</td>\n",
              "    </tr>\n",
              "    <tr>\n",
              "      <th>1</th>\n",
              "      <td>0</td>\n",
              "      <td>0</td>\n",
              "      <td>1</td>\n",
              "      <td>0</td>\n",
              "      <td>0</td>\n",
              "      <td>34</td>\n",
              "      <td>56.95</td>\n",
              "      <td>1</td>\n",
              "      <td>0</td>\n",
              "      <td>0</td>\n",
              "      <td>1</td>\n",
              "      <td>0</td>\n",
              "      <td>0</td>\n",
              "      <td>0</td>\n",
              "      <td>0</td>\n",
              "      <td>1</td>\n",
              "      <td>1</td>\n",
              "      <td>0</td>\n",
              "      <td>0</td>\n",
              "      <td>0</td>\n",
              "      <td>0</td>\n",
              "      <td>1</td>\n",
              "      <td>1</td>\n",
              "      <td>0</td>\n",
              "      <td>0</td>\n",
              "      <td>1</td>\n",
              "      <td>0</td>\n",
              "      <td>0</td>\n",
              "      <td>1</td>\n",
              "      <td>0</td>\n",
              "      <td>0</td>\n",
              "      <td>0</td>\n",
              "      <td>0</td>\n",
              "      <td>1</td>\n",
              "      <td>0</td>\n",
              "      <td>0</td>\n",
              "      <td>1</td>\n",
              "      <td>0</td>\n",
              "      <td>0</td>\n",
              "    </tr>\n",
              "  </tbody>\n",
              "</table>\n",
              "</div>\n",
              "      <button class=\"colab-df-convert\" onclick=\"convertToInteractive('df-74155cd0-78c1-48a0-95d6-36d39a04350e')\"\n",
              "              title=\"Convert this dataframe to an interactive table.\"\n",
              "              style=\"display:none;\">\n",
              "\n",
              "  <svg xmlns=\"http://www.w3.org/2000/svg\" height=\"24px\"viewBox=\"0 0 24 24\"\n",
              "       width=\"24px\">\n",
              "    <path d=\"M0 0h24v24H0V0z\" fill=\"none\"/>\n",
              "    <path d=\"M18.56 5.44l.94 2.06.94-2.06 2.06-.94-2.06-.94-.94-2.06-.94 2.06-2.06.94zm-11 1L8.5 8.5l.94-2.06 2.06-.94-2.06-.94L8.5 2.5l-.94 2.06-2.06.94zm10 10l.94 2.06.94-2.06 2.06-.94-2.06-.94-.94-2.06-.94 2.06-2.06.94z\"/><path d=\"M17.41 7.96l-1.37-1.37c-.4-.4-.92-.59-1.43-.59-.52 0-1.04.2-1.43.59L10.3 9.45l-7.72 7.72c-.78.78-.78 2.05 0 2.83L4 21.41c.39.39.9.59 1.41.59.51 0 1.02-.2 1.41-.59l7.78-7.78 2.81-2.81c.8-.78.8-2.07 0-2.86zM5.41 20L4 18.59l7.72-7.72 1.47 1.35L5.41 20z\"/>\n",
              "  </svg>\n",
              "      </button>\n",
              "\n",
              "\n",
              "\n",
              "    <div id=\"df-14d3c42e-f135-4c9a-8ad2-4aeb570e9f52\">\n",
              "      <button class=\"colab-df-quickchart\" onclick=\"quickchart('df-14d3c42e-f135-4c9a-8ad2-4aeb570e9f52')\"\n",
              "              title=\"Suggest charts.\"\n",
              "              style=\"display:none;\">\n",
              "\n",
              "<svg xmlns=\"http://www.w3.org/2000/svg\" height=\"24px\"viewBox=\"0 0 24 24\"\n",
              "     width=\"24px\">\n",
              "    <g>\n",
              "        <path d=\"M19 3H5c-1.1 0-2 .9-2 2v14c0 1.1.9 2 2 2h14c1.1 0 2-.9 2-2V5c0-1.1-.9-2-2-2zM9 17H7v-7h2v7zm4 0h-2V7h2v10zm4 0h-2v-4h2v4z\"/>\n",
              "    </g>\n",
              "</svg>\n",
              "      </button>\n",
              "    </div>\n",
              "\n",
              "<style>\n",
              "  .colab-df-quickchart {\n",
              "    background-color: #E8F0FE;\n",
              "    border: none;\n",
              "    border-radius: 50%;\n",
              "    cursor: pointer;\n",
              "    display: none;\n",
              "    fill: #1967D2;\n",
              "    height: 32px;\n",
              "    padding: 0 0 0 0;\n",
              "    width: 32px;\n",
              "  }\n",
              "\n",
              "  .colab-df-quickchart:hover {\n",
              "    background-color: #E2EBFA;\n",
              "    box-shadow: 0px 1px 2px rgba(60, 64, 67, 0.3), 0px 1px 3px 1px rgba(60, 64, 67, 0.15);\n",
              "    fill: #174EA6;\n",
              "  }\n",
              "\n",
              "  [theme=dark] .colab-df-quickchart {\n",
              "    background-color: #3B4455;\n",
              "    fill: #D2E3FC;\n",
              "  }\n",
              "\n",
              "  [theme=dark] .colab-df-quickchart:hover {\n",
              "    background-color: #434B5C;\n",
              "    box-shadow: 0px 1px 3px 1px rgba(0, 0, 0, 0.15);\n",
              "    filter: drop-shadow(0px 1px 2px rgba(0, 0, 0, 0.3));\n",
              "    fill: #FFFFFF;\n",
              "  }\n",
              "</style>\n",
              "\n",
              "    <script>\n",
              "      async function quickchart(key) {\n",
              "        const containerElement = document.querySelector('#' + key);\n",
              "        const charts = await google.colab.kernel.invokeFunction(\n",
              "            'suggestCharts', [key], {});\n",
              "      }\n",
              "    </script>\n",
              "\n",
              "      <script>\n",
              "\n",
              "function displayQuickchartButton(domScope) {\n",
              "  let quickchartButtonEl =\n",
              "    domScope.querySelector('#df-14d3c42e-f135-4c9a-8ad2-4aeb570e9f52 button.colab-df-quickchart');\n",
              "  quickchartButtonEl.style.display =\n",
              "    google.colab.kernel.accessAllowed ? 'block' : 'none';\n",
              "}\n",
              "\n",
              "        displayQuickchartButton(document);\n",
              "      </script>\n",
              "      <style>\n",
              "    .colab-df-container {\n",
              "      display:flex;\n",
              "      flex-wrap:wrap;\n",
              "      gap: 12px;\n",
              "    }\n",
              "\n",
              "    .colab-df-convert {\n",
              "      background-color: #E8F0FE;\n",
              "      border: none;\n",
              "      border-radius: 50%;\n",
              "      cursor: pointer;\n",
              "      display: none;\n",
              "      fill: #1967D2;\n",
              "      height: 32px;\n",
              "      padding: 0 0 0 0;\n",
              "      width: 32px;\n",
              "    }\n",
              "\n",
              "    .colab-df-convert:hover {\n",
              "      background-color: #E2EBFA;\n",
              "      box-shadow: 0px 1px 2px rgba(60, 64, 67, 0.3), 0px 1px 3px 1px rgba(60, 64, 67, 0.15);\n",
              "      fill: #174EA6;\n",
              "    }\n",
              "\n",
              "    [theme=dark] .colab-df-convert {\n",
              "      background-color: #3B4455;\n",
              "      fill: #D2E3FC;\n",
              "    }\n",
              "\n",
              "    [theme=dark] .colab-df-convert:hover {\n",
              "      background-color: #434B5C;\n",
              "      box-shadow: 0px 1px 3px 1px rgba(0, 0, 0, 0.15);\n",
              "      filter: drop-shadow(0px 1px 2px rgba(0, 0, 0, 0.3));\n",
              "      fill: #FFFFFF;\n",
              "    }\n",
              "  </style>\n",
              "\n",
              "      <script>\n",
              "        const buttonEl =\n",
              "          document.querySelector('#df-74155cd0-78c1-48a0-95d6-36d39a04350e button.colab-df-convert');\n",
              "        buttonEl.style.display =\n",
              "          google.colab.kernel.accessAllowed ? 'block' : 'none';\n",
              "\n",
              "        async function convertToInteractive(key) {\n",
              "          const element = document.querySelector('#df-74155cd0-78c1-48a0-95d6-36d39a04350e');\n",
              "          const dataTable =\n",
              "            await google.colab.kernel.invokeFunction('convertToInteractive',\n",
              "                                                     [key], {});\n",
              "          if (!dataTable) return;\n",
              "\n",
              "          const docLinkHtml = 'Like what you see? Visit the ' +\n",
              "            '<a target=\"_blank\" href=https://colab.research.google.com/notebooks/data_table.ipynb>data table notebook</a>'\n",
              "            + ' to learn more about interactive tables.';\n",
              "          element.innerHTML = '';\n",
              "          dataTable['output_type'] = 'display_data';\n",
              "          await google.colab.output.renderOutput(dataTable, element);\n",
              "          const docLink = document.createElement('div');\n",
              "          docLink.innerHTML = docLinkHtml;\n",
              "          element.appendChild(docLink);\n",
              "        }\n",
              "      </script>\n",
              "    </div>\n",
              "  </div>\n"
            ]
          },
          "metadata": {},
          "execution_count": 17
        }
      ]
    },
    {
      "cell_type": "code",
      "source": [
        "ax = sns.countplot(x='Churn', data=dados_final)  # plotando a variável target balanceada."
      ],
      "metadata": {
        "colab": {
          "base_uri": "https://localhost:8080/",
          "height": 449
        },
        "id": "RyiqjFc2vNfL",
        "outputId": "47d5f803-93d5-490a-d272-a40867abe84a"
      },
      "execution_count": null,
      "outputs": [
        {
          "output_type": "display_data",
          "data": {
            "text/plain": [
              "<Figure size 640x480 with 1 Axes>"
            ],
            "image/png": "[encoded data removed]"
          },
          "metadata": {}
        }
      ]
    },
    {
      "cell_type": "markdown",
      "source": [
        "***KNN***\n",
        "\n",
        "1.Receber as informações\n",
        "\n",
        "2.Calcular as distâncias\n",
        "\n",
        "3.ordenar da menor distância para a maior\n",
        "\n",
        "4.Fazer uma contagen das classes\n",
        "\n",
        "5.Classificar a partir dos K-vizinhos\n",
        "\n",
        "6.Definir o churn"
      ],
      "metadata": {
        "id": "OZ8974KMv8ra"
      }
    },
    {
      "cell_type": "markdown",
      "source": [
        "**Dados de treino**\n",
        "\n",
        "Os dados de treino são aqueles utilizados para a criação e treinamento do modelo.\n",
        "\n",
        "Normalmente a maioria dos dados, cerca de 70%, são utilizados para treinamento.\n",
        "\n",
        "\n",
        "**Dados de teste**\n",
        "\n",
        "Os dados de teste são utilizados para comprovar que o modelo realmente funciona.\n",
        "\n",
        "Eles não são utilizados no treinamento do modelo e normalmente representam 30% da totalidade dos dados.\n",
        "\n",
        "Além disso, no momento de realizar a separação desses dados é importante que ela seja feita de forma aleatória,\n",
        "\n",
        "para garantirmos que não haverá nenhum padrão no momento de divisão dos dados.\n",
        "\n",
        "Assim, cada amostra terá a mesma probabilidade de ser selecionada.\n",
        "\n"
      ],
      "metadata": {
        "id": "Ga4Pn2Mry7TZ"
      }
    },
    {
      "cell_type": "markdown",
      "source": [
        "#Classificação é interferida pelo valor de K\n",
        "\n",
        "K muito pequeno -> Overfitting\n",
        "\n",
        "K muito grande -> Underfitting\n",
        "\n",
        "\n",
        "\n"
      ],
      "metadata": {
        "id": "zNr5xTmH19ba"
      }
    },
    {
      "cell_type": "code",
      "source": [
        "#Divisão em inputs e outputs\n",
        "X = dados_final.drop('Churn', axis =1)\n",
        "y = dados_final['Churn']"
      ],
      "metadata": {
        "id": "AlHFyjKzwdY4"
      },
      "execution_count": null,
      "outputs": []
    },
    {
      "cell_type": "code",
      "source": [
        "#biblioteca para padronizar os dados\n",
        "from sklearn.preprocessing import StandardScaler"
      ],
      "metadata": {
        "id": "EHKO0PE225vZ"
      },
      "execution_count": null,
      "outputs": []
    },
    {
      "cell_type": "code",
      "source": [
        "norm = StandardScaler()\n",
        "\n",
        "X_normalizado = norm.fit_transform(X)\n",
        "X_normalizado"
      ],
      "metadata": {
        "colab": {
          "base_uri": "https://localhost:8080/"
        },
        "id": "HmmwSJ5D3Ebh",
        "outputId": "34c7de1f-8c5e-4f87-8e7e-8c2e828d1cd9"
      },
      "execution_count": null,
      "outputs": [
        {
          "output_type": "execute_result",
          "data": {
            "text/plain": [
              "array([[ 1.26542767, -0.52771004, -3.06083934, ...,  1.30373042,\n",
              "        -0.47912706, -0.4360152 ],\n",
              "       [-0.79024667, -0.52771004,  0.32670777, ..., -0.76702973,\n",
              "         2.08712905, -0.4360152 ],\n",
              "       [-0.79024667, -0.52771004,  0.32670777, ..., -0.76702973,\n",
              "         2.08712905, -0.4360152 ],\n",
              "       ...,\n",
              "       [-0.79024667, -0.52771004,  0.32670777, ...,  1.30373042,\n",
              "        -0.47912706, -0.4360152 ],\n",
              "       [-0.79024667, -0.52771004,  0.32670777, ..., -0.76702973,\n",
              "        -0.47912706, -0.4360152 ],\n",
              "       [-0.79024667, -0.52771004,  0.32670777, ..., -0.76702973,\n",
              "        -0.47912706, -0.4360152 ]])"
            ]
          },
          "metadata": {},
          "execution_count": 21
        }
      ]
    },
    {
      "cell_type": "code",
      "source": [
        "X_normalizado[0]"
      ],
      "metadata": {
        "colab": {
          "base_uri": "https://localhost:8080/"
        },
        "id": "b3aqPxxc3T_j",
        "outputId": "65707f0b-5e9e-4469-c3ad-c064df1b00b3"
      },
      "execution_count": null,
      "outputs": [
        {
          "output_type": "execute_result",
          "data": {
            "text/plain": [
              "array([ 1.26542767, -0.52771004, -3.06083934,  0.81482091, -0.41318358,\n",
              "       -1.10771815, -1.3217706 , -0.88447396,  3.18604176, -0.83366906,\n",
              "        1.51268338, -1.04386816, -0.44617598,  0.86827317, -0.44617598,\n",
              "       -0.51721942, -0.95834643, -0.44617598,  1.57389661,  1.04285807,\n",
              "       -0.44617598, -0.64211419,  0.87979784, -0.44617598, -0.52426638,\n",
              "        1.18690873, -0.44617598, -0.77707385,  1.20311799, -0.44617598,\n",
              "       -0.78976268, -0.44648735,  0.73788726, -0.41989297, -0.42576817,\n",
              "        1.30373042, -0.47912706, -0.4360152 ])"
            ]
          },
          "metadata": {},
          "execution_count": 22
        }
      ]
    },
    {
      "cell_type": "code",
      "source": [
        "Xmaria_normalizado = norm.transform(pd.DataFrame(Xmaria, columns = X.columns))\n",
        "Xmaria_normalizado"
      ],
      "metadata": {
        "colab": {
          "base_uri": "https://localhost:8080/"
        },
        "id": "4mOliiO84AQh",
        "outputId": "4c049acd-bfb1-4218-ccb5-c7ec9e91fac4"
      },
      "execution_count": null,
      "outputs": [
        {
          "output_type": "execute_result",
          "data": {
            "text/plain": [
              "array([[-0.79024667, -0.52771004,  0.32670777,  0.81482091, -0.41318358,\n",
              "        -1.14938255, -0.97236043,  1.13061554, -0.31386908, -0.83366906,\n",
              "        -0.66107688,  0.95797538, -0.44617598,  0.86827317, -0.44617598,\n",
              "        -0.51721942, -0.95834643, -0.44617598,  1.57389661,  1.04285807,\n",
              "         2.24126814, -0.64211419, -1.13662476,  2.24126814, -0.52426638,\n",
              "         1.18690873, -0.44617598, -0.77707385, -0.83117367, -0.44617598,\n",
              "         1.26620316, -0.44648735, -1.35522058,  2.38155929, -0.42576817,\n",
              "        -0.76702973, -0.47912706,  2.293498  ]])"
            ]
          },
          "metadata": {},
          "execution_count": 23
        }
      ]
    },
    {
      "cell_type": "markdown",
      "source": [
        "Distância Euclidiana:\n",
        "\n",
        "![image.png](data:image/png;base64,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)"
      ],
      "metadata": {
        "id": "pxkpfcIM4Zea"
      }
    },
    {
      "cell_type": "code",
      "source": [
        "import numpy as np"
      ],
      "metadata": {
        "id": "-l2WNCbB4sjM"
      },
      "execution_count": null,
      "outputs": []
    },
    {
      "cell_type": "code",
      "source": [
        "a = Xmaria_normalizado"
      ],
      "metadata": {
        "id": "v4CijvrC41Dz"
      },
      "execution_count": null,
      "outputs": []
    },
    {
      "cell_type": "code",
      "source": [
        "b = X_normalizado[0]"
      ],
      "metadata": {
        "id": "mkLw8DkE453K"
      },
      "execution_count": null,
      "outputs": []
    },
    {
      "cell_type": "code",
      "source": [
        "#1 - começamos subtraindo\n",
        "a - b"
      ],
      "metadata": {
        "colab": {
          "base_uri": "https://localhost:8080/"
        },
        "id": "v8g6Ftcb5Crt",
        "outputId": "32d734b0-b012-4493-af11-a16c97d7b91c"
      },
      "execution_count": null,
      "outputs": [
        {
          "output_type": "execute_result",
          "data": {
            "text/plain": [
              "array([[-2.05567434,  0.        ,  3.38754711,  0.        ,  0.        ,\n",
              "        -0.0416644 ,  0.34941017,  2.0150895 , -3.49991084,  0.        ,\n",
              "        -2.17376025,  2.00184354,  0.        ,  0.        ,  0.        ,\n",
              "         0.        ,  0.        ,  0.        ,  0.        ,  0.        ,\n",
              "         2.68744412,  0.        , -2.01642259,  2.68744412,  0.        ,\n",
              "         0.        ,  0.        ,  0.        , -2.03429166,  0.        ,\n",
              "         2.05596584,  0.        , -2.09310784,  2.80145225,  0.        ,\n",
              "        -2.07076016,  0.        ,  2.72951321]])"
            ]
          },
          "metadata": {},
          "execution_count": 27
        }
      ]
    },
    {
      "cell_type": "code",
      "source": [
        "#2 - depois realizamos a exponenciação\n",
        "np.square(a - b)"
      ],
      "metadata": {
        "colab": {
          "base_uri": "https://localhost:8080/"
        },
        "id": "BSWcJAJT5Cl5",
        "outputId": "60452bd1-6d6e-4d8a-8ba0-4001d5ab9397"
      },
      "execution_count": null,
      "outputs": [
        {
          "output_type": "execute_result",
          "data": {
            "text/plain": [
              "array([[4.22579699e+00, 0.00000000e+00, 1.14754754e+01, 0.00000000e+00,\n",
              "        0.00000000e+00, 1.73592202e-03, 1.22087466e-01, 4.06058568e+00,\n",
              "        1.22493759e+01, 0.00000000e+00, 4.72523363e+00, 4.00737757e+00,\n",
              "        0.00000000e+00, 0.00000000e+00, 0.00000000e+00, 0.00000000e+00,\n",
              "        0.00000000e+00, 0.00000000e+00, 0.00000000e+00, 0.00000000e+00,\n",
              "        7.22235589e+00, 0.00000000e+00, 4.06596007e+00, 7.22235589e+00,\n",
              "        0.00000000e+00, 0.00000000e+00, 0.00000000e+00, 0.00000000e+00,\n",
              "        4.13834258e+00, 0.00000000e+00, 4.22699553e+00, 0.00000000e+00,\n",
              "        4.38110042e+00, 7.84813473e+00, 0.00000000e+00, 4.28804763e+00,\n",
              "        0.00000000e+00, 7.45024235e+00]])"
            ]
          },
          "metadata": {},
          "execution_count": 28
        }
      ]
    },
    {
      "cell_type": "code",
      "source": [
        "#3 - a soma\n",
        "np.sum(np.square(a-b))"
      ],
      "metadata": {
        "colab": {
          "base_uri": "https://localhost:8080/"
        },
        "id": "3YeoFB_R5Cc0",
        "outputId": "03ffd428-255f-439d-e35b-de79e908c889"
      },
      "execution_count": null,
      "outputs": [
        {
          "output_type": "execute_result",
          "data": {
            "text/plain": [
              "91.7112036526817"
            ]
          },
          "metadata": {},
          "execution_count": 29
        }
      ]
    },
    {
      "cell_type": "code",
      "source": [
        "#4 - então tiramos a raiz e temos nossa distância\n",
        "np.sqrt(91.7112036526817)"
      ],
      "metadata": {
        "colab": {
          "base_uri": "https://localhost:8080/"
        },
        "id": "Wkb0-JKQ51Qi",
        "outputId": "1f243bef-a613-4c0b-80d3-6babc821d663"
      },
      "execution_count": null,
      "outputs": [
        {
          "output_type": "execute_result",
          "data": {
            "text/plain": [
              "9.576596663360199"
            ]
          },
          "metadata": {},
          "execution_count": 30
        }
      ]
    },
    {
      "cell_type": "markdown",
      "source": [
        "**Distância Euclidiana**\n",
        "\n",
        "A medida de distância mais conhecida e mais utilizada é a **distância euclidiana**.\n",
        "\n",
        "Ela consiste em subtrair as coordenadas de uma observação pela outra observação, elevar ao quadrado os resultados, somar todos os valores e extrair a raiz quadrada.\n",
        "\n",
        "![image.png](data:image/png;base64,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)\n",
        "\n",
        "**Distância de Manhattan**\n",
        "Uma distância que considera apenas a soma dos módulos das diferenças entre cada par de coordenadas.\n",
        "\n",
        "![image.png](data:image/png;base64,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)\n",
        "\n",
        "**Distância de Minkowski**\n",
        "Uma medida de distância que é a generalização de outras distâncias, como a distância euclidiana e a de Manhattan. Consiste em extrair o módulo da diferença entre cada par de coordenadas elevando o resultado a m, realizar a soma de todos os termos e, por fim, tirar a raiz m-ésima, em que m é um número qualquer. A distância euclidiana é um caso à parte quando m é igual a 2 e a distância de Manhattan é um caso à parte quando m é igual a 1.\n",
        "\n",
        "![image.png](data:image/png;base64,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)\n",
        "\n",
        "**Distância de Chebyshev**\n",
        "É uma medida de distância que considera apenas o valor máximo entre os módulos das diferenças entre as variáveis. Dessa forma, leva em consideração apenas a variável que possui a maior diferença de valores entre as duas observações.\n",
        "\n",
        "![image.png](data:image/png;base64,iVBORw0KGgoAAAANSUhEUgAAAXkAAABYCAIAAACf5hBNAAAL90lEQVR4Ae2dsZGkOhCGlQIxKAVyIISJAe/scdYmA7wzMc8a+wwC2EmA2gTIgVdv/3p9XUIISTCamXf/GldaRkitr1u/WoLZMwt/SIAESODxBMzju2APJEACJLBQaxgEJEACJQhQa0pQZh8kQALUGsYACZBACQLUmhKU2QcJkAC1hjFAAiRQggC1pgRl9kECJECtYQyQAAmUIECtKUGZfZAACVBrGAMkQAIlCFBrSlBmHyRAAtQaxgAJkEAJAtSaEpTZBwmQALWGMUACJFCCALWmBGX2QQIkQK1hDJAACZQgQK0pQZl9kAAJUGsYAyRAAiUIUGtKUGYfJEAC1BrGAAmQQAkC1JoSlNkHCZAAtYYxQAIkUIIAtaYEZfZBAiRArWEMkAAJlCBArSlBmX2QAAlQaxgDJEACJQhQa0pQZh8kQALUGsYACZBACQLUmhKU2QcJkAC1hjFAAiRQggC1pgTlZVk+Pz8/Pj5+//5dqL8X6+br6+tvHv6LeeM55pyjNV3Xmf9+xnF8zlCO9dr3PUZwrJl/7x6GoWmaqqqM+YP358+fxpiPj4/j7b9jC79+/TLG/Pjx43WMH8fRGNM0zeuY9ERLnOAHHGvt5XI5a0b/mQwHxzkMA8yd5/lgU+Vvn+cZ0tC27ZHe53mu69oY03XdNE26qS2tmabJWvufUP8JfThbrg/DoFsrWQYZWOLMTDEPQw5Y9UZa8/oeAefL5aL5a/hN08hHjst0NV1GfX1lWZb7/Y6mDs4LNHua1ogQOua+xa9w23GgyO+6rluPektrlmWZpgmebppGK/X1esX1vu/XDRa7cr/fITfWWm3esiy32w0W7qJ7I615fY/A9bKwGWPu97uOh3me4Ze6rh2X6Wq6jPr6ipSxFh7Pbk7TGoTdbszJAF6nAJU8xXJ4xXE8RhrQmmVZ2rY1xlyvV40FWvNcoYE9MG+9QsY7/b205vU9Ar/IZkKHzbIs0Jp4oVmWJaA1WEGPT5DTtAYGvcLEcLjv/nq/349zRC8Bh4W1BpO2rmux9n6/G2POMkyazSvAPGutc3v9/ROzcr6d1ry4R+AIyV+cDfv1eq2qyrvmOR6UXwOhi8V4vdLIvZGF07QG+7qk4UWa+EbVAg4La82yLNinIGhwfqSl5+kQtHkwpuu6qqqcKN+y8+205vU9AtTY/uvjPEjD7Xbb8oX3eiB0IbtP0xrkArKNl+dQ3mE86OI4jgBdVRXITtPUti2sulwuWG9vtxvOa6212iVINYdhuFwuuMUYI3eJzeM4QkattVpJscFx5AAO09WknV2twT4FiWFd1+vDEWnqKQUnppF2xQf0O2rNi3sEYYDnp5L/zvNsrXU24zEBE9CaZ+6hsEus6xrHRXJ2GKN8okoYW/hf7yErwI3jWNf1NE0iujgzn6YJuI0xfd+33z/zPEPsq6oS7rfbDRKDUUzTBE25XC5SZ57npmmkF/lITm2dIaMFR9HQ2q7WYPbWdZ2RAIvBjyvA6YhpEA54Z23GO2rNi3sEkPFgQba3l8vFicm1L7xXAlqDZeb48UjyHgoOcFZdzLEYNT1La4QXRKSua/0QB/ZUVSV6vz79giXaZgxNvxQjvSCjhlShx2EYuu8fXQdteifhrtYsyyIPv4+f+WurTikjpkHger2mBvQ7as2Le0TcKk8ksHzGHJ/JvVIIaA1m0/GYTNYa7EecpRvWxGfUMsLjBeQ1zmM/2CNir59iSo/jOK7fggkQh7ojiXOGL20i3/F+GqM16EKyJ2n2RQry6lBVVakB/aZa8+IeQWAg6pAOZyvCbuRntyzRm6Y1mNh6DqMhKGvkMaH0fUoBoHX+IsuRnvOw3DleWRsA4l6syFmstU5f0ghWla0udrVGnl/qjZ40nlE4PYWUnaP3QCps4TtqzekeASLkxYi03X9j8kdZbo9scwJag/UVRxZhL4c/TdMa72sgePB21gwJm7v+dJ1See0R7XdauN/vXdc1TSP7F2OMV2sQImudRYMwIxAZYa3B9q3veyykWiUdg+N/PV1r0GBe2vV2WvMIj8B3p2sNGjw4AQNag20BJoj3fCAyJtO0Blm0s1eC/OeFYKSVgWpgpFN6yLwz7deWz/OMid227TiOaAGtebUGM81pVhs2DINzQqQ/DWgNnnAjXdqFOQyDtdZroe7uEWXo6dbiiYeAW3zeS2uSPPII1EltHlkDpKOA1kzTVFVVXdcZ+ay0/++Bqf5lt+ydigjBSME7d7H15hroQtsjrzxpSdJPNGXg3gHiZXzg3jo5RgvInrxZyZbW4E1zecXTayoal6fvW5mXjOJBBf3YTncxzzPetQl8lfGNtCbeIxrCE8tYMnXAZxgT0BrMFCfDyOki6Z71VJSEMHKlPVdrnJcLMJb1rgpGOicpGItWH/lekjMW7FfHcQR051MNcC1z8umW1uCFIL1iIHSc9AEbvXEcIWcBG6THcwtbD+nk+Tfo/Q/ymkiPTNMETyGjx0sYAbU91x26ta01oO97a21VVUjbcXgsL6PpFtZPafWnmFDHQy4tr8FORHpFnIH4Uw6GvdMS6LU9kCRnlwet0WqN1iRrQPRAaPBoHO04KrD2ireCV2ugTU59XHSUUTQRn4oLdO8PLWPsXikR2wIzzZvXrFcFPYT1MhZzRbcQ074zoniPYE8B6b/dbm3bzvNcfiXYWgOGYYBJ+Ap+0zRQnC0fBfIaYPRm65r2bjlNa+AJEfKmaeRb59M0IcmXyNvt+3gFnFfpiQf0zjmZHIIg20e2iSSlqqrr9dp1Hd4q1tGJ2WWMkWmv35vq+16/m4OxrO2RMa61Rh5zSB0UAFkkz/upHrJT4RG/yp9ZcN6rcvraiuNlWQJas5X8xyjLuo42Cd4Mt6+1JsMjEBeJhMIrgZw5Ou98CARsyfUr71s+CmgNBiVjlMZTC2laI99/xSEoZEXm5Il/VidmGHK0oSsjXHQA4bsICDtrbdd1MHueZ8gNvpqA2YtqVVXhVT04RqsnYgsKpa/DhvW+TGxztEYExfmCZd/3yMuMMd6vzxWOZvnSMIYWiEjk4Q55GX5Aa3RqKfWXZVnrSMwV3YJeOfR1lNGaGJznEfxRNIkERJT8uu703CvYZ4hr1isQxihqi8XSqxoBzwZS2qThJGtNUut/W+WAwxytySZTXmviTd1aM7fyGujp42ZmuH1Ha+KHqWtioZIr1lrJguXiEwuIFjkNxErsFfdA6J4CKvk51BOpvUXXAYdRa5y/AYoMTqbB6f7dbf/4FPJmDVuvep4+wJgGkdlJTaRd+ihTPgqErnevIDfGF5jXxLPar+mcnesbqDWO1hx/X0PjXZd32z+uNU6OiTl5/Ax1PZbsK06mab9/vK0FtAbnBrIR894ec5FaE0Mptg52ts4DL9x8itbIl9GPOz52SNH1MNOstd5l03teE932Qyoe1xo8uBTjRHrwDEiuP6uA5yQ6VOT8cf2Fgy2tkb+a4HVr0tCoNUm49isjTW3bdu2bz8/Pr6+v/SZ8NTAxEBDyr5xr+u4odw2JuliFwvqc8vP7p5xZez0d1xq83in94Gnd1nMDqVasgJVPn85ADeWvwWhL4DV9Ba+wIlU/JVmj1jh4T/jV+3+2nNAumyCBUgQgxPim8XrZyLOCWpPHjXeRAAmkEaDWpPFibRIggTwC1Jo8bryLBEggjQC1Jo0Xa5MACeQRoNbkceNdJEACaQSoNWm8WJsESCCPALUmjxvvIgESSCNArUnjxdokQAJ5BKg1edx4FwmQQBoBak0aL9YmARLII0CtyePGu0iABNIIUGvSeLE2CZBAHgFqTR433kUCJJBGgFqTxou1SYAE8ghQa/K48S4SIIE0AtSaNF6sTQIkkEeAWpPHjXeRAAmkEaDWpPFibRIggTwC1Jo8bryLBEggjQC1Jo0Xa5MACeQRoNbkceNdJEACaQSoNWm8WJsESCCPALUmjxvvIgESSCNArUnjxdokQAJ5BKg1edx4FwmQQBoBak0aL9YmARLII0CtyePGu0iABNIIUGvSeLE2CZBAHgFqTR433kUCJJBGgFqTxou1SYAE8ghQa/K48S4SIIE0AtSaNF6sTQIkkEfgH2a+Tn3KApLSAAAAAElFTkSuQmCC)"
      ],
      "metadata": {
        "id": "RahVsH5x6hxn"
      }
    },
    {
      "cell_type": "markdown",
      "source": [
        "# **Implementando o modelo**"
      ],
      "metadata": {
        "id": "GnKMiRPL90Xo"
      }
    },
    {
      "cell_type": "code",
      "source": [
        "#biblioteca para divisão dos dados\n",
        "from sklearn.model_selection import train_test_split"
      ],
      "metadata": {
        "id": "uc6NuWYw6FSb"
      },
      "execution_count": null,
      "outputs": []
    },
    {
      "cell_type": "code",
      "source": [
        "x_treino, x_teste, y_treino, y_teste = train_test_split(X_normalizado, y, test_size=0.3, random_state=123)"
      ],
      "metadata": {
        "id": "fZ8yYtMB-JZF"
      },
      "execution_count": null,
      "outputs": []
    },
    {
      "cell_type": "markdown",
      "source": [
        "# Treino Teste"
      ],
      "metadata": {
        "id": "Eac6q1aX-dXa"
      }
    },
    {
      "cell_type": "code",
      "source": [
        "#biblioteca para criarmos o modelo de machine learning\n",
        "from sklearn.neighbors import KNeighborsClassifier"
      ],
      "metadata": {
        "id": "nnAEdfjt-cDT"
      },
      "execution_count": null,
      "outputs": []
    },
    {
      "cell_type": "code",
      "source": [
        "#Instaciar o modelo (criamos o modelo) - por padrão são 5 vizinhos\n",
        "Knn = KNeighborsClassifier(metric='euclidean')"
      ],
      "metadata": {
        "id": "zaF8I9to-s_4"
      },
      "execution_count": null,
      "outputs": []
    },
    {
      "cell_type": "code",
      "source": [
        "#treinando o modelo com os dados de treino\n",
        "Knn.fit(x_treino, y_treino)"
      ],
      "metadata": {
        "colab": {
          "base_uri": "https://localhost:8080/",
          "height": 74
        },
        "id": "8ETeILQ3-6DU",
        "outputId": "7b6431fa-abff-4789-d644-62d415e9799c"
      },
      "execution_count": null,
      "outputs": [
        {
          "output_type": "execute_result",
          "data": {
            "text/plain": [
              "KNeighborsClassifier(metric='euclidean')"
            ],
            "text/html": [
              "<style>#sk-container-id-1 {color: black;background-color: white;}#sk-container-id-1 pre{padding: 0;}#sk-container-id-1 div.sk-toggleable {background-color: white;}#sk-container-id-1 label.sk-toggleable__label {cursor: pointer;display: block;width: 100%;margin-bottom: 0;padding: 0.3em;box-sizing: border-box;text-align: center;}#sk-container-id-1 label.sk-toggleable__label-arrow:before {content: \"▸\";float: left;margin-right: 0.25em;color: #696969;}#sk-container-id-1 label.sk-toggleable__label-arrow:hover:before {color: black;}#sk-container-id-1 div.sk-estimator:hover label.sk-toggleable__label-arrow:before {color: black;}#sk-container-id-1 div.sk-toggleable__content {max-height: 0;max-width: 0;overflow: hidden;text-align: left;background-color: #f0f8ff;}#sk-container-id-1 div.sk-toggleable__content pre {margin: 0.2em;color: black;border-radius: 0.25em;background-color: #f0f8ff;}#sk-container-id-1 input.sk-toggleable__control:checked~div.sk-toggleable__content {max-height: 200px;max-width: 100%;overflow: auto;}#sk-container-id-1 input.sk-toggleable__control:checked~label.sk-toggleable__label-arrow:before {content: \"▾\";}#sk-container-id-1 div.sk-estimator input.sk-toggleable__control:checked~label.sk-toggleable__label {background-color: #d4ebff;}#sk-container-id-1 div.sk-label input.sk-toggleable__control:checked~label.sk-toggleable__label {background-color: #d4ebff;}#sk-container-id-1 input.sk-hidden--visually {border: 0;clip: rect(1px 1px 1px 1px);clip: rect(1px, 1px, 1px, 1px);height: 1px;margin: -1px;overflow: hidden;padding: 0;position: absolute;width: 1px;}#sk-container-id-1 div.sk-estimator {font-family: monospace;background-color: #f0f8ff;border: 1px dotted black;border-radius: 0.25em;box-sizing: border-box;margin-bottom: 0.5em;}#sk-container-id-1 div.sk-estimator:hover {background-color: #d4ebff;}#sk-container-id-1 div.sk-parallel-item::after {content: \"\";width: 100%;border-bottom: 1px solid gray;flex-grow: 1;}#sk-container-id-1 div.sk-label:hover label.sk-toggleable__label {background-color: #d4ebff;}#sk-container-id-1 div.sk-serial::before {content: \"\";position: absolute;border-left: 1px solid gray;box-sizing: border-box;top: 0;bottom: 0;left: 50%;z-index: 0;}#sk-container-id-1 div.sk-serial {display: flex;flex-direction: column;align-items: center;background-color: white;padding-right: 0.2em;padding-left: 0.2em;position: relative;}#sk-container-id-1 div.sk-item {position: relative;z-index: 1;}#sk-container-id-1 div.sk-parallel {display: flex;align-items: stretch;justify-content: center;background-color: white;position: relative;}#sk-container-id-1 div.sk-item::before, #sk-container-id-1 div.sk-parallel-item::before {content: \"\";position: absolute;border-left: 1px solid gray;box-sizing: border-box;top: 0;bottom: 0;left: 50%;z-index: -1;}#sk-container-id-1 div.sk-parallel-item {display: flex;flex-direction: column;z-index: 1;position: relative;background-color: white;}#sk-container-id-1 div.sk-parallel-item:first-child::after {align-self: flex-end;width: 50%;}#sk-container-id-1 div.sk-parallel-item:last-child::after {align-self: flex-start;width: 50%;}#sk-container-id-1 div.sk-parallel-item:only-child::after {width: 0;}#sk-container-id-1 div.sk-dashed-wrapped {border: 1px dashed gray;margin: 0 0.4em 0.5em 0.4em;box-sizing: border-box;padding-bottom: 0.4em;background-color: white;}#sk-container-id-1 div.sk-label label {font-family: monospace;font-weight: bold;display: inline-block;line-height: 1.2em;}#sk-container-id-1 div.sk-label-container {text-align: center;}#sk-container-id-1 div.sk-container {/* jupyter's `normalize.less` sets `[hidden] { display: none; }` but bootstrap.min.css set `[hidden] { display: none !important; }` so we also need the `!important` here to be able to override the default hidden behavior on the sphinx rendered scikit-learn.org. See: https://github.com/scikit-learn/scikit-learn/issues/21755 */display: inline-block !important;position: relative;}#sk-container-id-1 div.sk-text-repr-fallback {display: none;}</style><div id=\"sk-container-id-1\" class=\"sk-top-container\"><div class=\"sk-text-repr-fallback\"><pre>KNeighborsClassifier(metric=&#x27;euclidean&#x27;)</pre><b>In a Jupyter environment, please rerun this cell to show the HTML representation or trust the notebook. <br />On GitHub, the HTML representation is unable to render, please try loading this page with nbviewer.org.</b></div><div class=\"sk-container\" hidden><div class=\"sk-item\"><div class=\"sk-estimator sk-toggleable\"><input class=\"sk-toggleable__control sk-hidden--visually\" id=\"sk-estimator-id-1\" type=\"checkbox\" checked><label for=\"sk-estimator-id-1\" class=\"sk-toggleable__label sk-toggleable__label-arrow\">KNeighborsClassifier</label><div class=\"sk-toggleable__content\"><pre>KNeighborsClassifier(metric=&#x27;euclidean&#x27;)</pre></div></div></div></div></div>"
            ]
          },
          "metadata": {},
          "execution_count": 35
        }
      ]
    },
    {
      "cell_type": "code",
      "source": [
        "#treinando o modelo com os dados de teste\n",
        "predito_Knn = Knn.predict(x_teste)"
      ],
      "metadata": {
        "id": "g2B3XOP__Kq7"
      },
      "execution_count": null,
      "outputs": []
    },
    {
      "cell_type": "code",
      "source": [
        "predito_Knn"
      ],
      "metadata": {
        "colab": {
          "base_uri": "https://localhost:8080/"
        },
        "id": "zF13CIpRASJz",
        "outputId": "28cbba07-a136-4781-8ca0-21676318ece2"
      },
      "execution_count": null,
      "outputs": [
        {
          "output_type": "execute_result",
          "data": {
            "text/plain": [
              "array([1, 0, 0, ..., 0, 1, 1])"
            ]
          },
          "metadata": {},
          "execution_count": 37
        }
      ]
    },
    {
      "cell_type": "code",
      "source": [
        "#Calcule a distância da Maria com os(as) 10 primeiros(as) clientes da nossa base de dados normalizada utilizando a métrica euclidiana.\n",
        "import numpy as np"
      ],
      "metadata": {
        "id": "zKRFGqexArWV"
      },
      "execution_count": null,
      "outputs": []
    },
    {
      "cell_type": "code",
      "source": [
        "#podemos construir uma função para calcular todas as distâncias de uma vez.\n",
        "\n",
        "def calcula_distancia(dados_clientes, dados_maria, numero_clientes):\n",
        "    distancias = []\n",
        "\n",
        "#loop para percorrer cliente por cliente\n",
        "    for i in range(numero_clientes):\n",
        "        dist1 = dados_maria - dados_clientes[i]            #subtração dos atributos\n",
        "        soma_quadrado = np.sum(np.square(dist1))    #exponenciação e soma de todos os atributos\n",
        "        distancias.append(np.sqrt(soma_quadrado))   #raiz quadrada da soma anterior\n",
        "\n",
        "    return distancias"
      ],
      "metadata": {
        "id": "WkRXbiuFA-pb"
      },
      "execution_count": null,
      "outputs": []
    },
    {
      "cell_type": "code",
      "source": [
        "#rodamos a função\n",
        "calcula_distancia(X_normalizado, Xmaria_normalizado, 10)"
      ],
      "metadata": {
        "colab": {
          "base_uri": "https://localhost:8080/"
        },
        "id": "YJgZZIbrBADG",
        "outputId": "a19b782c-89a8-4987-bded-29f1ed62c5fd"
      },
      "execution_count": null,
      "outputs": [
        {
          "output_type": "execute_result",
          "data": {
            "text/plain": [
              "[9.576596663360199,\n",
              " 9.164687977147782,\n",
              " 8.497169420877166,\n",
              " 10.037544220142902,\n",
              " 7.8028994013625566,\n",
              " 9.01167938964265,\n",
              " 8.970041771751976,\n",
              " 10.634917481179656,\n",
              " 9.45035230511453,\n",
              " 7.919985943117673]"
            ]
          },
          "metadata": {},
          "execution_count": 40
        }
      ]
    },
    {
      "cell_type": "markdown",
      "source": [
        "O teorema de Bayes é uma fórmula utilizada para calcular a probabilidade de um evento ocorrer sabendo que um outro evento, chamado de condicionante, já ocorreu, denominado probabilidade condicional. Sua notação é dada por P(A|B), que significa a probabilidade de A dado que B já aconteceu e é definido pela seguinte equação:\n",
        "\n",
        "![image.png](data:image/png;base64,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)\n",
        "\n",
        "\n",
        "Onde:\n",
        "\n",
        "P(B|A): probabilidade de B acontecer dado que A já aconteceu;\n",
        "P(A): probabilidade de A acontecer;\n",
        "P(B): probabilidade de B acontecer.\n",
        "Falando dessa forma, pode ficar complicado de visualizar na prática o que isso realmente significa. Como o teorema de Bayes envolve probabilidade, pode ser aplicado a inúmeros contextos. Vamos utilizar aqui um exemplo envolvendo a área da saúde, mas o teorema poderia ser utilizado em outras áreas. Considere o exemplo:\n",
        "\n",
        "\n",
        "Covid-19 (5%)\tSem Covid-19 (95%)\n",
        "Teste positivo\t85%\t10%\n",
        "Teste Negativo\t15%\t90%\n",
        "\n",
        "\n",
        "\n",
        "Primeiramente, vamos entender o que está na tabela. Sabemos, através de pesquisas realizadas anteriormente, que há uma probabilidade de 5% de ter Covid-19. Consequentemente, há uma probabilidade 95% de não ter. Quem tem a doença está na coluna “Covid-19 (5%)” e possui uma probabilidade de 85% de testar positivo e 15% de negativo. Já quem não tem está na coluna “Sem Covid-19 (95%)” e possui uma probabilidade de 10% de testar positivo e 90% de negativo.\n",
        "\n",
        "De posse dessas informações, vamos responder à pergunta: quais as chances de ter Covid-19 dado que o teste deu positivo?\n",
        "\n",
        "Evento A: ter Covid-19\n",
        "Evento B: positivo no teste (evento condicionante)\n",
        "Utilizando a fórmula apresentada anteriormente, precisamos definir algumas probabilidades, como:\n",
        "\n",
        "P(B|A): probabilidade do teste ser positivo dado que a pessoa tem Covid-19, que é de 85% ou 0.85, de acordo com a tabela.\n",
        "P(A): probabilidade de ter covid-19. Observando a tabela, temos que é de 5%, ou 0.05.\n",
        "P(B): a probabilidade do teste ser positivo.\n",
        "A P(B) não conseguimos encontrar diretamente na tabela, pois a probabilidade do teste ser positivo pode acontecer quando a pessoa testada possui a doença ou não (chamado também de complementar). Logo, a probabilidade P(B) pode ser calculada como:\n",
        "\n",
        "\n",
        "![image.png](data:image/png;base64,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)\n",
        "\n",
        "P(B|AC): probabilidade do teste ser positivo dado que a pessoa não possui Covid-19, que é 10% ou 0.1\n",
        "P(AC): probabilidade da pessoa não ter Covid-19, que é 95% ou 0.95.\n",
        "Novamente, as informações acima foram retiradas diretamente da tabela. Pronto, agora temos todas as informações que precisamos. Colocando na equação temos que:\n",
        "\n",
        "![image.png](data:image/png;base64,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)\n",
        "\n",
        "Jogando esses valores na primeira equação, temos que:\n",
        "\n",
        "![image.png](data:image/png;base64,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)\n",
        "\n",
        "Logo, as chances de ter Covid-19, dado que o teste deu positivo, são de 31%."
      ],
      "metadata": {
        "id": "dF9cI3NaFRvX"
      }
    },
    {
      "cell_type": "markdown",
      "source": [
        "# Treinamento e teste"
      ],
      "metadata": {
        "id": "GqRP23YZF7Vs"
      }
    },
    {
      "cell_type": "code",
      "source": [
        "x_treino"
      ],
      "metadata": {
        "colab": {
          "base_uri": "https://localhost:8080/"
        },
        "id": "ahAMVRgDBrNE",
        "outputId": "a66d03a5-6104-430a-e3e6-715a9a88056b"
      },
      "execution_count": null,
      "outputs": [
        {
          "output_type": "execute_result",
          "data": {
            "text/plain": [
              "array([[-0.79024667, -0.52771004, -3.06083934, ..., -0.76702973,\n",
              "         2.08712905, -0.4360152 ],\n",
              "       [ 1.26542767,  1.89498006,  0.32670777, ..., -0.76702973,\n",
              "         2.08712905, -0.4360152 ],\n",
              "       [-0.79024667, -0.52771004,  0.32670777, ...,  1.30373042,\n",
              "        -0.47912706, -0.4360152 ],\n",
              "       ...,\n",
              "       [ 1.26542767,  1.89498006,  0.32670777, ..., -0.76702973,\n",
              "         2.08712905, -0.4360152 ],\n",
              "       [ 1.26542767,  1.89498006,  0.32670777, ...,  1.30373042,\n",
              "        -0.47912706, -0.4360152 ],\n",
              "       [-0.79024667, -0.52771004,  0.32670777, ...,  1.30373042,\n",
              "        -0.47912706, -0.4360152 ]])"
            ]
          },
          "metadata": {},
          "execution_count": 41
        }
      ]
    },
    {
      "cell_type": "code",
      "source": [
        "y_treino"
      ],
      "metadata": {
        "colab": {
          "base_uri": "https://localhost:8080/"
        },
        "id": "YJnsQ2nnGAak",
        "outputId": "ada7ac69-39c2-40d2-efcb-81f384be1881"
      },
      "execution_count": null,
      "outputs": [
        {
          "output_type": "execute_result",
          "data": {
            "text/plain": [
              "4831    0\n",
              "5077    0\n",
              "9023    1\n",
              "4424    1\n",
              "5236    0\n",
              "       ..\n",
              "9785    1\n",
              "7763    1\n",
              "5218    0\n",
              "1346    1\n",
              "3582    0\n",
              "Name: Churn, Length: 7243, dtype: int64"
            ]
          },
          "metadata": {},
          "execution_count": 42
        }
      ]
    },
    {
      "cell_type": "code",
      "source": [
        "#escolho utilizar mediana, porque é o valor central dos nossos dados ordenados\n",
        "np.median(x_treino)"
      ],
      "metadata": {
        "colab": {
          "base_uri": "https://localhost:8080/"
        },
        "id": "Q8vdEff6GNCM",
        "outputId": "f3042287-68ce-4cee-ad60-7ab1adb6e04b"
      },
      "execution_count": null,
      "outputs": [
        {
          "output_type": "execute_result",
          "data": {
            "text/plain": [
              "-0.4461759755508453"
            ]
          },
          "metadata": {},
          "execution_count": 43
        }
      ]
    },
    {
      "cell_type": "code",
      "source": [
        "#biblioteca para criarmos o modelo de machine learning\n",
        "from sklearn.naive_bayes import BernoulliNB"
      ],
      "metadata": {
        "id": "VxpzzKeRGe-b"
      },
      "execution_count": null,
      "outputs": []
    },
    {
      "cell_type": "code",
      "source": [
        "#criamos o modelo\n",
        "bnb = BernoulliNB(binarize=0.44)"
      ],
      "metadata": {
        "id": "P3NabIEOGrHc"
      },
      "execution_count": null,
      "outputs": []
    },
    {
      "cell_type": "code",
      "source": [
        "bnb.fit(x_treino, y_treino)"
      ],
      "metadata": {
        "colab": {
          "base_uri": "https://localhost:8080/",
          "height": 74
        },
        "id": "0as3I-SXHPk8",
        "outputId": "71e13be9-b84e-41a4-cf16-1a7b4911fed7"
      },
      "execution_count": null,
      "outputs": [
        {
          "output_type": "execute_result",
          "data": {
            "text/plain": [
              "BernoulliNB(binarize=0.44)"
            ],
            "text/html": [
              "<style>#sk-container-id-2 {color: black;background-color: white;}#sk-container-id-2 pre{padding: 0;}#sk-container-id-2 div.sk-toggleable {background-color: white;}#sk-container-id-2 label.sk-toggleable__label {cursor: pointer;display: block;width: 100%;margin-bottom: 0;padding: 0.3em;box-sizing: border-box;text-align: center;}#sk-container-id-2 label.sk-toggleable__label-arrow:before {content: \"▸\";float: left;margin-right: 0.25em;color: #696969;}#sk-container-id-2 label.sk-toggleable__label-arrow:hover:before {color: black;}#sk-container-id-2 div.sk-estimator:hover label.sk-toggleable__label-arrow:before {color: black;}#sk-container-id-2 div.sk-toggleable__content {max-height: 0;max-width: 0;overflow: hidden;text-align: left;background-color: #f0f8ff;}#sk-container-id-2 div.sk-toggleable__content pre {margin: 0.2em;color: black;border-radius: 0.25em;background-color: #f0f8ff;}#sk-container-id-2 input.sk-toggleable__control:checked~div.sk-toggleable__content {max-height: 200px;max-width: 100%;overflow: auto;}#sk-container-id-2 input.sk-toggleable__control:checked~label.sk-toggleable__label-arrow:before {content: \"▾\";}#sk-container-id-2 div.sk-estimator input.sk-toggleable__control:checked~label.sk-toggleable__label {background-color: #d4ebff;}#sk-container-id-2 div.sk-label input.sk-toggleable__control:checked~label.sk-toggleable__label {background-color: #d4ebff;}#sk-container-id-2 input.sk-hidden--visually {border: 0;clip: rect(1px 1px 1px 1px);clip: rect(1px, 1px, 1px, 1px);height: 1px;margin: -1px;overflow: hidden;padding: 0;position: absolute;width: 1px;}#sk-container-id-2 div.sk-estimator {font-family: monospace;background-color: #f0f8ff;border: 1px dotted black;border-radius: 0.25em;box-sizing: border-box;margin-bottom: 0.5em;}#sk-container-id-2 div.sk-estimator:hover {background-color: #d4ebff;}#sk-container-id-2 div.sk-parallel-item::after {content: \"\";width: 100%;border-bottom: 1px solid gray;flex-grow: 1;}#sk-container-id-2 div.sk-label:hover label.sk-toggleable__label {background-color: #d4ebff;}#sk-container-id-2 div.sk-serial::before {content: \"\";position: absolute;border-left: 1px solid gray;box-sizing: border-box;top: 0;bottom: 0;left: 50%;z-index: 0;}#sk-container-id-2 div.sk-serial {display: flex;flex-direction: column;align-items: center;background-color: white;padding-right: 0.2em;padding-left: 0.2em;position: relative;}#sk-container-id-2 div.sk-item {position: relative;z-index: 1;}#sk-container-id-2 div.sk-parallel {display: flex;align-items: stretch;justify-content: center;background-color: white;position: relative;}#sk-container-id-2 div.sk-item::before, #sk-container-id-2 div.sk-parallel-item::before {content: \"\";position: absolute;border-left: 1px solid gray;box-sizing: border-box;top: 0;bottom: 0;left: 50%;z-index: -1;}#sk-container-id-2 div.sk-parallel-item {display: flex;flex-direction: column;z-index: 1;position: relative;background-color: white;}#sk-container-id-2 div.sk-parallel-item:first-child::after {align-self: flex-end;width: 50%;}#sk-container-id-2 div.sk-parallel-item:last-child::after {align-self: flex-start;width: 50%;}#sk-container-id-2 div.sk-parallel-item:only-child::after {width: 0;}#sk-container-id-2 div.sk-dashed-wrapped {border: 1px dashed gray;margin: 0 0.4em 0.5em 0.4em;box-sizing: border-box;padding-bottom: 0.4em;background-color: white;}#sk-container-id-2 div.sk-label label {font-family: monospace;font-weight: bold;display: inline-block;line-height: 1.2em;}#sk-container-id-2 div.sk-label-container {text-align: center;}#sk-container-id-2 div.sk-container {/* jupyter's `normalize.less` sets `[hidden] { display: none; }` but bootstrap.min.css set `[hidden] { display: none !important; }` so we also need the `!important` here to be able to override the default hidden behavior on the sphinx rendered scikit-learn.org. See: https://github.com/scikit-learn/scikit-learn/issues/21755 */display: inline-block !important;position: relative;}#sk-container-id-2 div.sk-text-repr-fallback {display: none;}</style><div id=\"sk-container-id-2\" class=\"sk-top-container\"><div class=\"sk-text-repr-fallback\"><pre>BernoulliNB(binarize=0.44)</pre><b>In a Jupyter environment, please rerun this cell to show the HTML representation or trust the notebook. <br />On GitHub, the HTML representation is unable to render, please try loading this page with nbviewer.org.</b></div><div class=\"sk-container\" hidden><div class=\"sk-item\"><div class=\"sk-estimator sk-toggleable\"><input class=\"sk-toggleable__control sk-hidden--visually\" id=\"sk-estimator-id-2\" type=\"checkbox\" checked><label for=\"sk-estimator-id-2\" class=\"sk-toggleable__label sk-toggleable__label-arrow\">BernoulliNB</label><div class=\"sk-toggleable__content\"><pre>BernoulliNB(binarize=0.44)</pre></div></div></div></div></div>"
            ]
          },
          "metadata": {},
          "execution_count": 46
        }
      ]
    },
    {
      "cell_type": "code",
      "source": [
        "predito_BNb = bnb.predict(x_teste)"
      ],
      "metadata": {
        "id": "AL_9k2MtHVg9"
      },
      "execution_count": null,
      "outputs": []
    },
    {
      "cell_type": "code",
      "source": [
        "predito_BNb"
      ],
      "metadata": {
        "colab": {
          "base_uri": "https://localhost:8080/"
        },
        "id": "OVhel-cIHfN9",
        "outputId": "526a19d5-d8d6-492c-8df2-17b6eadd566d"
      },
      "execution_count": null,
      "outputs": [
        {
          "output_type": "execute_result",
          "data": {
            "text/plain": [
              "array([1, 0, 0, ..., 1, 1, 1])"
            ]
          },
          "metadata": {},
          "execution_count": 48
        }
      ]
    },
    {
      "cell_type": "markdown",
      "source": [
        "**Índice Gini**\n",
        "\n",
        "Este índice informa o grau de heterogeneidade dos dados.\n",
        "\n",
        "O objetivo dele é medir a frequência de um elemento aleatório de um nó ser rotulado de maneira incorreta.\n",
        "\n",
        " Em outros termos, esse índice é capaz de medir a impureza de um nó e ele é determinado por meio do seguinte cálculo:\n",
        "![image.png](data:image/png;base64,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)\n",
        "\n",
        "\n",
        "Onde:\n",
        "\n",
        "pi representa a frequência relativa das classes em cada um dos nós;\n",
        "\n",
        "k é o número de classes.\n",
        "\n",
        "Se o índice Gini for igual a 0, isso indica que o nó é puro. No entanto, se o valor dele se aproxima mais do valor 1, o nó é impuro.\n"
      ],
      "metadata": {
        "id": "wldvWnsJ3w2v"
      }
    },
    {
      "cell_type": "markdown",
      "source": [
        "**Entropia**\n",
        "\n",
        "A ideia básica da entropia é medir a **desordem dos dados** de um nó por meio da variável classificadora.\n",
        "\n",
        "Assim como o índice de Gini, ela é utilizada para caracterizar a impureza dos dados e pode ser calculada por meio da seguinte fórmula:\n",
        "\n",
        "![image.png](data:image/png;base64,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)\n",
        "\n",
        "Onde:\n",
        "\n",
        "pi representa a proporção de dados no conjunto de dados (S), pertencentes à classe específica i;\n",
        "\n",
        "c é o número de classes.\n",
        "\n"
      ],
      "metadata": {
        "id": "qw3X-ziA4p04"
      }
    },
    {
      "cell_type": "markdown",
      "source": [
        "Na imagem de exemplo, temos uma orientação sobre Covid-19 para que as pessoas sejam direcionadas a ficarem isoladas ou não.\n",
        "\n",
        "A raiz ou nó inicial representa a pergunta se a pessoa está com sintomas de Covid-19, como aquelas perguntas realizadas pelo médico indicadas no início desse texto.\n",
        "\n",
        "A pergunta é respondida através dos ramos que partem da raiz, separando as pessoas que possuem sintomas das pessoas que não possuem sintomas\n",
        "\n",
        "\n",
        "![image.png](data:image/png;base64,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)"
      ],
      "metadata": {
        "id": "wSK3fwQo3Y9n"
      }
    },
    {
      "cell_type": "markdown",
      "source": [
        "#Implementando o modelo"
      ],
      "metadata": {
        "id": "aGiLlgwY5GOA"
      }
    },
    {
      "cell_type": "code",
      "source": [
        "#biblioteca para criarmos o modelo de machine learning\n",
        "from sklearn.tree import DecisionTreeClassifier"
      ],
      "metadata": {
        "id": "2w9K1wOczbUP"
      },
      "execution_count": 49,
      "outputs": []
    },
    {
      "cell_type": "code",
      "source": [
        "#Instanciando o modelo\n",
        "dtc = DecisionTreeClassifier(criterion='entropy', random_state=42)"
      ],
      "metadata": {
        "id": "avkGHxKZ5TDV"
      },
      "execution_count": 50,
      "outputs": []
    },
    {
      "cell_type": "code",
      "source": [
        "#Treinar o modelo\n",
        "dtc.fit(x_treino, y_treino)"
      ],
      "metadata": {
        "colab": {
          "base_uri": "https://localhost:8080/",
          "height": 74
        },
        "id": "5ciGvyGR5gAx",
        "outputId": "efd86708-839d-48c1-8e0a-8bc9210f7a8e"
      },
      "execution_count": 51,
      "outputs": [
        {
          "output_type": "execute_result",
          "data": {
            "text/plain": [
              "DecisionTreeClassifier(criterion='entropy', random_state=42)"
            ],
            "text/html": [
              "<style>#sk-container-id-3 {color: black;background-color: white;}#sk-container-id-3 pre{padding: 0;}#sk-container-id-3 div.sk-toggleable {background-color: white;}#sk-container-id-3 label.sk-toggleable__label {cursor: pointer;display: block;width: 100%;margin-bottom: 0;padding: 0.3em;box-sizing: border-box;text-align: center;}#sk-container-id-3 label.sk-toggleable__label-arrow:before {content: \"▸\";float: left;margin-right: 0.25em;color: #696969;}#sk-container-id-3 label.sk-toggleable__label-arrow:hover:before {color: black;}#sk-container-id-3 div.sk-estimator:hover label.sk-toggleable__label-arrow:before {color: black;}#sk-container-id-3 div.sk-toggleable__content {max-height: 0;max-width: 0;overflow: hidden;text-align: left;background-color: #f0f8ff;}#sk-container-id-3 div.sk-toggleable__content pre {margin: 0.2em;color: black;border-radius: 0.25em;background-color: #f0f8ff;}#sk-container-id-3 input.sk-toggleable__control:checked~div.sk-toggleable__content {max-height: 200px;max-width: 100%;overflow: auto;}#sk-container-id-3 input.sk-toggleable__control:checked~label.sk-toggleable__label-arrow:before {content: \"▾\";}#sk-container-id-3 div.sk-estimator input.sk-toggleable__control:checked~label.sk-toggleable__label {background-color: #d4ebff;}#sk-container-id-3 div.sk-label input.sk-toggleable__control:checked~label.sk-toggleable__label {background-color: #d4ebff;}#sk-container-id-3 input.sk-hidden--visually {border: 0;clip: rect(1px 1px 1px 1px);clip: rect(1px, 1px, 1px, 1px);height: 1px;margin: -1px;overflow: hidden;padding: 0;position: absolute;width: 1px;}#sk-container-id-3 div.sk-estimator {font-family: monospace;background-color: #f0f8ff;border: 1px dotted black;border-radius: 0.25em;box-sizing: border-box;margin-bottom: 0.5em;}#sk-container-id-3 div.sk-estimator:hover {background-color: #d4ebff;}#sk-container-id-3 div.sk-parallel-item::after {content: \"\";width: 100%;border-bottom: 1px solid gray;flex-grow: 1;}#sk-container-id-3 div.sk-label:hover label.sk-toggleable__label {background-color: #d4ebff;}#sk-container-id-3 div.sk-serial::before {content: \"\";position: absolute;border-left: 1px solid gray;box-sizing: border-box;top: 0;bottom: 0;left: 50%;z-index: 0;}#sk-container-id-3 div.sk-serial {display: flex;flex-direction: column;align-items: center;background-color: white;padding-right: 0.2em;padding-left: 0.2em;position: relative;}#sk-container-id-3 div.sk-item {position: relative;z-index: 1;}#sk-container-id-3 div.sk-parallel {display: flex;align-items: stretch;justify-content: center;background-color: white;position: relative;}#sk-container-id-3 div.sk-item::before, #sk-container-id-3 div.sk-parallel-item::before {content: \"\";position: absolute;border-left: 1px solid gray;box-sizing: border-box;top: 0;bottom: 0;left: 50%;z-index: -1;}#sk-container-id-3 div.sk-parallel-item {display: flex;flex-direction: column;z-index: 1;position: relative;background-color: white;}#sk-container-id-3 div.sk-parallel-item:first-child::after {align-self: flex-end;width: 50%;}#sk-container-id-3 div.sk-parallel-item:last-child::after {align-self: flex-start;width: 50%;}#sk-container-id-3 div.sk-parallel-item:only-child::after {width: 0;}#sk-container-id-3 div.sk-dashed-wrapped {border: 1px dashed gray;margin: 0 0.4em 0.5em 0.4em;box-sizing: border-box;padding-bottom: 0.4em;background-color: white;}#sk-container-id-3 div.sk-label label {font-family: monospace;font-weight: bold;display: inline-block;line-height: 1.2em;}#sk-container-id-3 div.sk-label-container {text-align: center;}#sk-container-id-3 div.sk-container {/* jupyter's `normalize.less` sets `[hidden] { display: none; }` but bootstrap.min.css set `[hidden] { display: none !important; }` so we also need the `!important` here to be able to override the default hidden behavior on the sphinx rendered scikit-learn.org. See: https://github.com/scikit-learn/scikit-learn/issues/21755 */display: inline-block !important;position: relative;}#sk-container-id-3 div.sk-text-repr-fallback {display: none;}</style><div id=\"sk-container-id-3\" class=\"sk-top-container\"><div class=\"sk-text-repr-fallback\"><pre>DecisionTreeClassifier(criterion=&#x27;entropy&#x27;, random_state=42)</pre><b>In a Jupyter environment, please rerun this cell to show the HTML representation or trust the notebook. <br />On GitHub, the HTML representation is unable to render, please try loading this page with nbviewer.org.</b></div><div class=\"sk-container\" hidden><div class=\"sk-item\"><div class=\"sk-estimator sk-toggleable\"><input class=\"sk-toggleable__control sk-hidden--visually\" id=\"sk-estimator-id-3\" type=\"checkbox\" checked><label for=\"sk-estimator-id-3\" class=\"sk-toggleable__label sk-toggleable__label-arrow\">DecisionTreeClassifier</label><div class=\"sk-toggleable__content\"><pre>DecisionTreeClassifier(criterion=&#x27;entropy&#x27;, random_state=42)</pre></div></div></div></div></div>"
            ]
          },
          "metadata": {},
          "execution_count": 51
        }
      ]
    },
    {
      "cell_type": "code",
      "source": [
        "#verificar a importância de cada atributo\n",
        "dtc.feature_importances_"
      ],
      "metadata": {
        "colab": {
          "base_uri": "https://localhost:8080/"
        },
        "id": "bVWtHINY5ggw",
        "outputId": "5d76b171-1f44-4a83-e5ee-513af167f9e8"
      },
      "execution_count": 52,
      "outputs": [
        {
          "output_type": "execute_result",
          "data": {
            "text/plain": [
              "array([0.02100894, 0.01395648, 0.0068095 , 0.01986065, 0.01886452,\n",
              "       0.1627932 , 0.22212421, 0.00939177, 0.00344576, 0.01039829,\n",
              "       0.0019815 , 0.03128648, 0.00065123, 0.00849934, 0.        ,\n",
              "       0.01698366, 0.00622973, 0.        , 0.00964718, 0.01267467,\n",
              "       0.00027769, 0.00770208, 0.01299062, 0.00368329, 0.02047256,\n",
              "       0.00371587, 0.        , 0.00156955, 0.00671244, 0.0003825 ,\n",
              "       0.01126638, 0.03622159, 0.16358635, 0.07445054, 0.01758995,\n",
              "       0.02117825, 0.02183557, 0.01975766])"
            ]
          },
          "metadata": {},
          "execution_count": 52
        }
      ]
    },
    {
      "cell_type": "code",
      "source": [
        "predito_ArvoreDecisao = dtc.predict(x_teste)"
      ],
      "metadata": {
        "id": "JVMHn2ZE5wF4"
      },
      "execution_count": 53,
      "outputs": []
    },
    {
      "cell_type": "code",
      "source": [
        "predito_ArvoreDecisao"
      ],
      "metadata": {
        "colab": {
          "base_uri": "https://localhost:8080/"
        },
        "id": "OHlwPxGF6G7o",
        "outputId": "f1bb145f-2e27-434c-807b-cdfcd4048bf7"
      },
      "execution_count": 54,
      "outputs": [
        {
          "output_type": "execute_result",
          "data": {
            "text/plain": [
              "array([0, 0, 0, ..., 1, 1, 1])"
            ]
          },
          "metadata": {},
          "execution_count": 54
        }
      ]
    },
    {
      "cell_type": "markdown",
      "source": [
        "#Validação dos modelos"
      ],
      "metadata": {
        "id": "DrwqZBCs72rL"
      }
    },
    {
      "cell_type": "code",
      "source": [
        "from sklearn.metrics import confusion_matrix"
      ],
      "metadata": {
        "id": "T63CoAuF7-Xp"
      },
      "execution_count": 55,
      "outputs": []
    },
    {
      "cell_type": "code",
      "source": [
        "print(confusion_matrix(y_teste, predito_Knn))"
      ],
      "metadata": {
        "colab": {
          "base_uri": "https://localhost:8080/"
        },
        "id": "_VlmqifTAXIR",
        "outputId": "405f20b1-6963-46a2-c6cc-e1fbfbb5f0cb"
      },
      "execution_count": 58,
      "outputs": [
        {
          "output_type": "stream",
          "name": "stdout",
          "text": [
            "[[1242  327]\n",
            " [ 248 1288]]\n"
          ]
        }
      ]
    },
    {
      "cell_type": "code",
      "source": [
        "print(confusion_matrix(y_teste, predito_BNb))"
      ],
      "metadata": {
        "colab": {
          "base_uri": "https://localhost:8080/"
        },
        "id": "Wrh04dETAenk",
        "outputId": "675ef356-953d-4617-cc23-08f6b4237ceb"
      },
      "execution_count": 59,
      "outputs": [
        {
          "output_type": "stream",
          "name": "stdout",
          "text": [
            "[[1084  485]\n",
            " [ 238 1298]]\n"
          ]
        }
      ]
    },
    {
      "cell_type": "code",
      "source": [
        "print(confusion_matrix(y_teste, predito_ArvoreDecisao))"
      ],
      "metadata": {
        "colab": {
          "base_uri": "https://localhost:8080/"
        },
        "id": "TjlO0QQ3Aoxp",
        "outputId": "9adf3eb8-4c53-4582-acc8-cd77f70634e4"
      },
      "execution_count": 60,
      "outputs": [
        {
          "output_type": "stream",
          "name": "stdout",
          "text": [
            "[[1250  319]\n",
            " [ 275 1261]]\n"
          ]
        }
      ]
    },
    {
      "cell_type": "markdown",
      "source": [
        "![image.png](data:image/png;base64,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)"
      ],
      "metadata": {
        "id": "Nprcf6ooCOA7"
      }
    },
    {
      "cell_type": "markdown",
      "source": [
        "#Acurácia\n",
        "\n",
        "A acurácia é utilizada quando queremos saber a performance geral do modelo, isto é, dentre todas as classificações realizadas, quantas foram classificadas corretamente pelo modelo."
      ],
      "metadata": {
        "id": "ipQB-2N9C3E8"
      }
    },
    {
      "cell_type": "code",
      "source": [
        "from sklearn.metrics import accuracy_score"
      ],
      "metadata": {
        "id": "ExDyCrNmCvF-"
      },
      "execution_count": 61,
      "outputs": []
    },
    {
      "cell_type": "code",
      "source": [
        "#modelo KNN\n",
        "print(accuracy_score(y_teste, predito_Knn))"
      ],
      "metadata": {
        "colab": {
          "base_uri": "https://localhost:8080/"
        },
        "id": "Lh2ol0i2DCjR",
        "outputId": "6ac7a426-76ca-4f8a-a32b-bacf725286bf"
      },
      "execution_count": 62,
      "outputs": [
        {
          "output_type": "stream",
          "name": "stdout",
          "text": [
            "0.8148148148148148\n"
          ]
        }
      ]
    },
    {
      "cell_type": "code",
      "source": [
        "#modelo Bernoulli de naive bayes\n",
        "print(accuracy_score(y_teste, predito_BNb))"
      ],
      "metadata": {
        "colab": {
          "base_uri": "https://localhost:8080/"
        },
        "id": "QJXLQ9ppIlqg",
        "outputId": "a275b644-bebd-43a0-a761-57ea39693fe3"
      },
      "execution_count": 63,
      "outputs": [
        {
          "output_type": "stream",
          "name": "stdout",
          "text": [
            "0.7671497584541063\n"
          ]
        }
      ]
    },
    {
      "cell_type": "code",
      "source": [
        "#modelo árvore de decisão\n",
        "print(accuracy_score(y_teste, predito_ArvoreDecisao))"
      ],
      "metadata": {
        "colab": {
          "base_uri": "https://localhost:8080/"
        },
        "id": "ijqRvpP6I08x",
        "outputId": "c3d894a6-c2ad-4c55-c4bf-fb99cc28be1d"
      },
      "execution_count": 64,
      "outputs": [
        {
          "output_type": "stream",
          "name": "stdout",
          "text": [
            "0.808695652173913\n"
          ]
        }
      ]
    },
    {
      "cell_type": "markdown",
      "source": [
        "#Precisão"
      ],
      "metadata": {
        "id": "u8WE9Gdxfsag"
      }
    },
    {
      "cell_type": "code",
      "source": [
        "from sklearn.metrics import precision_score"
      ],
      "metadata": {
        "id": "qpbzJEBGfss2"
      },
      "execution_count": 65,
      "outputs": []
    },
    {
      "cell_type": "code",
      "source": [
        "#modelo KNN\n",
        "print(precision_score(y_teste, predito_Knn))"
      ],
      "metadata": {
        "colab": {
          "base_uri": "https://localhost:8080/"
        },
        "id": "5pgAsufKfuuq",
        "outputId": "5932dd3c-d9ae-46a6-ecc4-f1c99e929cf1"
      },
      "execution_count": 66,
      "outputs": [
        {
          "output_type": "stream",
          "name": "stdout",
          "text": [
            "0.7975232198142415\n"
          ]
        }
      ]
    },
    {
      "cell_type": "code",
      "source": [
        "#modelo Bernoulli de naives bayes\n",
        "print(precision_score(y_teste, predito_BNb))"
      ],
      "metadata": {
        "colab": {
          "base_uri": "https://localhost:8080/"
        },
        "id": "W_8i81ckfuWy",
        "outputId": "b657686b-401a-483f-b81c-8fa7e2d3d470"
      },
      "execution_count": 67,
      "outputs": [
        {
          "output_type": "stream",
          "name": "stdout",
          "text": [
            "0.727986539540101\n"
          ]
        }
      ]
    },
    {
      "cell_type": "code",
      "source": [
        "#modelo arvore de decisão\n",
        "print(precision_score(y_teste, predito_ArvoreDecisao))"
      ],
      "metadata": {
        "colab": {
          "base_uri": "https://localhost:8080/"
        },
        "id": "Fy7tMRb7fuJD",
        "outputId": "51423451-88d5-402c-ed87-8eab801b0a03"
      },
      "execution_count": 68,
      "outputs": [
        {
          "output_type": "stream",
          "name": "stdout",
          "text": [
            "0.7981012658227848\n"
          ]
        }
      ]
    },
    {
      "cell_type": "markdown",
      "source": [
        "#- Recall\n",
        "\n",
        "Recall ou revocação ou ainda sensibilidade, que calcula o quão bom o modelo está para classificar corretamente um resultado positivo (TP)"
      ],
      "metadata": {
        "id": "zDapJRMIhRcb"
      }
    },
    {
      "cell_type": "code",
      "source": [
        "from sklearn.metrics import recall_score"
      ],
      "metadata": {
        "id": "TwQFv2uNhLR9"
      },
      "execution_count": 69,
      "outputs": []
    },
    {
      "cell_type": "code",
      "source": [
        "#modelo KNN\n",
        "print(recall_score(y_teste, predito_Knn))"
      ],
      "metadata": {
        "colab": {
          "base_uri": "https://localhost:8080/"
        },
        "id": "t66RpFzOhLHX",
        "outputId": "43d31dc5-c71a-4132-d06e-e054f766c06a"
      },
      "execution_count": 70,
      "outputs": [
        {
          "output_type": "stream",
          "name": "stdout",
          "text": [
            "0.8385416666666666\n"
          ]
        }
      ]
    },
    {
      "cell_type": "code",
      "source": [
        "#modelo Bernoulli de naive bayes\n",
        "print(recall_score(y_teste, predito_BNb))"
      ],
      "metadata": {
        "colab": {
          "base_uri": "https://localhost:8080/"
        },
        "id": "pD3cSw_vh7QX",
        "outputId": "f5045ccb-1b6f-422a-9659-e9a37955fc50"
      },
      "execution_count": 71,
      "outputs": [
        {
          "output_type": "stream",
          "name": "stdout",
          "text": [
            "0.8450520833333334\n"
          ]
        }
      ]
    },
    {
      "cell_type": "code",
      "source": [
        "#modelo árvore de decisão\n",
        "print(recall_score(y_teste, predito_ArvoreDecisao))"
      ],
      "metadata": {
        "colab": {
          "base_uri": "https://localhost:8080/"
        },
        "id": "bdayI7mYh7Kb",
        "outputId": "5c1fed5a-e597-402a-e01b-71559e07bdde"
      },
      "execution_count": 72,
      "outputs": [
        {
          "output_type": "stream",
          "name": "stdout",
          "text": [
            "0.8209635416666666\n"
          ]
        }
      ]
    },
    {
      "cell_type": "markdown",
      "source": [
        "#Escolhendo o melhor modelo"
      ],
      "metadata": {
        "id": "hFpL13e6k2v1"
      }
    },
    {
      "cell_type": "code",
      "source": [
        "# exemplo -  análise das precisões calculadas anteriormente\n",
        "print('Modelo KNN:', precision_score(y_teste, predito_Knn))\n",
        "print('Modelo Bernoulli de naive Bayes: ', precision_score(y_teste, predito_BNb))\n",
        "print('Modelo de Arvore de Decisão: ', precision_score(y_teste, predito_ArvoreDecisao))"
      ],
      "metadata": {
        "colab": {
          "base_uri": "https://localhost:8080/"
        },
        "id": "p_oE29PNk6Yi",
        "outputId": "ac588af7-133c-41ad-be17-7692ca60475d"
      },
      "execution_count": 75,
      "outputs": [
        {
          "output_type": "stream",
          "name": "stdout",
          "text": [
            "Modelo KNN: 0.7975232198142415\n",
            "Modelo Bernoulli de naive Bayes:  0.727986539540101\n",
            "Modelo de Arvore de Decisão:  0.7981012658227848\n"
          ]
        }
      ]
    },
    {
      "cell_type": "markdown",
      "source": [
        "0.428 e 0.461\n",
        "\n",
        "Sabemos que a métrica recall é calculada pela fórmula:\n",
        "![image.png](data:image/png;base64,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)\n",
        "\n",
        "E a métrica f1 score é calculada pela fórmula:\n",
        "\n",
        "\n",
        "![image.png](data:image/png;base64,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)"
      ],
      "metadata": {
        "id": "md7hmbyQmhoz"
      }
    },
    {
      "cell_type": "code",
      "source": [],
      "metadata": {
        "id": "pojAyXhvmQz_"
      },
      "execution_count": null,
      "outputs": []
    }
  ]
}